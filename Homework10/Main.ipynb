{
 "cells": [
  {
   "cell_type": "code",
   "execution_count": 1,
   "id": "cc62ea62-b1c0-438f-ab30-d532b76efb11",
   "metadata": {},
   "outputs": [
    {
     "name": "stderr",
     "output_type": "stream",
     "text": [
      "2023-02-06 14:16:06.356184: I tensorflow/core/platform/cpu_feature_guard.cc:193] This TensorFlow binary is optimized with oneAPI Deep Neural Network Library (oneDNN) to use the following CPU instructions in performance-critical operations:  SSE4.1 SSE4.2 AVX AVX2 FMA\n",
      "To enable them in other operations, rebuild TensorFlow with the appropriate compiler flags.\n"
     ]
    },
    {
     "name": "stdout",
     "output_type": "stream",
     "text": [
      "Initilaize creating Tokens: 1.389 sec\n",
      "Initialize Paring: 1.5374 sec\n",
      "Pairs length:  782782\n",
      "Create Datasets and initialize Preprocess: "
     ]
    },
    {
     "name": "stderr",
     "output_type": "stream",
     "text": [
      "2023-02-06 14:16:13.520148: I tensorflow/core/platform/cpu_feature_guard.cc:193] This TensorFlow binary is optimized with oneAPI Deep Neural Network Library (oneDNN) to use the following CPU instructions in performance-critical operations:  SSE4.1 SSE4.2 AVX AVX2 FMA\n",
      "To enable them in other operations, rebuild TensorFlow with the appropriate compiler flags.\n",
      "2023-02-06 14:16:13.521766: I tensorflow/core/common_runtime/process_util.cc:146] Creating new thread pool with default inter op setting: 2. Tune using inter_op_parallelism_threads for best performance.\n"
     ]
    },
    {
     "name": "stdout",
     "output_type": "stream",
     "text": [
      "3.205 sec\n"
     ]
    },
    {
     "name": "stderr",
     "output_type": "stream",
     "text": [
      "  0%|                                                                                          | 0/9785 [00:00<?, ?it/s]2023-02-06 14:16:14.783100: W tensorflow/core/kernels/data/cache_dataset_ops.cc:856] The calling iterator did not fully read the dataset being cached. In order to avoid unexpected truncation of the dataset, the partially cached contents of the dataset  will be discarded. This can happen if you have an input pipeline similar to `dataset.cache().take(k).repeat()`. You should use `dataset.take(k).cache().repeat()` instead.\n",
      "  0%|                                                                                          | 0/9785 [00:00<?, ?it/s]"
     ]
    },
    {
     "name": "stdout",
     "output_type": "stream",
     "text": [
      "Epoch 0 loss: 2.662961483001709 \n"
     ]
    },
    {
     "name": "stderr",
     "output_type": "stream",
     "text": [
      "\n"
     ]
    },
    {
     "name": "stdout",
     "output_type": "stream",
     "text": [
      "\n",
      "Epoch:  0\n",
      "Evaluation k-nearest neighbours using cosine similarity\n"
     ]
    },
    {
     "name": "stderr",
     "output_type": "stream",
     "text": [
      " 14%|████████████▏                                                                        | 1/7 [00:13<01:22, 13.74s/it]"
     ]
    },
    {
     "name": "stdout",
     "output_type": "stream",
     "text": [
      "holy : \n",
      "dash :  0.5958506\n",
      "determined :  0.56684345\n",
      "therein :  0.5628224\n",
      "curseth :  0.5518258\n",
      "such :  0.5274934\n",
      "\n"
     ]
    },
    {
     "name": "stderr",
     "output_type": "stream",
     "text": [
      " 29%|████████████████████████▎                                                            | 2/7 [00:27<01:09, 13.88s/it]"
     ]
    },
    {
     "name": "stdout",
     "output_type": "stream",
     "text": [
      "father : \n",
      "enquired :  0.58724624\n",
      "arise :  0.5732074\n",
      "inform :  0.56128293\n",
      "ararat :  0.55694956\n",
      "amzi :  0.55148864\n",
      "\n"
     ]
    },
    {
     "name": "stderr",
     "output_type": "stream",
     "text": [
      " 43%|████████████████████████████████████▍                                                | 3/7 [00:42<00:56, 14.11s/it]"
     ]
    },
    {
     "name": "stdout",
     "output_type": "stream",
     "text": [
      "wine : \n",
      "ascend :  0.6042837\n",
      "fir :  0.5993051\n",
      "thrust :  0.57304835\n",
      "fellowlabourer :  0.570156\n",
      "alone :  0.56698203\n",
      "\n"
     ]
    },
    {
     "name": "stderr",
     "output_type": "stream",
     "text": [
      " 57%|████████████████████████████████████████████████▌                                    | 4/7 [00:55<00:42, 14.01s/it]"
     ]
    },
    {
     "name": "stdout",
     "output_type": "stream",
     "text": [
      "poison : \n",
      "occupy :  0.64646816\n",
      "samson :  0.59120965\n",
      "justify :  0.5836405\n",
      "messenger :  0.57460153\n",
      "curseth :  0.5726578\n",
      "\n"
     ]
    },
    {
     "name": "stderr",
     "output_type": "stream",
     "text": [
      " 71%|████████████████████████████████████████████████████████████▋                        | 5/7 [01:10<00:28, 14.14s/it]"
     ]
    },
    {
     "name": "stdout",
     "output_type": "stream",
     "text": [
      "love : \n",
      "demetrius :  0.5931341\n",
      "haggi :  0.58357596\n",
      "point :  0.57561445\n",
      "plow :  0.55814046\n",
      "anethothite :  0.5540074\n",
      "\n"
     ]
    },
    {
     "name": "stderr",
     "output_type": "stream",
     "text": [
      " 86%|████████████████████████████████████████████████████████████████████████▊            | 6/7 [01:24<00:14, 14.23s/it]"
     ]
    },
    {
     "name": "stdout",
     "output_type": "stream",
     "text": [
      "strong : \n",
      "trench :  0.60901034\n",
      "enquired :  0.59488213\n",
      "discouraged :  0.5744839\n",
      "testified :  0.5707761\n",
      "shekels :  0.5499943\n",
      "\n"
     ]
    },
    {
     "name": "stderr",
     "output_type": "stream",
     "text": [
      "100%|█████████████████████████████████████████████████████████████████████████████████████| 7/7 [01:38<00:00, 14.09s/it]\n"
     ]
    },
    {
     "name": "stdout",
     "output_type": "stream",
     "text": [
      "day : \n",
      "seeing :  0.60380214\n",
      "teats :  0.6014524\n",
      "figure :  0.5779697\n",
      "sheaves :  0.5633934\n",
      "propitiation :  0.5617509\n",
      "\n"
     ]
    },
    {
     "name": "stderr",
     "output_type": "stream",
     "text": [
      "  0%|                                                                                          | 0/9785 [00:00<?, ?it/s]2023-02-06 14:17:56.622846: W tensorflow/core/kernels/data/cache_dataset_ops.cc:856] The calling iterator did not fully read the dataset being cached. In order to avoid unexpected truncation of the dataset, the partially cached contents of the dataset  will be discarded. This can happen if you have an input pipeline similar to `dataset.cache().take(k).repeat()`. You should use `dataset.take(k).cache().repeat()` instead.\n",
      "  0%|                                                                                          | 0/9785 [00:00<?, ?it/s]"
     ]
    },
    {
     "name": "stdout",
     "output_type": "stream",
     "text": [
      "Epoch 1 loss: 10.32557201385498 \n",
      "\n",
      "Epoch:  1\n",
      "Evaluation k-nearest neighbours using cosine similarity\n"
     ]
    },
    {
     "name": "stderr",
     "output_type": "stream",
     "text": [
      "\n",
      " 14%|████████████▏                                                                        | 1/7 [00:13<01:23, 13.88s/it]"
     ]
    },
    {
     "name": "stdout",
     "output_type": "stream",
     "text": [
      "holy : \n",
      "dash :  0.5958506\n",
      "determined :  0.56684345\n",
      "therein :  0.5628224\n",
      "curseth :  0.5518258\n",
      "such :  0.5274934\n",
      "\n"
     ]
    },
    {
     "name": "stderr",
     "output_type": "stream",
     "text": [
      " 29%|████████████████████████▎                                                            | 2/7 [00:27<01:10, 14.02s/it]"
     ]
    },
    {
     "name": "stdout",
     "output_type": "stream",
     "text": [
      "father : \n",
      "enquired :  0.58724624\n",
      "arise :  0.5732074\n",
      "inform :  0.56128293\n",
      "ararat :  0.55694956\n",
      "amzi :  0.55148864\n",
      "\n"
     ]
    },
    {
     "name": "stderr",
     "output_type": "stream",
     "text": [
      " 43%|████████████████████████████████████▍                                                | 3/7 [00:42<00:56, 14.05s/it]"
     ]
    },
    {
     "name": "stdout",
     "output_type": "stream",
     "text": [
      "wine : \n",
      "ascend :  0.6042837\n",
      "fir :  0.5993051\n",
      "thrust :  0.57304835\n",
      "fellowlabourer :  0.570156\n",
      "alone :  0.56698203\n",
      "\n"
     ]
    },
    {
     "name": "stderr",
     "output_type": "stream",
     "text": [
      " 57%|████████████████████████████████████████████████▌                                    | 4/7 [00:56<00:42, 14.23s/it]"
     ]
    },
    {
     "name": "stdout",
     "output_type": "stream",
     "text": [
      "poison : \n",
      "occupy :  0.64646816\n",
      "samson :  0.59120965\n",
      "justify :  0.5836405\n",
      "messenger :  0.57460153\n",
      "curseth :  0.5726578\n",
      "\n"
     ]
    },
    {
     "name": "stderr",
     "output_type": "stream",
     "text": [
      " 71%|████████████████████████████████████████████████████████████▋                        | 5/7 [01:10<00:28, 14.27s/it]"
     ]
    },
    {
     "name": "stdout",
     "output_type": "stream",
     "text": [
      "love : \n",
      "demetrius :  0.5931341\n",
      "haggi :  0.58357596\n",
      "point :  0.57561445\n",
      "plow :  0.55814046\n",
      "anethothite :  0.5540074\n",
      "\n"
     ]
    },
    {
     "name": "stderr",
     "output_type": "stream",
     "text": [
      " 86%|████████████████████████████████████████████████████████████████████████▊            | 6/7 [01:24<00:14, 14.15s/it]"
     ]
    },
    {
     "name": "stdout",
     "output_type": "stream",
     "text": [
      "strong : \n",
      "trench :  0.60901034\n",
      "enquired :  0.59488213\n",
      "discouraged :  0.5744839\n",
      "testified :  0.5707761\n",
      "shekels :  0.5499943\n",
      "\n"
     ]
    },
    {
     "name": "stderr",
     "output_type": "stream",
     "text": [
      "100%|█████████████████████████████████████████████████████████████████████████████████████| 7/7 [01:38<00:00, 14.13s/it]\n"
     ]
    },
    {
     "name": "stdout",
     "output_type": "stream",
     "text": [
      "day : \n",
      "seeing :  0.6011829\n",
      "teats :  0.59855556\n",
      "figure :  0.58090943\n",
      "sheaves :  0.5634252\n",
      "propitiation :  0.5618253\n",
      "\n"
     ]
    },
    {
     "name": "stderr",
     "output_type": "stream",
     "text": [
      "  0%|                                                                                          | 0/9785 [00:00<?, ?it/s]2023-02-06 14:19:38.869311: W tensorflow/core/kernels/data/cache_dataset_ops.cc:856] The calling iterator did not fully read the dataset being cached. In order to avoid unexpected truncation of the dataset, the partially cached contents of the dataset  will be discarded. This can happen if you have an input pipeline similar to `dataset.cache().take(k).repeat()`. You should use `dataset.take(k).cache().repeat()` instead.\n",
      "  0%|                                                                                          | 0/9785 [00:00<?, ?it/s]"
     ]
    },
    {
     "name": "stdout",
     "output_type": "stream",
     "text": [
      "Epoch 2 loss: 5.579722881317139 \n",
      "\n",
      "Epoch:  2\n",
      "Evaluation k-nearest neighbours using cosine similarity\n"
     ]
    },
    {
     "name": "stderr",
     "output_type": "stream",
     "text": [
      "\n",
      " 14%|████████████▏                                                                        | 1/7 [00:14<01:25, 14.22s/it]"
     ]
    },
    {
     "name": "stdout",
     "output_type": "stream",
     "text": [
      "holy : \n",
      "dash :  0.5958506\n",
      "determined :  0.56684345\n",
      "therein :  0.5628224\n",
      "curseth :  0.5518258\n",
      "such :  0.5274934\n",
      "\n"
     ]
    },
    {
     "name": "stderr",
     "output_type": "stream",
     "text": [
      " 29%|████████████████████████▎                                                            | 2/7 [00:28<01:11, 14.22s/it]"
     ]
    },
    {
     "name": "stdout",
     "output_type": "stream",
     "text": [
      "father : \n",
      "enquired :  0.58724624\n",
      "arise :  0.5732074\n",
      "inform :  0.56128293\n",
      "ararat :  0.55694956\n",
      "amzi :  0.55148864\n",
      "\n"
     ]
    },
    {
     "name": "stderr",
     "output_type": "stream",
     "text": [
      " 43%|████████████████████████████████████▍                                                | 3/7 [00:42<00:56, 14.05s/it]"
     ]
    },
    {
     "name": "stdout",
     "output_type": "stream",
     "text": [
      "wine : \n",
      "ascend :  0.6042837\n",
      "fir :  0.5993051\n",
      "thrust :  0.57304835\n",
      "fellowlabourer :  0.570156\n",
      "alone :  0.56698203\n",
      "\n"
     ]
    },
    {
     "name": "stderr",
     "output_type": "stream",
     "text": [
      " 57%|████████████████████████████████████████████████▌                                    | 4/7 [00:56<00:41, 13.98s/it]"
     ]
    },
    {
     "name": "stdout",
     "output_type": "stream",
     "text": [
      "poison : \n",
      "occupy :  0.64646816\n",
      "samson :  0.59120965\n",
      "justify :  0.5836405\n",
      "messenger :  0.57460153\n",
      "curseth :  0.5726578\n",
      "\n"
     ]
    },
    {
     "name": "stderr",
     "output_type": "stream",
     "text": [
      " 71%|████████████████████████████████████████████████████████████▋                        | 5/7 [01:10<00:28, 14.08s/it]"
     ]
    },
    {
     "name": "stdout",
     "output_type": "stream",
     "text": [
      "love : \n",
      "demetrius :  0.5931341\n",
      "haggi :  0.58357596\n",
      "point :  0.57561445\n",
      "plow :  0.55814046\n",
      "anethothite :  0.5540074\n",
      "\n"
     ]
    },
    {
     "name": "stderr",
     "output_type": "stream",
     "text": [
      " 86%|████████████████████████████████████████████████████████████████████████▊            | 6/7 [01:24<00:14, 14.08s/it]"
     ]
    },
    {
     "name": "stdout",
     "output_type": "stream",
     "text": [
      "strong : \n",
      "trench :  0.60901034\n",
      "enquired :  0.59488213\n",
      "discouraged :  0.5744839\n",
      "testified :  0.5707761\n",
      "shekels :  0.5499943\n",
      "\n"
     ]
    },
    {
     "name": "stderr",
     "output_type": "stream",
     "text": [
      "100%|█████████████████████████████████████████████████████████████████████████████████████| 7/7 [01:38<00:00, 14.08s/it]\n"
     ]
    },
    {
     "name": "stdout",
     "output_type": "stream",
     "text": [
      "day : \n",
      "seeing :  0.598958\n",
      "teats :  0.5961168\n",
      "figure :  0.5829926\n",
      "sheaves :  0.56326395\n",
      "propitiation :  0.56169766\n",
      "\n"
     ]
    },
    {
     "name": "stderr",
     "output_type": "stream",
     "text": [
      "  0%|                                                                                          | 0/9785 [00:00<?, ?it/s]2023-02-06 14:21:20.751343: W tensorflow/core/kernels/data/cache_dataset_ops.cc:856] The calling iterator did not fully read the dataset being cached. In order to avoid unexpected truncation of the dataset, the partially cached contents of the dataset  will be discarded. This can happen if you have an input pipeline similar to `dataset.cache().take(k).repeat()`. You should use `dataset.take(k).cache().repeat()` instead.\n",
      "  0%|                                                                                          | 0/9785 [00:00<?, ?it/s]"
     ]
    },
    {
     "name": "stdout",
     "output_type": "stream",
     "text": [
      "Epoch 3 loss: 11.004671096801758 \n",
      "\n",
      "Epoch:  3\n",
      "Evaluation k-nearest neighbours using cosine similarity\n"
     ]
    },
    {
     "name": "stderr",
     "output_type": "stream",
     "text": [
      "\n",
      " 14%|████████████▏                                                                        | 1/7 [00:13<01:23, 13.98s/it]"
     ]
    },
    {
     "name": "stdout",
     "output_type": "stream",
     "text": [
      "holy : \n",
      "dash :  0.5958506\n",
      "determined :  0.56684345\n",
      "therein :  0.5628224\n",
      "curseth :  0.5518258\n",
      "such :  0.5274934\n",
      "\n"
     ]
    },
    {
     "name": "stderr",
     "output_type": "stream",
     "text": [
      " 29%|████████████████████████▎                                                            | 2/7 [00:27<01:10, 14.00s/it]"
     ]
    },
    {
     "name": "stdout",
     "output_type": "stream",
     "text": [
      "father : \n",
      "enquired :  0.58724624\n",
      "arise :  0.5732074\n",
      "inform :  0.56128293\n",
      "ararat :  0.55694956\n",
      "amzi :  0.55148864\n",
      "\n"
     ]
    },
    {
     "name": "stderr",
     "output_type": "stream",
     "text": [
      " 43%|████████████████████████████████████▍                                                | 3/7 [00:41<00:55, 13.97s/it]"
     ]
    },
    {
     "name": "stdout",
     "output_type": "stream",
     "text": [
      "wine : \n",
      "ascend :  0.6042837\n",
      "fir :  0.5993051\n",
      "thrust :  0.57304835\n",
      "fellowlabourer :  0.570156\n",
      "alone :  0.56698203\n",
      "\n"
     ]
    },
    {
     "name": "stderr",
     "output_type": "stream",
     "text": [
      " 57%|████████████████████████████████████████████████▌                                    | 4/7 [00:55<00:41, 13.95s/it]"
     ]
    },
    {
     "name": "stdout",
     "output_type": "stream",
     "text": [
      "poison : \n",
      "occupy :  0.64646816\n",
      "samson :  0.59120965\n",
      "justify :  0.5836405\n",
      "messenger :  0.57460153\n",
      "curseth :  0.5726578\n",
      "\n"
     ]
    },
    {
     "name": "stderr",
     "output_type": "stream",
     "text": [
      " 71%|████████████████████████████████████████████████████████████▋                        | 5/7 [01:09<00:27, 13.91s/it]"
     ]
    },
    {
     "name": "stdout",
     "output_type": "stream",
     "text": [
      "love : \n",
      "demetrius :  0.5920911\n",
      "haggi :  0.5860636\n",
      "point :  0.5720621\n",
      "plow :  0.55523217\n",
      "anethothite :  0.5534669\n",
      "\n"
     ]
    },
    {
     "name": "stderr",
     "output_type": "stream",
     "text": [
      " 86%|████████████████████████████████████████████████████████████████████████▊            | 6/7 [01:23<00:13, 13.90s/it]"
     ]
    },
    {
     "name": "stdout",
     "output_type": "stream",
     "text": [
      "strong : \n",
      "trench :  0.60901034\n",
      "enquired :  0.59488213\n",
      "discouraged :  0.5744839\n",
      "testified :  0.5707761\n",
      "shekels :  0.5499943\n",
      "\n"
     ]
    },
    {
     "name": "stderr",
     "output_type": "stream",
     "text": [
      "100%|█████████████████████████████████████████████████████████████████████████████████████| 7/7 [01:37<00:00, 13.94s/it]\n"
     ]
    },
    {
     "name": "stdout",
     "output_type": "stream",
     "text": [
      "day : \n",
      "seeing :  0.5970069\n",
      "teats :  0.5939909\n",
      "figure :  0.58457446\n",
      "sheaves :  0.5630112\n",
      "propitiation :  0.5614728\n",
      "\n"
     ]
    },
    {
     "name": "stderr",
     "output_type": "stream",
     "text": [
      "  0%|                                                                                          | 0/9785 [00:00<?, ?it/s]2023-02-06 14:23:01.735461: W tensorflow/core/kernels/data/cache_dataset_ops.cc:856] The calling iterator did not fully read the dataset being cached. In order to avoid unexpected truncation of the dataset, the partially cached contents of the dataset  will be discarded. This can happen if you have an input pipeline similar to `dataset.cache().take(k).repeat()`. You should use `dataset.take(k).cache().repeat()` instead.\n",
      "  0%|                                                                                          | 0/9785 [00:00<?, ?it/s]"
     ]
    },
    {
     "name": "stdout",
     "output_type": "stream",
     "text": [
      "Epoch 4 loss: 2.6604623794555664 \n",
      "\n",
      "Epoch:  4\n",
      "Evaluation k-nearest neighbours using cosine similarity\n"
     ]
    },
    {
     "name": "stderr",
     "output_type": "stream",
     "text": [
      "\n",
      " 14%|████████████▏                                                                        | 1/7 [00:13<01:23, 13.93s/it]"
     ]
    },
    {
     "name": "stdout",
     "output_type": "stream",
     "text": [
      "holy : \n",
      "dash :  0.5958506\n",
      "determined :  0.56684345\n",
      "therein :  0.5628224\n",
      "curseth :  0.5518258\n",
      "such :  0.5274934\n",
      "\n"
     ]
    },
    {
     "name": "stderr",
     "output_type": "stream",
     "text": [
      " 29%|████████████████████████▎                                                            | 2/7 [00:27<01:09, 13.88s/it]"
     ]
    },
    {
     "name": "stdout",
     "output_type": "stream",
     "text": [
      "father : \n",
      "enquired :  0.58724624\n",
      "arise :  0.5732074\n",
      "inform :  0.56128293\n",
      "ararat :  0.55694956\n",
      "amzi :  0.55148864\n",
      "\n"
     ]
    },
    {
     "name": "stderr",
     "output_type": "stream",
     "text": [
      " 43%|████████████████████████████████████▍                                                | 3/7 [00:41<00:55, 13.93s/it]"
     ]
    },
    {
     "name": "stdout",
     "output_type": "stream",
     "text": [
      "wine : \n",
      "ascend :  0.6042837\n",
      "fir :  0.5993051\n",
      "thrust :  0.57304835\n",
      "fellowlabourer :  0.570156\n",
      "alone :  0.56698203\n",
      "\n"
     ]
    },
    {
     "name": "stderr",
     "output_type": "stream",
     "text": [
      " 57%|████████████████████████████████████████████████▌                                    | 4/7 [00:55<00:41, 13.95s/it]"
     ]
    },
    {
     "name": "stdout",
     "output_type": "stream",
     "text": [
      "poison : \n",
      "occupy :  0.64646816\n",
      "samson :  0.59120965\n",
      "justify :  0.5836405\n",
      "messenger :  0.57460153\n",
      "curseth :  0.5726578\n",
      "\n"
     ]
    },
    {
     "name": "stderr",
     "output_type": "stream",
     "text": [
      " 71%|████████████████████████████████████████████████████████████▋                        | 5/7 [01:09<00:27, 13.96s/it]"
     ]
    },
    {
     "name": "stdout",
     "output_type": "stream",
     "text": [
      "love : \n",
      "demetrius :  0.5910789\n",
      "haggi :  0.5880025\n",
      "point :  0.56895816\n",
      "anethothite :  0.55288374\n",
      "plow :  0.5526705\n",
      "\n"
     ]
    },
    {
     "name": "stderr",
     "output_type": "stream",
     "text": [
      " 86%|████████████████████████████████████████████████████████████████████████▊            | 6/7 [01:23<00:13, 13.93s/it]"
     ]
    },
    {
     "name": "stdout",
     "output_type": "stream",
     "text": [
      "strong : \n",
      "trench :  0.60901034\n",
      "enquired :  0.59488213\n",
      "discouraged :  0.5744839\n",
      "testified :  0.5707761\n",
      "shekels :  0.5499943\n",
      "\n"
     ]
    },
    {
     "name": "stderr",
     "output_type": "stream",
     "text": [
      "100%|█████████████████████████████████████████████████████████████████████████████████████| 7/7 [01:37<00:00, 13.94s/it]\n"
     ]
    },
    {
     "name": "stdout",
     "output_type": "stream",
     "text": [
      "day : \n",
      "seeing :  0.59384924\n",
      "teats :  0.5905622\n",
      "figure :  0.586831\n",
      "sheaves :  0.56241226\n",
      "propitiation :  0.5607639\n",
      "\n"
     ]
    },
    {
     "name": "stderr",
     "output_type": "stream",
     "text": [
      "  0%|                                                                                          | 0/9785 [00:00<?, ?it/s]2023-02-06 14:24:42.672926: W tensorflow/core/kernels/data/cache_dataset_ops.cc:856] The calling iterator did not fully read the dataset being cached. In order to avoid unexpected truncation of the dataset, the partially cached contents of the dataset  will be discarded. This can happen if you have an input pipeline similar to `dataset.cache().take(k).repeat()`. You should use `dataset.take(k).cache().repeat()` instead.\n",
      "  0%|                                                                                          | 0/9785 [00:00<?, ?it/s]"
     ]
    },
    {
     "name": "stdout",
     "output_type": "stream",
     "text": [
      "Epoch 5 loss: 10.989775657653809 \n",
      "\n",
      "Epoch:  5\n",
      "Evaluation k-nearest neighbours using cosine similarity\n"
     ]
    },
    {
     "name": "stderr",
     "output_type": "stream",
     "text": [
      "\n",
      " 14%|████████████▏                                                                        | 1/7 [00:14<01:24, 14.03s/it]"
     ]
    },
    {
     "name": "stdout",
     "output_type": "stream",
     "text": [
      "holy : \n",
      "dash :  0.5958506\n",
      "determined :  0.56684345\n",
      "therein :  0.5610199\n",
      "curseth :  0.5518258\n",
      "such :  0.5274934\n",
      "\n"
     ]
    },
    {
     "name": "stderr",
     "output_type": "stream",
     "text": [
      " 29%|████████████████████████▎                                                            | 2/7 [00:27<01:09, 13.91s/it]"
     ]
    },
    {
     "name": "stdout",
     "output_type": "stream",
     "text": [
      "father : \n",
      "enquired :  0.58724624\n",
      "arise :  0.5732074\n",
      "inform :  0.56128293\n",
      "ararat :  0.55694956\n",
      "amzi :  0.55148864\n",
      "\n"
     ]
    },
    {
     "name": "stderr",
     "output_type": "stream",
     "text": [
      " 43%|████████████████████████████████████▍                                                | 3/7 [00:41<00:55, 13.96s/it]"
     ]
    },
    {
     "name": "stdout",
     "output_type": "stream",
     "text": [
      "wine : \n",
      "ascend :  0.6042837\n",
      "fir :  0.5993051\n",
      "thrust :  0.57304835\n",
      "fellowlabourer :  0.570156\n",
      "alone :  0.56698203\n",
      "\n"
     ]
    },
    {
     "name": "stderr",
     "output_type": "stream",
     "text": [
      " 57%|████████████████████████████████████████████████▌                                    | 4/7 [00:56<00:42, 14.16s/it]"
     ]
    },
    {
     "name": "stdout",
     "output_type": "stream",
     "text": [
      "poison : \n",
      "occupy :  0.64646816\n",
      "samson :  0.59120965\n",
      "justify :  0.5836405\n",
      "messenger :  0.57460153\n",
      "curseth :  0.5726578\n",
      "\n"
     ]
    },
    {
     "name": "stderr",
     "output_type": "stream",
     "text": [
      " 71%|████████████████████████████████████████████████████████████▋                        | 5/7 [01:10<00:28, 14.16s/it]"
     ]
    },
    {
     "name": "stdout",
     "output_type": "stream",
     "text": [
      "love : \n",
      "demetrius :  0.5901142\n",
      "haggi :  0.58955586\n",
      "point :  0.56621283\n",
      "anethothite :  0.5522915\n",
      "plow :  0.5503904\n",
      "\n"
     ]
    },
    {
     "name": "stderr",
     "output_type": "stream",
     "text": [
      " 86%|████████████████████████████████████████████████████████████████████████▊            | 6/7 [01:24<00:14, 14.13s/it]"
     ]
    },
    {
     "name": "stdout",
     "output_type": "stream",
     "text": [
      "strong : \n",
      "trench :  0.60901034\n",
      "enquired :  0.59488213\n",
      "discouraged :  0.5744839\n",
      "testified :  0.5707761\n",
      "shekels :  0.5499943\n",
      "\n"
     ]
    },
    {
     "name": "stderr",
     "output_type": "stream",
     "text": [
      "100%|█████████████████████████████████████████████████████████████████████████████████████| 7/7 [01:38<00:00, 14.06s/it]\n"
     ]
    },
    {
     "name": "stdout",
     "output_type": "stream",
     "text": [
      "day : \n",
      "seeing :  0.5909259\n",
      "figure :  0.58857274\n",
      "teats :  0.58740646\n",
      "sheaves :  0.56170315\n",
      "propitiation :  0.55996084\n",
      "\n"
     ]
    },
    {
     "name": "stderr",
     "output_type": "stream",
     "text": [
      "  0%|                                                                                          | 0/9785 [00:00<?, ?it/s]2023-02-06 14:26:24.460889: W tensorflow/core/kernels/data/cache_dataset_ops.cc:856] The calling iterator did not fully read the dataset being cached. In order to avoid unexpected truncation of the dataset, the partially cached contents of the dataset  will be discarded. This can happen if you have an input pipeline similar to `dataset.cache().take(k).repeat()`. You should use `dataset.take(k).cache().repeat()` instead.\n",
      "  0%|                                                                                          | 0/9785 [00:00<?, ?it/s]"
     ]
    },
    {
     "name": "stdout",
     "output_type": "stream",
     "text": [
      "Epoch 6 loss: 6.0018534660339355 \n",
      "\n",
      "Epoch:  6\n",
      "Evaluation k-nearest neighbours using cosine similarity\n"
     ]
    },
    {
     "name": "stderr",
     "output_type": "stream",
     "text": [
      "\n",
      " 14%|████████████▏                                                                        | 1/7 [00:14<01:24, 14.07s/it]"
     ]
    },
    {
     "name": "stdout",
     "output_type": "stream",
     "text": [
      "holy : \n",
      "dash :  0.5958506\n",
      "determined :  0.56684345\n",
      "therein :  0.5593169\n",
      "curseth :  0.5518258\n",
      "such :  0.5274934\n",
      "\n"
     ]
    },
    {
     "name": "stderr",
     "output_type": "stream",
     "text": [
      " 29%|████████████████████████▎                                                            | 2/7 [00:28<01:10, 14.13s/it]"
     ]
    },
    {
     "name": "stdout",
     "output_type": "stream",
     "text": [
      "father : \n",
      "enquired :  0.58724624\n",
      "arise :  0.5732074\n",
      "inform :  0.56128293\n",
      "ararat :  0.55694956\n",
      "amzi :  0.55148864\n",
      "\n"
     ]
    },
    {
     "name": "stderr",
     "output_type": "stream",
     "text": [
      " 43%|████████████████████████████████████▍                                                | 3/7 [00:42<00:57, 14.26s/it]"
     ]
    },
    {
     "name": "stdout",
     "output_type": "stream",
     "text": [
      "wine : \n",
      "ascend :  0.6042837\n",
      "fir :  0.5993051\n",
      "thrust :  0.57304835\n",
      "fellowlabourer :  0.570156\n",
      "alone :  0.56698203\n",
      "\n"
     ]
    },
    {
     "name": "stderr",
     "output_type": "stream",
     "text": [
      " 57%|████████████████████████████████████████████████▌                                    | 4/7 [00:56<00:42, 14.10s/it]"
     ]
    },
    {
     "name": "stdout",
     "output_type": "stream",
     "text": [
      "poison : \n",
      "occupy :  0.64646816\n",
      "samson :  0.59120965\n",
      "justify :  0.5836405\n",
      "messenger :  0.57460153\n",
      "curseth :  0.5726578\n",
      "\n"
     ]
    },
    {
     "name": "stderr",
     "output_type": "stream",
     "text": [
      " 71%|████████████████████████████████████████████████████████████▋                        | 5/7 [01:10<00:28, 14.02s/it]"
     ]
    },
    {
     "name": "stdout",
     "output_type": "stream",
     "text": [
      "love : \n",
      "haggi :  0.59082496\n",
      "demetrius :  0.5892043\n",
      "point :  0.5637653\n",
      "shemida :  0.55344325\n",
      "anethothite :  0.5517088\n",
      "\n"
     ]
    },
    {
     "name": "stderr",
     "output_type": "stream",
     "text": [
      " 86%|████████████████████████████████████████████████████████████████████████▊            | 6/7 [01:24<00:13, 13.97s/it]"
     ]
    },
    {
     "name": "stdout",
     "output_type": "stream",
     "text": [
      "strong : \n",
      "trench :  0.60901034\n",
      "enquired :  0.59488213\n",
      "discouraged :  0.5744839\n",
      "testified :  0.5707761\n",
      "shekels :  0.5499943\n",
      "\n"
     ]
    },
    {
     "name": "stderr",
     "output_type": "stream",
     "text": [
      "100%|█████████████████████████████████████████████████████████████████████████████████████| 7/7 [01:38<00:00, 14.04s/it]\n"
     ]
    },
    {
     "name": "stdout",
     "output_type": "stream",
     "text": [
      "day : \n",
      "figure :  0.58993924\n",
      "seeing :  0.58822274\n",
      "teats :  0.5845016\n",
      "sheaves :  0.56093895\n",
      "propitiation :  0.5591151\n",
      "\n"
     ]
    },
    {
     "name": "stderr",
     "output_type": "stream",
     "text": [
      "  0%|                                                                                          | 0/9785 [00:00<?, ?it/s]2023-02-06 14:28:06.084313: W tensorflow/core/kernels/data/cache_dataset_ops.cc:856] The calling iterator did not fully read the dataset being cached. In order to avoid unexpected truncation of the dataset, the partially cached contents of the dataset  will be discarded. This can happen if you have an input pipeline similar to `dataset.cache().take(k).repeat()`. You should use `dataset.take(k).cache().repeat()` instead.\n",
      "  0%|                                                                                          | 0/9785 [00:00<?, ?it/s]"
     ]
    },
    {
     "name": "stdout",
     "output_type": "stream",
     "text": [
      "Epoch 7 loss: 10.364392280578613 \n",
      "\n",
      "Epoch:  7\n",
      "Evaluation k-nearest neighbours using cosine similarity\n"
     ]
    },
    {
     "name": "stderr",
     "output_type": "stream",
     "text": [
      "\n",
      " 14%|████████████▏                                                                        | 1/7 [00:14<01:24, 14.15s/it]"
     ]
    },
    {
     "name": "stdout",
     "output_type": "stream",
     "text": [
      "holy : \n",
      "dash :  0.5950135\n",
      "determined :  0.5684231\n",
      "therein :  0.5564735\n",
      "curseth :  0.5508668\n",
      "such :  0.53156936\n",
      "\n"
     ]
    },
    {
     "name": "stderr",
     "output_type": "stream",
     "text": [
      " 29%|████████████████████████▎                                                            | 2/7 [00:28<01:10, 14.06s/it]"
     ]
    },
    {
     "name": "stdout",
     "output_type": "stream",
     "text": [
      "father : \n",
      "enquired :  0.58723193\n",
      "arise :  0.57422346\n",
      "inform :  0.5616592\n",
      "ararat :  0.5552557\n",
      "amzi :  0.55120695\n",
      "\n"
     ]
    },
    {
     "name": "stderr",
     "output_type": "stream",
     "text": [
      " 43%|████████████████████████████████████▍                                                | 3/7 [00:42<00:56, 14.01s/it]"
     ]
    },
    {
     "name": "stdout",
     "output_type": "stream",
     "text": [
      "wine : \n",
      "ascend :  0.6042837\n",
      "fir :  0.5993051\n",
      "thrust :  0.57304835\n",
      "fellowlabourer :  0.570156\n",
      "alone :  0.56698203\n",
      "\n"
     ]
    },
    {
     "name": "stderr",
     "output_type": "stream",
     "text": [
      " 57%|████████████████████████████████████████████████▌                                    | 4/7 [00:56<00:41, 13.99s/it]"
     ]
    },
    {
     "name": "stdout",
     "output_type": "stream",
     "text": [
      "poison : \n",
      "occupy :  0.64646816\n",
      "samson :  0.59120965\n",
      "justify :  0.5836405\n",
      "messenger :  0.57460153\n",
      "curseth :  0.5726578\n",
      "\n"
     ]
    },
    {
     "name": "stderr",
     "output_type": "stream",
     "text": [
      " 71%|████████████████████████████████████████████████████████████▋                        | 5/7 [01:10<00:28, 14.04s/it]"
     ]
    },
    {
     "name": "stdout",
     "output_type": "stream",
     "text": [
      "love : \n",
      "haggi :  0.5918924\n",
      "demetrius :  0.5896574\n",
      "point :  0.5617963\n",
      "shemida :  0.55558705\n",
      "anethothite :  0.5477153\n",
      "\n"
     ]
    },
    {
     "name": "stderr",
     "output_type": "stream",
     "text": [
      " 86%|████████████████████████████████████████████████████████████████████████▊            | 6/7 [01:24<00:14, 14.01s/it]"
     ]
    },
    {
     "name": "stdout",
     "output_type": "stream",
     "text": [
      "strong : \n",
      "trench :  0.60901034\n",
      "enquired :  0.59488213\n",
      "discouraged :  0.5744839\n",
      "testified :  0.5707761\n",
      "shekels :  0.5499943\n",
      "\n"
     ]
    },
    {
     "name": "stderr",
     "output_type": "stream",
     "text": [
      "100%|█████████████████████████████████████████████████████████████████████████████████████| 7/7 [01:38<00:00, 14.05s/it]\n"
     ]
    },
    {
     "name": "stdout",
     "output_type": "stream",
     "text": [
      "day : \n",
      "figure :  0.5902983\n",
      "seeing :  0.5845271\n",
      "teats :  0.5828861\n",
      "propitiation :  0.55904204\n",
      "sheaves :  0.5584154\n",
      "\n"
     ]
    },
    {
     "name": "stderr",
     "output_type": "stream",
     "text": [
      "  0%|                                                                                          | 0/9785 [00:00<?, ?it/s]2023-02-06 14:29:47.837376: W tensorflow/core/kernels/data/cache_dataset_ops.cc:856] The calling iterator did not fully read the dataset being cached. In order to avoid unexpected truncation of the dataset, the partially cached contents of the dataset  will be discarded. This can happen if you have an input pipeline similar to `dataset.cache().take(k).repeat()`. You should use `dataset.take(k).cache().repeat()` instead.\n",
      "  0%|                                                                                          | 0/9785 [00:00<?, ?it/s]"
     ]
    },
    {
     "name": "stdout",
     "output_type": "stream",
     "text": [
      "Epoch 8 loss: 7.321661472320557 \n",
      "\n",
      "Epoch:  8\n",
      "Evaluation k-nearest neighbours using cosine similarity\n"
     ]
    },
    {
     "name": "stderr",
     "output_type": "stream",
     "text": [
      "\n",
      " 14%|████████████▏                                                                        | 1/7 [00:14<01:24, 14.00s/it]"
     ]
    },
    {
     "name": "stdout",
     "output_type": "stream",
     "text": [
      "holy : \n",
      "dash :  0.5941296\n",
      "determined :  0.56969726\n",
      "therein :  0.5536977\n",
      "curseth :  0.5498846\n",
      "such :  0.535075\n",
      "\n"
     ]
    },
    {
     "name": "stderr",
     "output_type": "stream",
     "text": [
      " 29%|████████████████████████▎                                                            | 2/7 [00:28<01:10, 14.03s/it]"
     ]
    },
    {
     "name": "stdout",
     "output_type": "stream",
     "text": [
      "father : \n",
      "enquired :  0.590675\n",
      "arise :  0.57488567\n",
      "inform :  0.5638484\n",
      "ararat :  0.55444795\n",
      "amzi :  0.55200195\n",
      "\n"
     ]
    },
    {
     "name": "stderr",
     "output_type": "stream",
     "text": [
      " 43%|████████████████████████████████████▍                                                | 3/7 [00:41<00:55, 13.98s/it]"
     ]
    },
    {
     "name": "stdout",
     "output_type": "stream",
     "text": [
      "wine : \n",
      "ascend :  0.6042837\n",
      "fir :  0.5993051\n",
      "thrust :  0.57304835\n",
      "fellowlabourer :  0.570156\n",
      "alone :  0.56698203\n",
      "\n"
     ]
    },
    {
     "name": "stderr",
     "output_type": "stream",
     "text": [
      " 57%|████████████████████████████████████████████████▌                                    | 4/7 [00:55<00:41, 13.95s/it]"
     ]
    },
    {
     "name": "stdout",
     "output_type": "stream",
     "text": [
      "poison : \n",
      "occupy :  0.64646816\n",
      "samson :  0.59120965\n",
      "justify :  0.5836405\n",
      "messenger :  0.57460153\n",
      "curseth :  0.5726578\n",
      "\n"
     ]
    },
    {
     "name": "stderr",
     "output_type": "stream",
     "text": [
      " 71%|████████████████████████████████████████████████████████████▋                        | 5/7 [01:09<00:27, 13.92s/it]"
     ]
    },
    {
     "name": "stdout",
     "output_type": "stream",
     "text": [
      "love : \n",
      "haggi :  0.5927597\n",
      "demetrius :  0.5899826\n",
      "point :  0.55998623\n",
      "shemida :  0.5574094\n",
      "bell :  0.54625237\n",
      "\n"
     ]
    },
    {
     "name": "stderr",
     "output_type": "stream",
     "text": [
      " 86%|████████████████████████████████████████████████████████████████████████▊            | 6/7 [01:23<00:13, 13.90s/it]"
     ]
    },
    {
     "name": "stdout",
     "output_type": "stream",
     "text": [
      "strong : \n",
      "trench :  0.60901034\n",
      "enquired :  0.59488213\n",
      "discouraged :  0.5744839\n",
      "testified :  0.5707761\n",
      "shekels :  0.5499943\n",
      "\n"
     ]
    },
    {
     "name": "stderr",
     "output_type": "stream",
     "text": [
      "100%|█████████████████████████████████████████████████████████████████████████████████████| 7/7 [01:37<00:00, 13.92s/it]\n"
     ]
    },
    {
     "name": "stdout",
     "output_type": "stream",
     "text": [
      "day : \n",
      "figure :  0.590488\n",
      "teats :  0.5813371\n",
      "seeing :  0.58114463\n",
      "propitiation :  0.5588575\n",
      "sheaves :  0.5560715\n",
      "\n"
     ]
    },
    {
     "name": "stderr",
     "output_type": "stream",
     "text": [
      "  0%|                                                                                          | 0/9785 [00:00<?, ?it/s]2023-02-06 14:31:28.644709: W tensorflow/core/kernels/data/cache_dataset_ops.cc:856] The calling iterator did not fully read the dataset being cached. In order to avoid unexpected truncation of the dataset, the partially cached contents of the dataset  will be discarded. This can happen if you have an input pipeline similar to `dataset.cache().take(k).repeat()`. You should use `dataset.take(k).cache().repeat()` instead.\n",
      "  0%|                                                                                          | 0/9785 [00:00<?, ?it/s]"
     ]
    },
    {
     "name": "stdout",
     "output_type": "stream",
     "text": [
      "Epoch 9 loss: 4.676178455352783 \n",
      "\n",
      "Epoch:  9\n",
      "Evaluation k-nearest neighbours using cosine similarity\n"
     ]
    },
    {
     "name": "stderr",
     "output_type": "stream",
     "text": [
      "\n",
      " 14%|████████████▏                                                                        | 1/7 [00:13<01:23, 13.94s/it]"
     ]
    },
    {
     "name": "stdout",
     "output_type": "stream",
     "text": [
      "holy : \n",
      "dash :  0.5932284\n",
      "determined :  0.57073104\n",
      "therein :  0.55102265\n",
      "curseth :  0.5489037\n",
      "such :  0.5381112\n",
      "\n"
     ]
    },
    {
     "name": "stderr",
     "output_type": "stream",
     "text": [
      " 29%|████████████████████████▎                                                            | 2/7 [00:27<01:09, 13.89s/it]"
     ]
    },
    {
     "name": "stdout",
     "output_type": "stream",
     "text": [
      "father : \n",
      "enquired :  0.5936405\n",
      "arise :  0.5753641\n",
      "inform :  0.56569636\n",
      "ararat :  0.553614\n",
      "amzi :  0.55260384\n",
      "\n"
     ]
    },
    {
     "name": "stderr",
     "output_type": "stream",
     "text": [
      " 43%|████████████████████████████████████▍                                                | 3/7 [00:41<00:55, 13.86s/it]"
     ]
    },
    {
     "name": "stdout",
     "output_type": "stream",
     "text": [
      "wine : \n",
      "ascend :  0.6042837\n",
      "fir :  0.5993051\n",
      "thrust :  0.57304835\n",
      "fellowlabourer :  0.570156\n",
      "alone :  0.56698203\n",
      "\n"
     ]
    },
    {
     "name": "stderr",
     "output_type": "stream",
     "text": [
      " 57%|████████████████████████████████████████████████▌                                    | 4/7 [00:55<00:41, 13.86s/it]"
     ]
    },
    {
     "name": "stdout",
     "output_type": "stream",
     "text": [
      "poison : \n",
      "occupy :  0.64646816\n",
      "samson :  0.59120965\n",
      "justify :  0.5836405\n",
      "messenger :  0.57460153\n",
      "curseth :  0.5726578\n",
      "\n"
     ]
    },
    {
     "name": "stderr",
     "output_type": "stream",
     "text": [
      " 71%|████████████████████████████████████████████████████████████▋                        | 5/7 [01:09<00:27, 13.92s/it]"
     ]
    },
    {
     "name": "stdout",
     "output_type": "stream",
     "text": [
      "love : \n",
      "haggi :  0.59347063\n",
      "demetrius :  0.5902123\n",
      "shemida :  0.55897194\n",
      "point :  0.5583227\n",
      "bell :  0.54674023\n",
      "\n"
     ]
    },
    {
     "name": "stderr",
     "output_type": "stream",
     "text": [
      " 86%|████████████████████████████████████████████████████████████████████████▊            | 6/7 [01:23<00:13, 13.90s/it]"
     ]
    },
    {
     "name": "stdout",
     "output_type": "stream",
     "text": [
      "strong : \n",
      "trench :  0.60901034\n",
      "enquired :  0.59488213\n",
      "discouraged :  0.5744839\n",
      "testified :  0.5707761\n",
      "shekels :  0.5499943\n",
      "\n"
     ]
    },
    {
     "name": "stderr",
     "output_type": "stream",
     "text": [
      "100%|█████████████████████████████████████████████████████████████████████████████████████| 7/7 [01:37<00:00, 13.89s/it]\n"
     ]
    },
    {
     "name": "stdout",
     "output_type": "stream",
     "text": [
      "day : \n",
      "figure :  0.5905566\n",
      "teats :  0.57986623\n",
      "seeing :  0.57804865\n",
      "propitiation :  0.5585998\n",
      "nimrim :  0.55641305\n",
      "\n"
     ]
    },
    {
     "name": "stderr",
     "output_type": "stream",
     "text": [
      "  0%|                                                                                          | 0/9785 [00:00<?, ?it/s]2023-02-06 14:33:09.333070: W tensorflow/core/kernels/data/cache_dataset_ops.cc:856] The calling iterator did not fully read the dataset being cached. In order to avoid unexpected truncation of the dataset, the partially cached contents of the dataset  will be discarded. This can happen if you have an input pipeline similar to `dataset.cache().take(k).repeat()`. You should use `dataset.take(k).cache().repeat()` instead.\n",
      "  0%|                                                                                          | 0/9785 [00:00<?, ?it/s]"
     ]
    },
    {
     "name": "stdout",
     "output_type": "stream",
     "text": [
      "Epoch 10 loss: 11.312969207763672 \n",
      "\n",
      "Epoch:  10\n",
      "Evaluation k-nearest neighbours using cosine similarity\n"
     ]
    },
    {
     "name": "stderr",
     "output_type": "stream",
     "text": [
      "\n",
      " 14%|████████████▏                                                                        | 1/7 [00:13<01:23, 13.84s/it]"
     ]
    },
    {
     "name": "stdout",
     "output_type": "stream",
     "text": [
      "holy : \n",
      "dash :  0.59233075\n",
      "determined :  0.5715738\n",
      "therein :  0.54846907\n",
      "curseth :  0.5479411\n",
      "such :  0.5407566\n",
      "\n"
     ]
    },
    {
     "name": "stderr",
     "output_type": "stream",
     "text": [
      " 29%|████████████████████████▎                                                            | 2/7 [00:27<01:09, 13.91s/it]"
     ]
    },
    {
     "name": "stdout",
     "output_type": "stream",
     "text": [
      "father : \n",
      "enquired :  0.59621\n",
      "arise :  0.5757016\n",
      "inform :  0.56726605\n",
      "amzi :  0.553056\n",
      "ararat :  0.5527757\n",
      "\n"
     ]
    },
    {
     "name": "stderr",
     "output_type": "stream",
     "text": [
      " 43%|████████████████████████████████████▍                                                | 3/7 [00:41<00:55, 13.86s/it]"
     ]
    },
    {
     "name": "stdout",
     "output_type": "stream",
     "text": [
      "wine : \n",
      "ascend :  0.6042837\n",
      "fir :  0.5993051\n",
      "thrust :  0.57304835\n",
      "fellowlabourer :  0.570156\n",
      "alone :  0.56698203\n",
      "\n"
     ]
    },
    {
     "name": "stderr",
     "output_type": "stream",
     "text": [
      " 57%|████████████████████████████████████████████████▌                                    | 4/7 [00:55<00:41, 13.86s/it]"
     ]
    },
    {
     "name": "stdout",
     "output_type": "stream",
     "text": [
      "poison : \n",
      "occupy :  0.64646816\n",
      "samson :  0.59120965\n",
      "justify :  0.5836405\n",
      "messenger :  0.57460153\n",
      "curseth :  0.5726578\n",
      "\n"
     ]
    },
    {
     "name": "stderr",
     "output_type": "stream",
     "text": [
      " 71%|████████████████████████████████████████████████████████████▋                        | 5/7 [01:09<00:27, 13.87s/it]"
     ]
    },
    {
     "name": "stdout",
     "output_type": "stream",
     "text": [
      "love : \n",
      "haggi :  0.5940576\n",
      "demetrius :  0.59037024\n",
      "shemida :  0.5603214\n",
      "point :  0.5567944\n",
      "bell :  0.54713196\n",
      "\n"
     ]
    },
    {
     "name": "stderr",
     "output_type": "stream",
     "text": [
      " 86%|████████████████████████████████████████████████████████████████████████▊            | 6/7 [01:23<00:13, 13.86s/it]"
     ]
    },
    {
     "name": "stdout",
     "output_type": "stream",
     "text": [
      "strong : \n",
      "trench :  0.60901034\n",
      "enquired :  0.59488213\n",
      "discouraged :  0.5744839\n",
      "testified :  0.5707761\n",
      "shekels :  0.5499943\n",
      "\n"
     ]
    },
    {
     "name": "stderr",
     "output_type": "stream",
     "text": [
      "100%|█████████████████████████████████████████████████████████████████████████████████████| 7/7 [01:37<00:00, 13.89s/it]\n"
     ]
    },
    {
     "name": "stdout",
     "output_type": "stream",
     "text": [
      "day : \n",
      "figure :  0.59053916\n",
      "teats :  0.5784793\n",
      "seeing :  0.57521486\n",
      "propitiation :  0.558296\n",
      "nimrim :  0.5568675\n",
      "\n"
     ]
    },
    {
     "name": "stderr",
     "output_type": "stream",
     "text": [
      "  0%|                                                                                          | 0/9785 [00:00<?, ?it/s]2023-02-06 14:34:49.889989: W tensorflow/core/kernels/data/cache_dataset_ops.cc:856] The calling iterator did not fully read the dataset being cached. In order to avoid unexpected truncation of the dataset, the partially cached contents of the dataset  will be discarded. This can happen if you have an input pipeline similar to `dataset.cache().take(k).repeat()`. You should use `dataset.take(k).cache().repeat()` instead.\n",
      "  0%|                                                                                          | 0/9785 [00:00<?, ?it/s]"
     ]
    },
    {
     "name": "stdout",
     "output_type": "stream",
     "text": [
      "Epoch 11 loss: 4.25919246673584 \n",
      "\n",
      "Epoch:  11\n",
      "Evaluation k-nearest neighbours using cosine similarity\n"
     ]
    },
    {
     "name": "stderr",
     "output_type": "stream",
     "text": [
      "\n",
      " 14%|████████████▏                                                                        | 1/7 [00:13<01:23, 13.88s/it]"
     ]
    },
    {
     "name": "stdout",
     "output_type": "stream",
     "text": [
      "holy : \n",
      "dash :  0.5914508\n",
      "determined :  0.57226324\n",
      "curseth :  0.5470081\n",
      "therein :  0.5460483\n",
      "such :  0.5430726\n",
      "\n"
     ]
    },
    {
     "name": "stderr",
     "output_type": "stream",
     "text": [
      " 29%|████████████████████████▎                                                            | 2/7 [00:27<01:09, 13.86s/it]"
     ]
    },
    {
     "name": "stdout",
     "output_type": "stream",
     "text": [
      "father : \n",
      "enquired :  0.5984476\n",
      "arise :  0.5759307\n",
      "inform :  0.5686066\n",
      "amzi :  0.55339134\n",
      "ararat :  0.5519484\n",
      "\n"
     ]
    },
    {
     "name": "stderr",
     "output_type": "stream",
     "text": [
      " 43%|████████████████████████████████████▍                                                | 3/7 [00:41<00:55, 13.89s/it]"
     ]
    },
    {
     "name": "stdout",
     "output_type": "stream",
     "text": [
      "wine : \n",
      "ascend :  0.6042837\n",
      "fir :  0.5993051\n",
      "thrust :  0.57304835\n",
      "fellowlabourer :  0.570156\n",
      "alone :  0.56698203\n",
      "\n"
     ]
    },
    {
     "name": "stderr",
     "output_type": "stream",
     "text": [
      " 57%|████████████████████████████████████████████████▌                                    | 4/7 [00:55<00:41, 13.87s/it]"
     ]
    },
    {
     "name": "stdout",
     "output_type": "stream",
     "text": [
      "poison : \n",
      "occupy :  0.64646816\n",
      "samson :  0.59120965\n",
      "justify :  0.5836405\n",
      "messenger :  0.57460153\n",
      "curseth :  0.5726578\n",
      "\n"
     ]
    },
    {
     "name": "stderr",
     "output_type": "stream",
     "text": [
      " 71%|████████████████████████████████████████████████████████████▋                        | 5/7 [01:09<00:27, 13.77s/it]"
     ]
    },
    {
     "name": "stdout",
     "output_type": "stream",
     "text": [
      "love : \n",
      "haggi :  0.5939437\n",
      "demetrius :  0.5906745\n",
      "shemida :  0.56100476\n",
      "point :  0.55559456\n",
      "bell :  0.5484775\n",
      "\n"
     ]
    },
    {
     "name": "stderr",
     "output_type": "stream",
     "text": [
      " 86%|████████████████████████████████████████████████████████████████████████▊            | 6/7 [01:22<00:13, 13.74s/it]"
     ]
    },
    {
     "name": "stdout",
     "output_type": "stream",
     "text": [
      "strong : \n",
      "trench :  0.60901034\n",
      "enquired :  0.59488213\n",
      "discouraged :  0.5744839\n",
      "testified :  0.5707761\n",
      "shekels :  0.5499943\n",
      "\n"
     ]
    },
    {
     "name": "stderr",
     "output_type": "stream",
     "text": [
      "100%|█████████████████████████████████████████████████████████████████████████████████████| 7/7 [01:36<00:00, 13.77s/it]\n"
     ]
    },
    {
     "name": "stdout",
     "output_type": "stream",
     "text": [
      "day : \n",
      "figure :  0.5904609\n",
      "teats :  0.57717836\n",
      "seeing :  0.57262105\n",
      "propitiation :  0.5579653\n",
      "nimrim :  0.5572145\n",
      "\n"
     ]
    },
    {
     "name": "stderr",
     "output_type": "stream",
     "text": [
      "  0%|                                                                                          | 0/9785 [00:00<?, ?it/s]2023-02-06 14:36:29.619441: W tensorflow/core/kernels/data/cache_dataset_ops.cc:856] The calling iterator did not fully read the dataset being cached. In order to avoid unexpected truncation of the dataset, the partially cached contents of the dataset  will be discarded. This can happen if you have an input pipeline similar to `dataset.cache().take(k).repeat()`. You should use `dataset.take(k).cache().repeat()` instead.\n",
      "  0%|                                                                                          | 0/9785 [00:00<?, ?it/s]"
     ]
    },
    {
     "name": "stdout",
     "output_type": "stream",
     "text": [
      "Epoch 12 loss: 6.568507194519043 \n",
      "\n",
      "Epoch:  12\n",
      "Evaluation k-nearest neighbours using cosine similarity\n"
     ]
    },
    {
     "name": "stderr",
     "output_type": "stream",
     "text": [
      "\n",
      " 14%|████████████▏                                                                        | 1/7 [00:13<01:22, 13.76s/it]"
     ]
    },
    {
     "name": "stdout",
     "output_type": "stream",
     "text": [
      "holy : \n",
      "dash :  0.59059864\n",
      "determined :  0.572829\n",
      "curseth :  0.5461124\n",
      "such :  0.54510885\n",
      "therein :  0.5437661\n",
      "\n"
     ]
    },
    {
     "name": "stderr",
     "output_type": "stream",
     "text": [
      " 29%|████████████████████████▎                                                            | 2/7 [00:27<01:08, 13.66s/it]"
     ]
    },
    {
     "name": "stdout",
     "output_type": "stream",
     "text": [
      "father : \n",
      "enquired :  0.60040474\n",
      "arise :  0.57607657\n",
      "inform :  0.56975687\n",
      "amzi :  0.5536355\n",
      "ararat :  0.55114275\n",
      "\n"
     ]
    },
    {
     "name": "stderr",
     "output_type": "stream",
     "text": [
      " 43%|████████████████████████████████████▍                                                | 3/7 [00:40<00:54, 13.62s/it]"
     ]
    },
    {
     "name": "stdout",
     "output_type": "stream",
     "text": [
      "wine : \n",
      "ascend :  0.6042837\n",
      "fir :  0.5993051\n",
      "thrust :  0.57304835\n",
      "fellowlabourer :  0.570156\n",
      "alone :  0.56698203\n",
      "\n"
     ]
    },
    {
     "name": "stderr",
     "output_type": "stream",
     "text": [
      " 57%|████████████████████████████████████████████████▌                                    | 4/7 [00:54<00:40, 13.61s/it]"
     ]
    },
    {
     "name": "stdout",
     "output_type": "stream",
     "text": [
      "poison : \n",
      "occupy :  0.64646816\n",
      "samson :  0.59120965\n",
      "justify :  0.5836405\n",
      "messenger :  0.57460153\n",
      "curseth :  0.5726578\n",
      "\n"
     ]
    },
    {
     "name": "stderr",
     "output_type": "stream",
     "text": [
      " 71%|████████████████████████████████████████████████████████████▋                        | 5/7 [01:08<00:27, 13.60s/it]"
     ]
    },
    {
     "name": "stdout",
     "output_type": "stream",
     "text": [
      "love : \n",
      "haggi :  0.59378844\n",
      "demetrius :  0.5908959\n",
      "shemida :  0.56157017\n",
      "point :  0.5544653\n",
      "bell :  0.5496398\n",
      "\n"
     ]
    },
    {
     "name": "stderr",
     "output_type": "stream",
     "text": [
      " 86%|████████████████████████████████████████████████████████████████████████▊            | 6/7 [01:21<00:13, 13.60s/it]"
     ]
    },
    {
     "name": "stdout",
     "output_type": "stream",
     "text": [
      "strong : \n",
      "trench :  0.60901034\n",
      "enquired :  0.59488213\n",
      "discouraged :  0.5744839\n",
      "testified :  0.5707761\n",
      "shekels :  0.5499943\n",
      "\n"
     ]
    },
    {
     "name": "stderr",
     "output_type": "stream",
     "text": [
      "100%|█████████████████████████████████████████████████████████████████████████████████████| 7/7 [01:35<00:00, 13.63s/it]\n"
     ]
    },
    {
     "name": "stdout",
     "output_type": "stream",
     "text": [
      "day : \n",
      "figure :  0.5903404\n",
      "teats :  0.5759628\n",
      "seeing :  0.5702469\n",
      "propitiation :  0.5576211\n",
      "nimrim :  0.5574782\n",
      "\n"
     ]
    },
    {
     "name": "stderr",
     "output_type": "stream",
     "text": [
      "  0%|                                                                                          | 0/9785 [00:00<?, ?it/s]2023-02-06 14:38:08.278687: W tensorflow/core/kernels/data/cache_dataset_ops.cc:856] The calling iterator did not fully read the dataset being cached. In order to avoid unexpected truncation of the dataset, the partially cached contents of the dataset  will be discarded. This can happen if you have an input pipeline similar to `dataset.cache().take(k).repeat()`. You should use `dataset.take(k).cache().repeat()` instead.\n",
      "  0%|                                                                                          | 0/9785 [00:00<?, ?it/s]"
     ]
    },
    {
     "name": "stdout",
     "output_type": "stream",
     "text": [
      "Epoch 13 loss: 11.073118209838867 \n",
      "\n",
      "Epoch:  13\n",
      "Evaluation k-nearest neighbours using cosine similarity\n"
     ]
    },
    {
     "name": "stderr",
     "output_type": "stream",
     "text": [
      "\n",
      " 14%|████████████▏                                                                        | 1/7 [00:13<01:21, 13.56s/it]"
     ]
    },
    {
     "name": "stdout",
     "output_type": "stream",
     "text": [
      "holy : \n",
      "dash :  0.5897808\n",
      "determined :  0.5732945\n",
      "such :  0.5469059\n",
      "curseth :  0.54525876\n",
      "therein :  0.54162395\n",
      "\n"
     ]
    },
    {
     "name": "stderr",
     "output_type": "stream",
     "text": [
      " 29%|████████████████████████▎                                                            | 2/7 [00:27<01:07, 13.50s/it]"
     ]
    },
    {
     "name": "stdout",
     "output_type": "stream",
     "text": [
      "father : \n",
      "enquired :  0.6021231\n",
      "arise :  0.5761585\n",
      "inform :  0.570748\n",
      "amzi :  0.55380833\n",
      "ararat :  0.55036616\n",
      "\n"
     ]
    },
    {
     "name": "stderr",
     "output_type": "stream",
     "text": [
      " 43%|████████████████████████████████████▍                                                | 3/7 [00:40<00:53, 13.48s/it]"
     ]
    },
    {
     "name": "stdout",
     "output_type": "stream",
     "text": [
      "wine : \n",
      "ascend :  0.6042837\n",
      "fir :  0.5993051\n",
      "thrust :  0.57304835\n",
      "fellowlabourer :  0.570156\n",
      "alone :  0.56698203\n",
      "\n"
     ]
    },
    {
     "name": "stderr",
     "output_type": "stream",
     "text": [
      " 57%|████████████████████████████████████████████████▌                                    | 4/7 [00:54<00:40, 13.54s/it]"
     ]
    },
    {
     "name": "stdout",
     "output_type": "stream",
     "text": [
      "poison : \n",
      "occupy :  0.64646816\n",
      "samson :  0.59120965\n",
      "justify :  0.5836405\n",
      "messenger :  0.57460153\n",
      "curseth :  0.5726578\n",
      "\n"
     ]
    },
    {
     "name": "stderr",
     "output_type": "stream",
     "text": [
      " 71%|████████████████████████████████████████████████████████████▋                        | 5/7 [01:07<00:27, 13.55s/it]"
     ]
    },
    {
     "name": "stdout",
     "output_type": "stream",
     "text": [
      "love : \n",
      "haggi :  0.59360564\n",
      "demetrius :  0.59105307\n",
      "shemida :  0.5620395\n",
      "point :  0.5534067\n",
      "bell :  0.5506487\n",
      "\n"
     ]
    },
    {
     "name": "stderr",
     "output_type": "stream",
     "text": [
      " 86%|████████████████████████████████████████████████████████████████████████▊            | 6/7 [01:21<00:13, 13.56s/it]"
     ]
    },
    {
     "name": "stdout",
     "output_type": "stream",
     "text": [
      "strong : \n",
      "trench :  0.60901034\n",
      "enquired :  0.59488213\n",
      "discouraged :  0.5744839\n",
      "testified :  0.5707761\n",
      "shekels :  0.5499943\n",
      "\n"
     ]
    },
    {
     "name": "stderr",
     "output_type": "stream",
     "text": [
      "100%|█████████████████████████████████████████████████████████████████████████████████████| 7/7 [01:35<00:00, 13.59s/it]\n"
     ]
    },
    {
     "name": "stdout",
     "output_type": "stream",
     "text": [
      "day : \n",
      "figure :  0.5901915\n",
      "teats :  0.5748307\n",
      "seeing :  0.56807387\n",
      "nimrim :  0.5576768\n",
      "propitiation :  0.5572735\n",
      "\n"
     ]
    },
    {
     "name": "stderr",
     "output_type": "stream",
     "text": [
      "  0%|                                                                                          | 0/9785 [00:00<?, ?it/s]2023-02-06 14:39:46.626884: W tensorflow/core/kernels/data/cache_dataset_ops.cc:856] The calling iterator did not fully read the dataset being cached. In order to avoid unexpected truncation of the dataset, the partially cached contents of the dataset  will be discarded. This can happen if you have an input pipeline similar to `dataset.cache().take(k).repeat()`. You should use `dataset.take(k).cache().repeat()` instead.\n",
      "  0%|                                                                                          | 0/9785 [00:00<?, ?it/s]"
     ]
    },
    {
     "name": "stdout",
     "output_type": "stream",
     "text": [
      "Epoch 14 loss: 6.283019065856934 \n",
      "\n",
      "Epoch:  14\n",
      "Evaluation k-nearest neighbours using cosine similarity\n"
     ]
    },
    {
     "name": "stderr",
     "output_type": "stream",
     "text": [
      "\n",
      " 14%|████████████▏                                                                        | 1/7 [00:13<01:22, 13.80s/it]"
     ]
    },
    {
     "name": "stdout",
     "output_type": "stream",
     "text": [
      "holy : \n",
      "dash :  0.58900154\n",
      "determined :  0.5736782\n",
      "such :  0.54849696\n",
      "curseth :  0.5444501\n",
      "therein :  0.53962034\n",
      "\n"
     ]
    },
    {
     "name": "stderr",
     "output_type": "stream",
     "text": [
      " 29%|████████████████████████▎                                                            | 2/7 [00:27<01:08, 13.72s/it]"
     ]
    },
    {
     "name": "stdout",
     "output_type": "stream",
     "text": [
      "father : \n",
      "enquired :  0.603637\n",
      "arise :  0.5761918\n",
      "inform :  0.5716053\n",
      "amzi :  0.5539255\n",
      "ararat :  0.5496236\n",
      "\n"
     ]
    },
    {
     "name": "stderr",
     "output_type": "stream",
     "text": [
      " 43%|████████████████████████████████████▍                                                | 3/7 [00:41<00:54, 13.65s/it]"
     ]
    },
    {
     "name": "stdout",
     "output_type": "stream",
     "text": [
      "wine : \n",
      "ascend :  0.6042837\n",
      "fir :  0.5993051\n",
      "thrust :  0.57304835\n",
      "fellowlabourer :  0.570156\n",
      "alone :  0.56698203\n",
      "\n"
     ]
    },
    {
     "name": "stderr",
     "output_type": "stream",
     "text": [
      " 57%|████████████████████████████████████████████████▌                                    | 4/7 [00:54<00:40, 13.66s/it]"
     ]
    },
    {
     "name": "stdout",
     "output_type": "stream",
     "text": [
      "poison : \n",
      "occupy :  0.64646816\n",
      "samson :  0.59120965\n",
      "justify :  0.5836405\n",
      "messenger :  0.57460153\n",
      "curseth :  0.5726578\n",
      "\n"
     ]
    },
    {
     "name": "stderr",
     "output_type": "stream",
     "text": [
      " 71%|████████████████████████████████████████████████████████████▋                        | 5/7 [01:08<00:27, 13.64s/it]"
     ]
    },
    {
     "name": "stdout",
     "output_type": "stream",
     "text": [
      "love : \n",
      "haggi :  0.59340554\n",
      "demetrius :  0.5911603\n",
      "shemida :  0.5624307\n",
      "point :  0.5524177\n",
      "bell :  0.5515279\n",
      "\n"
     ]
    },
    {
     "name": "stderr",
     "output_type": "stream",
     "text": [
      " 86%|████████████████████████████████████████████████████████████████████████▊            | 6/7 [01:22<00:13, 13.67s/it]"
     ]
    },
    {
     "name": "stdout",
     "output_type": "stream",
     "text": [
      "strong : \n",
      "trench :  0.60901034\n",
      "enquired :  0.59488213\n",
      "discouraged :  0.5744839\n",
      "testified :  0.5707761\n",
      "shekels :  0.5499943\n",
      "\n"
     ]
    },
    {
     "name": "stderr",
     "output_type": "stream",
     "text": [
      "100%|█████████████████████████████████████████████████████████████████████████████████████| 7/7 [01:35<00:00, 13.66s/it]"
     ]
    },
    {
     "name": "stdout",
     "output_type": "stream",
     "text": [
      "day : \n",
      "figure :  0.5891353\n",
      "teats :  0.57288754\n",
      "seeing :  0.56620824\n",
      "propitiation :  0.56146395\n",
      "nimrim :  0.55860883\n",
      "\n"
     ]
    },
    {
     "name": "stderr",
     "output_type": "stream",
     "text": [
      "\n"
     ]
    }
   ],
   "source": [
    "import tensorflow as tf\n",
    "import tqdm\n",
    "import datetime\n",
    "\n",
    "from data_processing import get_preprocessed_data\n",
    "from model import SkipGram, get_Model\n",
    "\n",
    "# loading data\n",
    "file_name = \"bible.txt\"\n",
    "file_path = f\"data/{file_name}\"\n",
    "\n",
    "config_name = \"Voc-10000_Epoch-15\"\n",
    "\n",
    "VOCABULARY = 10000 #10000\n",
    "WINDOW = 1 # because window is i - 2 and i + 2 then = 5\n",
    "TRAIN_PART = 0.8 # partition of the data to be training data\n",
    "EMBEDDING = 32 # size of the embedding\n",
    "BATCH = 64 # batch_size\n",
    "EPOCHS = 15\n",
    "K = 5\n",
    "NEGATIVE_SAMPLES = 1\n",
    "\n",
    "words_keep_track = [\"holy\", \"father\", \"wine\", \"poison\", \"love\", \"strong\", \"day\"]\n",
    "\n",
    "(train_ds, test_ds), tokenizer = get_preprocessed_data(file_path,VOCABULARY,WINDOW,TRAIN_PART,BATCH)\n",
    "words_sequence = tf.reshape(tf.cast(tokenizer.texts_to_sequences([words_keep_track]),tf.int64),[-1])\n",
    "cosine_similarity = tf.keras.losses.CosineSimilarity(axis=1)\n",
    "\n",
    "model = SkipGram(VOCABULARY,EMBEDDING,NEGATIVE_SAMPLES)\n",
    "#model, skipgram = \n",
    "model.compile(optimizer='adam')\n",
    "\n",
    "# build model\n",
    "test_tensor = tf.zeros(shape=(64,2,1))\n",
    "model(test_tensor)\n",
    "\n",
    "#training loop \n",
    "\n",
    "time_string = datetime.datetime.now().strftime(\"%Y%m%d-%H%M%S\")\n",
    "# custom instead of time_string\n",
    "config = config_name\n",
    "\n",
    "train_file_path = f\"logs/{config_name}/{time_string}/train\"\n",
    "test_file_path = f\"logs/{config_name}/{time_string}/test\"\n",
    "train_summary_writer = tf.summary.create_file_writer(train_file_path)\n",
    "test_summary_writer = tf.summary.create_file_writer(test_file_path)\n",
    "\n",
    "for e in range (EPOCHS):\n",
    "\n",
    "    for s in tqdm.tqdm(train_ds,position=0,leave=True):\n",
    "        metrics = model.train_step(tf.expand_dims(s,axis=-1))\n",
    "        break # TODO\n",
    "\n",
    "    # log in tensorboard and print\n",
    "    with train_summary_writer.as_default():\n",
    "        [tf.summary.scalar(name = m.name, data = m.result(),step=e) for m in model.metrics]\n",
    "\n",
    "    [ tf.print(f\"Epoch {e} {k}: {v.numpy()} \") for (k,v) in metrics.items() ]\n",
    "\n",
    "    model.reset_metrics()\n",
    "\n",
    "    print(\"\\nEpoch: \", e)\n",
    "    print(\"Evaluation k-nearest neighbours using cosine similarity\")\n",
    "\n",
    "    # calculate whole embedding \n",
    "    whole_embedding = [tf.nn.embedding_lookup(model.embedding, tf.expand_dims(i,axis=-1)) for i in tf.range(VOCABULARY,dtype=tf.int64)]\n",
    "\n",
    "    # calculate embedding of words\n",
    "    track_words_embedding = [tf.nn.embedding_lookup(model.embedding, tf.expand_dims(w,axis=-1)) for w in words_sequence]\n",
    "    for j,tw in enumerate (tqdm.tqdm(track_words_embedding)):\n",
    "        # calculate cosine similarities between whole and words \n",
    "        cosines = [(cosine_similarity(tw,we),i) for i,we in enumerate(whole_embedding)]\n",
    "\n",
    "        # sort by distance and return k-nearest\n",
    "        sorted_cosines = sorted(cosines, reverse=True)\n",
    "        # sequence to text of nearest neighbours\n",
    "        words_neighbours = tf.reshape(tokenizer.sequences_to_texts([tf.reshape(sorted_cosines[:K],(K,-1))[:,1].numpy()]),[-1])\n",
    "        words_neighbours = str(words_neighbours.numpy().item())[2:-1]\n",
    "        # print word with its k-nearest (maybe with cosine similarities)\n",
    "        print(words_keep_track[j], \": \")\n",
    "        for i, word in enumerate(words_neighbours.split(\" \")):\n",
    "            print(word, \": \", sorted_cosines[i].__str__().split(\",\")[2][7:-1])\n",
    "        print()\n",
    "\n",
    "\n",
    "\n",
    "\n"
   ]
  },
  {
   "cell_type": "code",
   "execution_count": 2,
   "id": "8ec1fd72-5d5d-4ee7-829b-1e97306f8c42",
   "metadata": {},
   "outputs": [
    {
     "data": {
      "text/html": [
       "\n",
       "      <iframe id=\"tensorboard-frame-7102350c53990b32\" width=\"100%\" height=\"800\" frameborder=\"0\">\n",
       "      </iframe>\n",
       "      <script>\n",
       "        (function() {\n",
       "          const frame = document.getElementById(\"tensorboard-frame-7102350c53990b32\");\n",
       "          const url = new URL(\"/\", window.location);\n",
       "          const port = 6006;\n",
       "          if (port) {\n",
       "            url.port = port;\n",
       "          }\n",
       "          frame.src = url;\n",
       "        })();\n",
       "      </script>\n",
       "    "
      ],
      "text/plain": [
       "<IPython.core.display.HTML object>"
      ]
     },
     "metadata": {},
     "output_type": "display_data"
    }
   ],
   "source": [
    "%load_ext tensorboard\n",
    "%tensorboard --logdir=\"logs/{config}\""
   ]
  },
  {
   "cell_type": "code",
   "execution_count": null,
   "id": "f36f6715-8a7d-4393-a9d0-a0b484dacae5",
   "metadata": {},
   "outputs": [],
   "source": []
  }
 ],
 "metadata": {
  "kernelspec": {
   "display_name": "Python 3 (ipykernel)",
   "language": "python",
   "name": "python3"
  },
  "language_info": {
   "codemirror_mode": {
    "name": "ipython",
    "version": 3
   },
   "file_extension": ".py",
   "mimetype": "text/x-python",
   "name": "python",
   "nbconvert_exporter": "python",
   "pygments_lexer": "ipython3",
   "version": "3.10.8"
  }
 },
 "nbformat": 4,
 "nbformat_minor": 5
}
