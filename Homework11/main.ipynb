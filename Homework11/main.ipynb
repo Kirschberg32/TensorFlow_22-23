{
 "cells": [
  {
   "cell_type": "code",
   "execution_count": 1,
   "id": "2a1572ee-8302-46f3-9d80-a1f22a3286a1",
   "metadata": {},
   "outputs": [
    {
     "name": "stderr",
     "output_type": "stream",
     "text": [
      "2023-02-15 15:07:21.359613: I tensorflow/core/platform/cpu_feature_guard.cc:193] This TensorFlow binary is optimized with oneAPI Deep Neural Network Library (oneDNN) to use the following CPU instructions in performance-critical operations:  AVX2 FMA\n",
      "To enable them in other operations, rebuild TensorFlow with the appropriate compiler flags.\n",
      "2023-02-15 15:07:21.488246: W tensorflow/compiler/xla/stream_executor/platform/default/dso_loader.cc:64] Could not load dynamic library 'libcudart.so.11.0'; dlerror: libcudart.so.11.0: cannot open shared object file: No such file or directory\n",
      "2023-02-15 15:07:21.488266: I tensorflow/compiler/xla/stream_executor/cuda/cudart_stub.cc:29] Ignore above cudart dlerror if you do not have a GPU set up on your machine.\n",
      "2023-02-15 15:07:22.073751: W tensorflow/compiler/xla/stream_executor/platform/default/dso_loader.cc:64] Could not load dynamic library 'libnvinfer.so.7'; dlerror: libnvinfer.so.7: cannot open shared object file: No such file or directory\n",
      "2023-02-15 15:07:22.073847: W tensorflow/compiler/xla/stream_executor/platform/default/dso_loader.cc:64] Could not load dynamic library 'libnvinfer_plugin.so.7'; dlerror: libnvinfer_plugin.so.7: cannot open shared object file: No such file or directory\n",
      "2023-02-15 15:07:22.073854: W tensorflow/compiler/tf2tensorrt/utils/py_utils.cc:38] TF-TRT Warning: Cannot dlopen some TensorRT libraries. If you would like to use Nvidia GPU with TensorRT, please make sure the missing libraries mentioned above are installed properly.\n",
      "2023-02-15 15:07:22.851228: W tensorflow/compiler/xla/stream_executor/platform/default/dso_loader.cc:64] Could not load dynamic library 'libcuda.so.1'; dlerror: libcuda.so.1: cannot open shared object file: No such file or directory\n",
      "2023-02-15 15:07:22.851270: W tensorflow/compiler/xla/stream_executor/cuda/cuda_driver.cc:265] failed call to cuInit: UNKNOWN ERROR (303)\n",
      "2023-02-15 15:07:22.851287: I tensorflow/compiler/xla/stream_executor/cuda/cuda_diagnostics.cc:156] kernel driver does not appear to be running on this host (DESKTOP-0B8HQDM): /proc/driver/nvidia/version does not exist\n",
      "2023-02-15 15:07:22.851504: I tensorflow/core/platform/cpu_feature_guard.cc:193] This TensorFlow binary is optimized with oneAPI Deep Neural Network Library (oneDNN) to use the following CPU instructions in performance-critical operations:  AVX2 FMA\n",
      "To enable them in other operations, rebuild TensorFlow with the appropriate compiler flags.\n",
      "sentencepiece_trainer.cc(77) LOG(INFO) Starts training with : \n",
      "trainer_spec {\n",
      "  input: data/prepared_HP1.txt\n",
      "  input_format: \n",
      "  model_prefix: tokenizer_model\n",
      "  model_type: UNIGRAM\n",
      "  vocab_size: 2000\n",
      "  self_test_sample_size: 0\n",
      "  character_coverage: 0.9995\n",
      "  input_sentence_size: 0\n",
      "  shuffle_input_sentence: 1\n",
      "  seed_sentencepiece_size: 1000000\n",
      "  shrinking_factor: 0.75\n",
      "  max_sentence_length: 4192\n",
      "  num_threads: 16\n",
      "  num_sub_iterations: 2\n",
      "  max_sentencepiece_length: 16\n",
      "  split_by_unicode_script: 1\n",
      "  split_by_number: 1\n",
      "  split_by_whitespace: 1\n",
      "  split_digits: 0\n",
      "  treat_whitespace_as_suffix: 0\n",
      "  allow_whitespace_only_pieces: 0\n",
      "  required_chars: \n",
      "  byte_fallback: 0\n",
      "  vocabulary_output_piece_score: 1\n",
      "  train_extremely_large_corpus: 0\n",
      "  hard_vocab_limit: 1\n",
      "  use_all_vocab: 0\n",
      "  unk_id: 0\n",
      "  bos_id: 1\n",
      "  eos_id: 2\n",
      "  pad_id: -1\n",
      "  unk_piece: <unk>\n",
      "  bos_piece: <s>\n",
      "  eos_piece: </s>\n",
      "  pad_piece: <pad>\n",
      "  unk_surface:  ⁇ \n",
      "  enable_differential_privacy: 0\n",
      "  differential_privacy_noise_level: 0\n",
      "  differential_privacy_clipping_threshold: 0\n",
      "}\n",
      "normalizer_spec {\n",
      "  name: nmt_nfkc\n",
      "  add_dummy_prefix: 1\n",
      "  remove_extra_whitespaces: 1\n",
      "  escape_whitespaces: 1\n",
      "  normalization_rule_tsv: \n",
      "}\n",
      "denormalizer_spec {}\n",
      "trainer_interface.cc(350) LOG(INFO) SentenceIterator is not specified. Using MultiFileSentenceIterator.\n",
      "trainer_interface.cc(181) LOG(INFO) Loading corpus: data/prepared_HP1.txt\n",
      "trainer_interface.cc(406) LOG(INFO) Loaded all 7640 sentences\n",
      "trainer_interface.cc(422) LOG(INFO) Adding meta_piece: <unk>\n",
      "trainer_interface.cc(422) LOG(INFO) Adding meta_piece: <s>\n",
      "trainer_interface.cc(422) LOG(INFO) Adding meta_piece: </s>\n",
      "trainer_interface.cc(427) LOG(INFO) Normalizing sentences...\n",
      "trainer_interface.cc(536) LOG(INFO) all chars count=419971\n",
      "trainer_interface.cc(557) LOG(INFO) Alphabet size=30\n",
      "trainer_interface.cc(558) LOG(INFO) Final character coverage=1\n",
      "trainer_interface.cc(590) LOG(INFO) Done! preprocessed 7640 sentences.\n",
      "unigram_model_trainer.cc(146) LOG(INFO) Making suffix array...\n",
      "unigram_model_trainer.cc(150) LOG(INFO) Extracting frequent sub strings...\n",
      "unigram_model_trainer.cc(201) LOG(INFO) Initialized 15386 seed sentencepieces\n",
      "trainer_interface.cc(596) LOG(INFO) Tokenizing input sentences with whitespace: 7640\n",
      "trainer_interface.cc(607) LOG(INFO) Done! 8238\n",
      "unigram_model_trainer.cc(491) LOG(INFO) Using 8238 sentences for EM training\n",
      "unigram_model_trainer.cc(507) LOG(INFO) EM sub_iter=0 size=5759 obj=9.37326 num_tokens=14588 num_tokens/piece=2.53308\n",
      "unigram_model_trainer.cc(507) LOG(INFO) EM sub_iter=1 size=4804 obj=7.60729 num_tokens=14641 num_tokens/piece=3.04767\n",
      "unigram_model_trainer.cc(507) LOG(INFO) EM sub_iter=0 size=3600 obj=7.62861 num_tokens=15967 num_tokens/piece=4.43528\n",
      "unigram_model_trainer.cc(507) LOG(INFO) EM sub_iter=1 size=3599 obj=7.59088 num_tokens=15970 num_tokens/piece=4.43734\n",
      "unigram_model_trainer.cc(507) LOG(INFO) EM sub_iter=0 size=2699 obj=7.83984 num_tokens=18273 num_tokens/piece=6.77029\n",
      "unigram_model_trainer.cc(507) LOG(INFO) EM sub_iter=1 size=2699 obj=7.779 num_tokens=18275 num_tokens/piece=6.77103\n",
      "unigram_model_trainer.cc(507) LOG(INFO) EM sub_iter=0 size=2200 obj=8.00447 num_tokens=20111 num_tokens/piece=9.14136\n",
      "unigram_model_trainer.cc(507) LOG(INFO) EM sub_iter=1 size=2200 obj=7.9611 num_tokens=20113 num_tokens/piece=9.14227\n",
      "trainer_interface.cc(685) LOG(INFO) Saving model: tokenizer_model.model\n",
      "trainer_interface.cc(697) LOG(INFO) Saving vocabs: tokenizer_model.vocab\n"
     ]
    },
    {
     "name": "stdout",
     "output_type": "stream",
     "text": [
      "Epoch 0:\n"
     ]
    },
    {
     "name": "stderr",
     "output_type": "stream",
     "text": [
      "100%|███████████████████████████████████████████████████████████████████████████████| 1593/1593 [05:06<00:00,  5.19it/s]\n"
     ]
    },
    {
     "name": "stdout",
     "output_type": "stream",
     "text": [
      "loss: 3.6909821033477783\n",
      "accuracy: 0.30636465549468994\n",
      "Generated Text:  b'harry potter and to we the me i.. d not said let you the you see have the to said and. the and to i the see and the in'\n",
      "\n",
      "\n",
      "Epoch 1:\n"
     ]
    },
    {
     "name": "stderr",
     "output_type": "stream",
     "text": [
      "100%|███████████████████████████████████████████████████████████████████████████████| 1593/1593 [05:07<00:00,  5.19it/s]\n"
     ]
    },
    {
     "name": "stdout",
     "output_type": "stream",
     "text": [
      "loss: 3.0304548740386963\n",
      "accuracy: 0.38566654920578003\n",
      "Generated Text:  b'harry potter and she. to you he put harry a the  be co a said andt ss a. a inrlis for thess'\n",
      "\n",
      "\n",
      "Epoch 2:\n"
     ]
    },
    {
     "name": "stderr",
     "output_type": "stream",
     "text": [
      "100%|███████████████████████████████████████████████████████████████████████████████| 1593/1593 [05:07<00:00,  5.19it/s]\n"
     ]
    },
    {
     "name": "stdout",
     "output_type": "stream",
     "text": [
      "loss: 2.678384780883789\n",
      "accuracy: 0.4365657866001129\n",
      "Generated Text:  b'harry potter and to the in f f i the dastthtesi. a ssm t apal anda and'\n",
      "\n",
      "\n",
      "Epoch 3:\n"
     ]
    },
    {
     "name": "stderr",
     "output_type": "stream",
     "text": [
      "100%|███████████████████████████████████████████████████████████████████████████████| 1593/1593 [05:05<00:00,  5.21it/s]\n"
     ]
    },
    {
     "name": "stdout",
     "output_type": "stream",
     "text": [
      "loss: 2.4713189601898193\n",
      "accuracy: 0.4688560962677002\n",
      "Generated Text:  b'harry potter and! still still for to look said said i quirrell very for in s harrys a it his s a he harry harrys you his a. and the his'\n",
      "\n",
      "\n",
      "Epoch 4:\n"
     ]
    },
    {
     "name": "stderr",
     "output_type": "stream",
     "text": [
      "100%|███████████████████████████████████████████████████████████████████████████████| 1593/1593 [05:04<00:00,  5.23it/s]\n"
     ]
    },
    {
     "name": "stdout",
     "output_type": "stream",
     "text": [
      "loss: 2.331951141357422\n",
      "accuracy: 0.49292799830436707\n",
      "Generated Text:  b'harry potter and said it. an in. a that. as the  harry as you harry!. an for one for in the i the in i one the'\n",
      "\n",
      "\n",
      "Epoch 5:\n"
     ]
    },
    {
     "name": "stderr",
     "output_type": "stream",
     "text": [
      "100%|███████████████████████████████████████████████████████████████████████████████| 1593/1593 [05:01<00:00,  5.28it/s]\n"
     ]
    },
    {
     "name": "stdout",
     "output_type": "stream",
     "text": [
      "loss: 2.230003595352173\n",
      "accuracy: 0.5103406310081482\n",
      "Generated Text:  b'harry potter and the we am still.!. said i you you you do got you to said to.? i a harry harry. harry you the the in'\n",
      "\n",
      "\n",
      "Epoch 6:\n"
     ]
    },
    {
     "name": "stderr",
     "output_type": "stream",
     "text": [
      "100%|███████████████████████████████████████████████████████████████████████████████| 1593/1593 [05:01<00:00,  5.28it/s]\n"
     ]
    },
    {
     "name": "stdout",
     "output_type": "stream",
     "text": [
      "loss: 2.1420271396636963\n",
      "accuracy: 0.5263760089874268\n",
      "Generated Text:  b'harry potter and i look still down and his. a at his the  the   a said in harry  harry great in he great for great  for the'\n",
      "\n",
      "\n",
      "Epoch 7:\n"
     ]
    },
    {
     "name": "stderr",
     "output_type": "stream",
     "text": [
      "100%|███████████████████████████████████████████████████████████████████████████████| 1593/1593 [05:02<00:00,  5.27it/s]\n"
     ]
    },
    {
     "name": "stdout",
     "output_type": "stream",
     "text": [
      "loss: 2.073255777359009\n",
      "accuracy: 0.5393071174621582\n",
      "Generated Text:  b'harry potter and still for the a co the. in as great the great a great a  voices great de sv bbsvrrs'\n",
      "\n",
      "\n",
      "Epoch 8:\n"
     ]
    },
    {
     "name": "stderr",
     "output_type": "stream",
     "text": [
      "100%|███████████████████████████████████████████████████████████████████████████████| 1593/1593 [05:01<00:00,  5.28it/s]\n"
     ]
    },
    {
     "name": "stdout",
     "output_type": "stream",
     "text": [
      "loss: 2.0100815296173096\n",
      "accuracy: 0.5510286092758179\n",
      "Generated Text:  b'harry potter and she was to still.  to a said the the a s the s  an an the homan the lremr'\n",
      "\n",
      "\n",
      "Epoch 9:\n"
     ]
    },
    {
     "name": "stderr",
     "output_type": "stream",
     "text": [
      "100%|███████████████████████████████████████████████████████████████████████████████| 1593/1593 [05:02<00:00,  5.27it/s]\n"
     ]
    },
    {
     "name": "stdout",
     "output_type": "stream",
     "text": [
      "loss: 1.953240990638733\n",
      "accuracy: 0.5619349479675293\n",
      "Generated Text:  b'harry potter and still for to look she and thought said the you. to harry harry a and. said im said you you harry. a the harry and. and'\n",
      "\n",
      "\n",
      "Epoch 10:\n"
     ]
    },
    {
     "name": "stderr",
     "output_type": "stream",
     "text": [
      "100%|███████████████████████████████████████████████████████████████████████████████| 1593/1593 [05:01<00:00,  5.28it/s]\n"
     ]
    },
    {
     "name": "stdout",
     "output_type": "stream",
     "text": [
      "loss: 1.9000483751296997\n",
      "accuracy: 0.5715805292129517\n",
      "Generated Text:  b'harry potter and i still not in to the to  be the a one the. in a  an an great an. harry i. the i .?'\n",
      "\n",
      "\n",
      "Epoch 11:\n"
     ]
    },
    {
     "name": "stderr",
     "output_type": "stream",
     "text": [
      "100%|███████████████████████████████████████████████████████████████████████████████| 1593/1593 [05:02<00:00,  5.27it/s]\n"
     ]
    },
    {
     "name": "stdout",
     "output_type": "stream",
     "text": [
      "loss: 1.8584095239639282\n",
      "accuracy: 0.5794517993927002\n",
      "Generated Text:  b'harry potter and thought the.. it in the snapes a  and a in a ther a harrys harry s.s one he one thes i'\n",
      "\n",
      "\n",
      "Epoch 12:\n"
     ]
    },
    {
     "name": "stderr",
     "output_type": "stream",
     "text": [
      "100%|███████████████████████████████████████████████████████████████████████████████| 1593/1593 [05:01<00:00,  5.28it/s]\n"
     ]
    },
    {
     "name": "stdout",
     "output_type": "stream",
     "text": [
      "loss: 1.8157050609588623\n",
      "accuracy: 0.5879436731338501\n",
      "Generated Text:  b'harry potter and you were not the still only the. a gryffindor one in go harry in the. the in a gryffindor .. the  the one one s'\n",
      "\n",
      "\n",
      "Epoch 13:\n"
     ]
    },
    {
     "name": "stderr",
     "output_type": "stream",
     "text": [
      "100%|███████████████████████████████████████████████████████████████████████████████| 1593/1593 [05:03<00:00,  5.25it/s]\n"
     ]
    },
    {
     "name": "stdout",
     "output_type": "stream",
     "text": [
      "loss: 1.7790300846099854\n",
      "accuracy: 0.5949987769126892\n",
      "Generated Text:  b'harry potter and he s thought still thought the the the to face face the the it de s to. the look he was in the a   co a s'\n",
      "\n",
      "\n",
      "Epoch 14:\n"
     ]
    },
    {
     "name": "stderr",
     "output_type": "stream",
     "text": [
      "100%|███████████████████████████████████████████████████████████████████████████████| 1593/1593 [05:02<00:00,  5.27it/s]\n"
     ]
    },
    {
     "name": "stdout",
     "output_type": "stream",
     "text": [
      "loss: 1.7490241527557373\n",
      "accuracy: 0.6004283428192139\n",
      "Generated Text:  b'harry potter and still at the harry harry  his to the. the one the. s... first in it first he... it the the the'\n",
      "\n",
      "\n",
      "Epoch 15:\n"
     ]
    },
    {
     "name": "stderr",
     "output_type": "stream",
     "text": [
      "100%|███████████████████████████████████████████████████████████████████████████████| 1593/1593 [05:03<00:00,  5.26it/s]\n"
     ]
    },
    {
     "name": "stdout",
     "output_type": "stream",
     "text": [
      "loss: 1.7133463621139526\n",
      "accuracy: 0.6076995730400085\n",
      "Generated Text:  b'harry potter and. quirrell. she looked  he was a if b wass in a to a a the p the a man a the bsa p'\n",
      "\n",
      "\n",
      "Epoch 16:\n"
     ]
    },
    {
     "name": "stderr",
     "output_type": "stream",
     "text": [
      "100%|███████████████████████████████████████████████████████████████████████████████| 1593/1593 [05:02<00:00,  5.27it/s]\n"
     ]
    },
    {
     "name": "stdout",
     "output_type": "stream",
     "text": [
      "loss: 1.6867258548736572\n",
      "accuracy: 0.6126171350479126\n",
      "Generated Text:  b'harry potter and. not. not. the a i. only for in the even a the the a last very a very one next very last one one the he'\n",
      "\n",
      "\n",
      "Epoch 17:\n"
     ]
    },
    {
     "name": "stderr",
     "output_type": "stream",
     "text": [
      "100%|███████████████████████████████████████████████████████████████████████████████| 1593/1593 [05:02<00:00,  5.26it/s]\n"
     ]
    },
    {
     "name": "stdout",
     "output_type": "stream",
     "text": [
      "loss: 1.663069486618042\n",
      "accuracy: 0.6170940399169922\n",
      "Generated Text:  b'harry potter and harry were the she ch said a as bmaorbbaaaeaaa.mss these'\n",
      "\n",
      "\n",
      "Epoch 18:\n"
     ]
    },
    {
     "name": "stderr",
     "output_type": "stream",
     "text": [
      "100%|███████████████████████████████████████████████████████████████████████████████| 1593/1593 [05:03<00:00,  5.24it/s]\n"
     ]
    },
    {
     "name": "stdout",
     "output_type": "stream",
     "text": [
      "loss: 1.6366443634033203\n",
      "accuracy: 0.6223464012145996\n",
      "Generated Text:  b'harry potter and the and other she were a ch . in hes. yous.. he he harrys and just a a he  was  just'\n",
      "\n",
      "\n",
      "Epoch 19:\n"
     ]
    },
    {
     "name": "stderr",
     "output_type": "stream",
     "text": [
      "100%|███████████████████████████████████████████████████████████████████████████████| 1593/1593 [05:04<00:00,  5.23it/s]\n"
     ]
    },
    {
     "name": "stdout",
     "output_type": "stream",
     "text": [
      "loss: 1.6177064180374146\n",
      "accuracy: 0.6256328225135803\n",
      "Generated Text:  b'harry potter and and hermione began  a s.  to as a s it heribs. ands. a a s h. and'\n",
      "\n",
      "\n",
      "Epoch 20:\n"
     ]
    },
    {
     "name": "stderr",
     "output_type": "stream",
     "text": [
      "100%|███████████████████████████████████████████████████████████████████████████████| 1593/1593 [05:03<00:00,  5.25it/s]\n"
     ]
    },
    {
     "name": "stdout",
     "output_type": "stream",
     "text": [
      "loss: 1.5953989028930664\n",
      "accuracy: 0.6302605867385864\n",
      "Generated Text:  b'harry potter and the not the.  in. i that a i dr very the the for greatst s the b bnatm a co'\n",
      "\n",
      "\n",
      "Epoch 21:\n"
     ]
    },
    {
     "name": "stderr",
     "output_type": "stream",
     "text": [
      "100%|███████████████████████████████████████████████████████████████████████████████| 1593/1593 [05:02<00:00,  5.26it/s]\n"
     ]
    },
    {
     "name": "stdout",
     "output_type": "stream",
     "text": [
      "loss: 1.5747034549713135\n",
      "accuracy: 0.6342736482620239\n",
      "Generated Text:  b'harry potter and you in. the the d an one then  d the mamrtiirpreaarat'\n",
      "\n",
      "\n",
      "Epoch 22:\n"
     ]
    },
    {
     "name": "stderr",
     "output_type": "stream",
     "text": [
      "100%|███████████████████████████████████████████████████████████████████████████████| 1593/1593 [05:02<00:00,  5.27it/s]\n"
     ]
    },
    {
     "name": "stdout",
     "output_type": "stream",
     "text": [
      "loss: 1.5572510957717896\n",
      "accuracy: 0.6379939317703247\n",
      "Generated Text:  b'harry potter and he  stareds. at in said a a a an a. me i a arere great the harryrn b a rel'\n",
      "\n",
      "\n",
      "Epoch 23:\n"
     ]
    },
    {
     "name": "stderr",
     "output_type": "stream",
     "text": [
      "100%|███████████████████████████████████████████████████████████████████████████████| 1593/1593 [05:02<00:00,  5.27it/s]\n"
     ]
    },
    {
     "name": "stdout",
     "output_type": "stream",
     "text": [
      "loss: 1.5392341613769531\n",
      "accuracy: 0.641502320766449\n",
      "Generated Text:  b'harry potter and to  harry. the i have one have. the in do he it. he.? the? the in the the he the an a the'\n",
      "\n",
      "\n",
      "Epoch 24:\n"
     ]
    },
    {
     "name": "stderr",
     "output_type": "stream",
     "text": [
      "100%|███████████████████████████████████████████████████████████████████████████████| 1593/1593 [04:58<00:00,  5.34it/s]\n"
     ]
    },
    {
     "name": "stdout",
     "output_type": "stream",
     "text": [
      "loss: 1.5241745710372925\n",
      "accuracy: 0.6446256637573242\n",
      "Generated Text:  b'harry potter and the hermione s s erealrnaiaaasiavemmssus sis'\n",
      "\n",
      "\n",
      "Epoch 25:\n"
     ]
    },
    {
     "name": "stderr",
     "output_type": "stream",
     "text": [
      "100%|███████████████████████████████████████████████████████████████████████████████| 1593/1593 [05:02<00:00,  5.26it/s]\n"
     ]
    },
    {
     "name": "stdout",
     "output_type": "stream",
     "text": [
      "loss: 1.5158514976501465\n",
      "accuracy: 0.6456190347671509\n",
      "Generated Text:  b'harry potter and as they the she did. to a back  the it harry. a  to. at the to the one harry he said the and s a'\n",
      "\n",
      "\n",
      "Epoch 26:\n"
     ]
    },
    {
     "name": "stderr",
     "output_type": "stream",
     "text": [
      "100%|███████████████████████████████████████████████████████████████████████████████| 1593/1593 [05:07<00:00,  5.18it/s]\n"
     ]
    },
    {
     "name": "stdout",
     "output_type": "stream",
     "text": [
      "loss: 1.497619390487671\n",
      "accuracy: 0.650065004825592\n",
      "Generated Text:  b'harry potter and go was ton n.n harry back. the to.n  that. theyn the one was. the a in  one a'\n",
      "\n",
      "\n",
      "Epoch 27:\n"
     ]
    },
    {
     "name": "stderr",
     "output_type": "stream",
     "text": [
      "100%|███████████████████████████████████████████████████████████████████████████████| 1593/1593 [05:07<00:00,  5.18it/s]\n"
     ]
    },
    {
     "name": "stdout",
     "output_type": "stream",
     "text": [
      "loss: 1.484542965888977\n",
      "accuracy: 0.6527495980262756\n",
      "Generated Text:  b'harry potter and the not still. the the look. not there  not it for. only the the  s he. they he? in s ins'\n",
      "\n",
      "\n",
      "Epoch 28:\n"
     ]
    },
    {
     "name": "stderr",
     "output_type": "stream",
     "text": [
      "100%|███████████████████████████████████████████████████████████████████████████████| 1593/1593 [05:04<00:00,  5.23it/s]\n"
     ]
    },
    {
     "name": "stdout",
     "output_type": "stream",
     "text": [
      "loss: 1.4716476202011108\n",
      "accuracy: 0.6550916433334351\n",
      "Generated Text:  b'harry potter and. and the the to it the one  harry a the c in one harry be in the i    dr dmnam'\n",
      "\n",
      "\n",
      "Epoch 29:\n"
     ]
    },
    {
     "name": "stderr",
     "output_type": "stream",
     "text": [
      "100%|███████████████████████████████████████████████████████████████████████████████| 1593/1593 [05:04<00:00,  5.24it/s]\n"
     ]
    },
    {
     "name": "stdout",
     "output_type": "stream",
     "text": [
      "loss: 1.465198278427124\n",
      "accuracy: 0.656303346157074\n",
      "Generated Text:  b'harry potter and im the never not a more  very very small very s and very sn to the d. crne. inereea'\n",
      "\n",
      "\n",
      "Epoch 30:\n"
     ]
    },
    {
     "name": "stderr",
     "output_type": "stream",
     "text": [
      "100%|███████████████████████████████████████████████████████████████████████████████| 1593/1593 [05:03<00:00,  5.24it/s]\n"
     ]
    },
    {
     "name": "stdout",
     "output_type": "stream",
     "text": [
      "loss: 1.453545093536377\n",
      "accuracy: 0.6584814190864563\n",
      "Generated Text:  b'harry potter and he to still quirrell get  and get he ron co s on.n said an a saidn n an a s anar'\n",
      "\n",
      "\n",
      "Epoch 31:\n"
     ]
    },
    {
     "name": "stderr",
     "output_type": "stream",
     "text": [
      "100%|███████████████████████████████████████████████████████████████████████████████| 1593/1593 [05:03<00:00,  5.25it/s]\n"
     ]
    },
    {
     "name": "stdout",
     "output_type": "stream",
     "text": [
      "loss: 1.4453632831573486\n",
      "accuracy: 0.6602474451065063\n",
      "Generated Text:  b'harry potter and harry!  i had to be s the to said harry he and d a sa d.ra theimrmn'\n",
      "\n",
      "\n",
      "Epoch 32:\n"
     ]
    },
    {
     "name": "stderr",
     "output_type": "stream",
     "text": [
      "100%|███████████████████████████████████████████████████████████████████████████████| 1593/1593 [05:15<00:00,  5.05it/s]\n"
     ]
    },
    {
     "name": "stdout",
     "output_type": "stream",
     "text": [
      "loss: 1.4312279224395752\n",
      "accuracy: 0.6632238626480103\n",
      "Generated Text:  b'harry potter and  to. it be very she you said he at and it the the the to the the  s to    cot at in'\n",
      "\n",
      "\n",
      "Epoch 33:\n"
     ]
    },
    {
     "name": "stderr",
     "output_type": "stream",
     "text": [
      "100%|███████████████████████████████████████████████████████████████████████████████| 1593/1593 [05:56<00:00,  4.47it/s]\n"
     ]
    },
    {
     "name": "stdout",
     "output_type": "stream",
     "text": [
      "loss: 1.422491192817688\n",
      "accuracy: 0.6651355028152466\n",
      "Generated Text:  b'harry potter and an a. to he i do go the said be b? d the in harry arn in.r s thean arst'\n",
      "\n",
      "\n",
      "Epoch 34:\n"
     ]
    },
    {
     "name": "stderr",
     "output_type": "stream",
     "text": [
      "100%|███████████████████████████████████████████████████████████████████████████████| 1593/1593 [05:56<00:00,  4.47it/s]\n"
     ]
    },
    {
     "name": "stdout",
     "output_type": "stream",
     "text": [
      "loss: 1.4140146970748901\n",
      "accuracy: 0.6667715311050415\n",
      "Generated Text:  b'harry potter and dr tom therarinis ofiuua.is?esingsy thes to'\n",
      "\n",
      "\n",
      "Epoch 35:\n"
     ]
    },
    {
     "name": "stderr",
     "output_type": "stream",
     "text": [
      "100%|███████████████████████████████████████████████████████████████████████████████| 1593/1593 [05:56<00:00,  4.47it/s]\n"
     ]
    },
    {
     "name": "stdout",
     "output_type": "stream",
     "text": [
      "loss: 1.4076429605484009\n",
      "accuracy: 0.6677756309509277\n",
      "Generated Text:  b'harry potter and harry was now  in.. the. in he a very he and  a very  for very for the he  very. p d p'\n",
      "\n",
      "\n",
      "Epoch 36:\n"
     ]
    },
    {
     "name": "stderr",
     "output_type": "stream",
     "text": [
      "100%|███████████████████████████████████████████████████████████████████████████████| 1593/1593 [06:09<00:00,  4.31it/s]\n"
     ]
    },
    {
     "name": "stdout",
     "output_type": "stream",
     "text": [
      "loss: 1.4007177352905273\n",
      "accuracy: 0.6692439317703247\n",
      "Generated Text:  b'harry potter and and then a it s a th codsusste the lt amthsm andrea saida'\n",
      "\n",
      "\n",
      "Epoch 37:\n"
     ]
    },
    {
     "name": "stderr",
     "output_type": "stream",
     "text": [
      "100%|███████████████████████████████████████████████████████████████████████████████| 1593/1593 [05:57<00:00,  4.46it/s]\n"
     ]
    },
    {
     "name": "stdout",
     "output_type": "stream",
     "text": [
      "loss: 1.3932908773422241\n",
      "accuracy: 0.6707428693771362\n",
      "Generated Text:  b'harry potter and harry put in yous for at to the the the the f the end. allt  that the e the his int  the a'\n",
      "\n",
      "\n",
      "Epoch 38:\n"
     ]
    },
    {
     "name": "stderr",
     "output_type": "stream",
     "text": [
      "100%|███████████████████████████████████████████████████████████████████████████████| 1593/1593 [06:23<00:00,  4.15it/s]\n"
     ]
    },
    {
     "name": "stdout",
     "output_type": "stream",
     "text": [
      "loss: 1.3836886882781982\n",
      "accuracy: 0.6727734804153442\n",
      "Generated Text:  b'harry potter and the quirrells  was to the  in the. ina. and the the  very then the  anmnnn'\n",
      "\n",
      "\n",
      "Epoch 39:\n"
     ]
    },
    {
     "name": "stderr",
     "output_type": "stream",
     "text": [
      "100%|███████████████████████████████████████████████████████████████████████████████| 1593/1593 [06:11<00:00,  4.28it/s]\n"
     ]
    },
    {
     "name": "stdout",
     "output_type": "stream",
     "text": [
      "loss: 1.3785227537155151\n",
      "accuracy: 0.6738196015357971\n",
      "Generated Text:  b'harry potter and. a look and you he to a said at you the it harry i said. the and the  the you very? to he a he in'\n",
      "\n",
      "\n",
      "Epoch 40:\n"
     ]
    },
    {
     "name": "stderr",
     "output_type": "stream",
     "text": [
      "100%|███████████████████████████████████████████████████████████████████████████████| 1593/1593 [06:12<00:00,  4.28it/s]\n"
     ]
    },
    {
     "name": "stdout",
     "output_type": "stream",
     "text": [
      "loss: 1.3683931827545166\n",
      "accuracy: 0.6761568188667297\n",
      "Generated Text:  b'harry potter and go hermiones and.. the. harry on the. the harry she she . in she a a a th was s a   a'\n",
      "\n",
      "\n",
      "Epoch 41:\n"
     ]
    },
    {
     "name": "stderr",
     "output_type": "stream",
     "text": [
      "100%|███████████████████████████████████████████████████████████████████████████████| 1593/1593 [05:59<00:00,  4.43it/s]\n"
     ]
    },
    {
     "name": "stdout",
     "output_type": "stream",
     "text": [
      "loss: 1.366876482963562\n",
      "accuracy: 0.6761086583137512\n",
      "Generated Text:  b'harry potter and im a the very first dark good good.. good but the. no but in not to not not a but said for he no his no.'\n",
      "\n",
      "\n",
      "Epoch 42:\n"
     ]
    },
    {
     "name": "stderr",
     "output_type": "stream",
     "text": [
      "100%|███████████████████████████████████████████████████████████████████████████████| 1593/1593 [05:42<00:00,  4.66it/s]\n"
     ]
    },
    {
     "name": "stdout",
     "output_type": "stream",
     "text": [
      "loss: 1.3607829809188843\n",
      "accuracy: 0.6775187253952026\n",
      "Generated Text:  b'harry potter and the quirrell was he there still to the do a a. a look co harry a b s a a very. b s the co colo'\n",
      "\n",
      "\n",
      "Epoch 43:\n"
     ]
    },
    {
     "name": "stderr",
     "output_type": "stream",
     "text": [
      "100%|███████████████████████████████████████████████████████████████████████████████| 1593/1593 [05:43<00:00,  4.64it/s]\n"
     ]
    },
    {
     "name": "stdout",
     "output_type": "stream",
     "text": [
      "loss: 1.351675271987915\n",
      "accuracy: 0.6794113516807556\n",
      "Generated Text:  b'harry potter and. then the go the she. in ter   said the a.  s sanrm.na.?n a.'\n",
      "\n",
      "\n",
      "Epoch 44:\n"
     ]
    },
    {
     "name": "stderr",
     "output_type": "stream",
     "text": [
      "100%|███████████████████████████████████████████████████████████████████████████████| 1593/1593 [06:37<00:00,  4.00it/s]\n"
     ]
    },
    {
     "name": "stdout",
     "output_type": "stream",
     "text": [
      "loss: 1.3465367555618286\n",
      "accuracy: 0.680486261844635\n",
      "Generated Text:  b'harry potter and you a were still not so in to in  that the a s for the a the the very a an last great the a s. the'\n",
      "\n",
      "\n",
      "Epoch 45:\n"
     ]
    },
    {
     "name": "stderr",
     "output_type": "stream",
     "text": [
      "100%|███████████████████████████████████████████████████████████████████████████████| 1593/1593 [05:57<00:00,  4.46it/s]\n"
     ]
    },
    {
     "name": "stdout",
     "output_type": "stream",
     "text": [
      "loss: 1.341667890548706\n",
      "accuracy: 0.6813187003135681\n",
      "Generated Text:  b'harry potter and im not a it for very no snape. the the said a no s very he a the p s the ss s a snap'\n",
      "\n",
      "\n",
      "Epoch 46:\n"
     ]
    },
    {
     "name": "stderr",
     "output_type": "stream",
     "text": [
      "100%|███████████████████████████████████████████████████████████████████████████████| 1593/1593 [05:56<00:00,  4.47it/s]\n"
     ]
    },
    {
     "name": "stdout",
     "output_type": "stream",
     "text": [
      "loss: 1.3358306884765625\n",
      "accuracy: 0.6825076937675476\n",
      "Generated Text:  b'harry potter and they. the look said on the harry in the the  a ps a  a a the very s very co co very sl very co'\n",
      "\n",
      "\n",
      "Epoch 47:\n"
     ]
    },
    {
     "name": "stderr",
     "output_type": "stream",
     "text": [
      "100%|███████████████████████████████████████████████████████████████████████████████| 1593/1593 [06:16<00:00,  4.23it/s]\n"
     ]
    },
    {
     "name": "stdout",
     "output_type": "stream",
     "text": [
      "loss: 1.3333544731140137\n",
      "accuracy: 0.6826281547546387\n",
      "Generated Text:  b'harry potter and i go the was in the s back an ap to arrr totntr the theraioonf'\n",
      "\n",
      "\n",
      "Epoch 48:\n"
     ]
    },
    {
     "name": "stderr",
     "output_type": "stream",
     "text": [
      "100%|███████████████████████████████████████████████████████████████████████████████| 1593/1593 [05:36<00:00,  4.74it/s]\n"
     ]
    },
    {
     "name": "stdout",
     "output_type": "stream",
     "text": [
      "loss: 1.3277230262756348\n",
      "accuracy: 0.6843972206115723\n",
      "Generated Text:  b'harry potter and hermione was put the thes the up s in to to the the the the  d atn rn connrir'\n",
      "\n",
      "\n",
      "Epoch 49:\n"
     ]
    },
    {
     "name": "stderr",
     "output_type": "stream",
     "text": [
      "100%|███████████████████████████████████████████████████████████████████████████████| 1593/1593 [06:25<00:00,  4.13it/s]\n"
     ]
    },
    {
     "name": "stdout",
     "output_type": "stream",
     "text": [
      "loss: 1.3210867643356323\n",
      "accuracy: 0.6854853630065918\n",
      "Generated Text:  b'harry potter and have the ter c c you be think in a in for a the a it a a the p the pm a thenm them a'\n",
      "\n",
      "\n",
      "Epoch 50:\n"
     ]
    },
    {
     "name": "stderr",
     "output_type": "stream",
     "text": [
      "100%|███████████████████████████████████████████████████████████████████████████████| 1593/1593 [05:54<00:00,  4.49it/s]\n"
     ]
    },
    {
     "name": "stdout",
     "output_type": "stream",
     "text": [
      "loss: 1.3152425289154053\n",
      "accuracy: 0.6868898868560791\n",
      "Generated Text:  b'harry potter and ? hes the very in said b to s saanarmaeammaaaaaya'\n",
      "\n",
      "\n",
      "Epoch 51:\n"
     ]
    },
    {
     "name": "stderr",
     "output_type": "stream",
     "text": [
      "100%|███████████████████████████████████████████████████████████████████████████████| 1593/1593 [06:36<00:00,  4.02it/s]\n"
     ]
    },
    {
     "name": "stdout",
     "output_type": "stream",
     "text": [
      "loss: 1.3157140016555786\n",
      "accuracy: 0.6866838335990906\n",
      "Generated Text:  b'harry potter and dm.? the very well i said i said she in it in i i a? i the very he i?? said i and'\n",
      "\n",
      "\n",
      "Epoch 52:\n"
     ]
    },
    {
     "name": "stderr",
     "output_type": "stream",
     "text": [
      "100%|███████████████████████████████████████████████████████████████████████████████| 1593/1593 [06:10<00:00,  4.30it/s]\n"
     ]
    },
    {
     "name": "stdout",
     "output_type": "stream",
     "text": [
      "loss: 1.3092838525772095\n",
      "accuracy: 0.6879053115844727\n",
      "Generated Text:  b'harry potter and  i ? he im and very so very said the the i in  they i  very very san a. he saidn very'\n",
      "\n",
      "\n",
      "Epoch 53:\n"
     ]
    },
    {
     "name": "stderr",
     "output_type": "stream",
     "text": [
      "100%|███████████████████████████████████████████████████████████████████████████████| 1593/1593 [06:10<00:00,  4.30it/s]\n"
     ]
    },
    {
     "name": "stdout",
     "output_type": "stream",
     "text": [
      "loss: 1.304879069328308\n",
      "accuracy: 0.6887601017951965\n",
      "Generated Text:  b'harry potter and the we have know the not that was a the very  to   a great . it very very sh s s henn'\n",
      "\n",
      "\n",
      "Epoch 54:\n"
     ]
    },
    {
     "name": "stderr",
     "output_type": "stream",
     "text": [
      "100%|███████████████████████████████████████████████████████████████████████████████| 1593/1593 [06:21<00:00,  4.18it/s]\n"
     ]
    },
    {
     "name": "stdout",
     "output_type": "stream",
     "text": [
      "loss: 1.298090934753418\n",
      "accuracy: 0.6905034184455872\n",
      "Generated Text:  b'harry potter and was go back to on down on the the the  harry a.... in the. the the the the.. a the first a'\n",
      "\n",
      "\n",
      "Epoch 55:\n"
     ]
    },
    {
     "name": "stderr",
     "output_type": "stream",
     "text": [
      "100%|███████████████████████████████████████████████████████████████████████████████| 1593/1593 [05:59<00:00,  4.44it/s]\n"
     ]
    },
    {
     "name": "stdout",
     "output_type": "stream",
     "text": [
      "loss: 1.2983591556549072\n",
      "accuracy: 0.6902069449424744\n",
      "Generated Text:  b'harry potter and a the  very c thea parrruiuscitbtalieramsias'\n",
      "\n",
      "\n",
      "Epoch 56:\n"
     ]
    },
    {
     "name": "stderr",
     "output_type": "stream",
     "text": [
      "100%|███████████████████████████████████████████████████████████████████████████████| 1593/1593 [06:25<00:00,  4.13it/s]\n"
     ]
    },
    {
     "name": "stdout",
     "output_type": "stream",
     "text": [
      "loss: 1.2906347513198853\n",
      "accuracy: 0.6917362809181213\n",
      "Generated Text:  b'harry potter and. hermione was the s  verya gosn. i  to said hen... the the in a s  s an'\n",
      "\n",
      "\n",
      "Epoch 57:\n"
     ]
    },
    {
     "name": "stderr",
     "output_type": "stream",
     "text": [
      "100%|███████████████████████████████████████████████████████████████████████████████| 1593/1593 [05:55<00:00,  4.49it/s]\n"
     ]
    },
    {
     "name": "stdout",
     "output_type": "stream",
     "text": [
      "loss: 1.286897897720337\n",
      "accuracy: 0.6926588416099548\n",
      "Generated Text:  b'harry potter and hermiones a th go was he in on now a the c r s ararrrrrniiaa'\n",
      "\n",
      "\n",
      "Epoch 58:\n"
     ]
    },
    {
     "name": "stderr",
     "output_type": "stream",
     "text": [
      "100%|███████████████████████████████████████████████████████████████████████████████| 1593/1593 [05:56<00:00,  4.47it/s]\n"
     ]
    },
    {
     "name": "stdout",
     "output_type": "stream",
     "text": [
      "loss: 1.2816768884658813\n",
      "accuracy: 0.6937444806098938\n",
      "Generated Text:  b'harry potter and you were hermione. not a at the very good a very very last last ? he s said the. time s the s. s.n'\n",
      "\n",
      "\n",
      "Epoch 59:\n"
     ]
    },
    {
     "name": "stderr",
     "output_type": "stream",
     "text": [
      "100%|███████████████████████████████████████████████████████████████████████████████| 1593/1593 [05:56<00:00,  4.47it/s]\n"
     ]
    },
    {
     "name": "stdout",
     "output_type": "stream",
     "text": [
      "loss: 1.280411720275879\n",
      "accuracy: 0.694095253944397\n",
      "Generated Text:  b'harry potter and he you he was not is the a d to a and the ar great   seasmnnsn.n'\n",
      "\n",
      "\n",
      "Epoch 60:\n"
     ]
    },
    {
     "name": "stderr",
     "output_type": "stream",
     "text": [
      "100%|███████████████████████████████████████████████████████████████████████████████| 1593/1593 [05:56<00:00,  4.47it/s]\n"
     ]
    },
    {
     "name": "stdout",
     "output_type": "stream",
     "text": [
      "loss: 1.277161717414856\n",
      "accuracy: 0.6945934295654297\n",
      "Generated Text:  b'harry potter and the c ?meimayra said smareomamssssednea'\n",
      "\n",
      "\n",
      "Epoch 61:\n"
     ]
    },
    {
     "name": "stderr",
     "output_type": "stream",
     "text": [
      "100%|███████████████████████████████████████████████████████████████████████████████| 1593/1593 [06:10<00:00,  4.30it/s]\n"
     ]
    },
    {
     "name": "stdout",
     "output_type": "stream",
     "text": [
      "loss: 1.2740287780761719\n",
      "accuracy: 0.6953173279762268\n",
      "Generated Text:  b'harry potter and harrys was was head as all was a d to very as s ch the an a ann saidno ann a heon'\n",
      "\n",
      "\n",
      "Epoch 62:\n"
     ]
    },
    {
     "name": "stderr",
     "output_type": "stream",
     "text": [
      "100%|███████████████████████████████████████████████████████████████████████████████| 1593/1593 [06:12<00:00,  4.28it/s]\n"
     ]
    },
    {
     "name": "stdout",
     "output_type": "stream",
     "text": [
      "loss: 1.2692054510116577\n",
      "accuracy: 0.6962555050849915\n",
      "Generated Text:  b'harry potter and the  s very? i  the? c?rnmmrehmayai?aaay ssr'\n",
      "\n",
      "\n",
      "Epoch 63:\n"
     ]
    },
    {
     "name": "stderr",
     "output_type": "stream",
     "text": [
      "100%|███████████████████████████████████████████████████████████████████████████████| 1593/1593 [06:23<00:00,  4.15it/s]\n"
     ]
    },
    {
     "name": "stdout",
     "output_type": "stream",
     "text": [
      "loss: 1.2699006795883179\n",
      "accuracy: 0.6960093379020691\n",
      "Generated Text:  b'harry potter and harrys had just  in. a a very a very c mnn a c paaaa  aas astc '\n",
      "\n",
      "\n",
      "Epoch 64:\n"
     ]
    },
    {
     "name": "stderr",
     "output_type": "stream",
     "text": [
      "100%|███████████████████████████████████████████████████████████████████████████████| 1593/1593 [05:56<00:00,  4.47it/s]\n"
     ]
    },
    {
     "name": "stdout",
     "output_type": "stream",
     "text": [
      "loss: 1.262851595878601\n",
      "accuracy: 0.6977832913398743\n",
      "Generated Text:  b'harry potter and they not? to to in the not the very the a s old the p last. a m s a a h a ser '\n",
      "\n",
      "\n",
      "Epoch 65:\n"
     ]
    },
    {
     "name": "stderr",
     "output_type": "stream",
     "text": [
      "100%|███████████████████████████████████████████████████████████████████████████████| 1593/1593 [06:25<00:00,  4.13it/s]\n"
     ]
    },
    {
     "name": "stdout",
     "output_type": "stream",
     "text": [
      "loss: 1.2595762014389038\n",
      "accuracy: 0.6985997557640076\n",
      "Generated Text:  b'harry potter and s ae whatpasts?p.... i no i   harry a harry said and. said.?'\n",
      "\n",
      "\n",
      "Epoch 66:\n"
     ]
    },
    {
     "name": "stderr",
     "output_type": "stream",
     "text": [
      "100%|███████████████████████████████████████████████████████████████████████████████| 1593/1593 [05:58<00:00,  4.44it/s]\n"
     ]
    },
    {
     "name": "stdout",
     "output_type": "stream",
     "text": [
      "loss: 1.259417176246643\n",
      "accuracy: 0.6985316872596741\n",
      "Generated Text:  b'harry potter and not was was the harry in the the one the he a p an an very very very  d .n very very a very s'\n",
      "\n",
      "\n",
      "Epoch 67:\n"
     ]
    },
    {
     "name": "stderr",
     "output_type": "stream",
     "text": [
      "100%|███████████████████████████████████████████████████████████████████████████████| 1593/1593 [06:25<00:00,  4.13it/s]\n"
     ]
    },
    {
     "name": "stdout",
     "output_type": "stream",
     "text": [
      "loss: 1.2578847408294678\n",
      "accuracy: 0.6987515091896057\n",
      "Generated Text:  b'harry potter and  the you not. very very very i a c it a very the very s p ina a the shha thes ae'\n",
      "\n",
      "\n",
      "Epoch 68:\n"
     ]
    },
    {
     "name": "stderr",
     "output_type": "stream",
     "text": [
      "100%|███████████████████████████████████████████████████████████████████████████████| 1593/1593 [06:24<00:00,  4.14it/s]\n"
     ]
    },
    {
     "name": "stdout",
     "output_type": "stream",
     "text": [
      "loss: 1.2517011165618896\n",
      "accuracy: 0.7001223564147949\n",
      "Generated Text:  b'harry potter and harry he as  and was  s a very the very very very good. s sy s veryn s ceeee'\n",
      "\n",
      "\n",
      "Epoch 69:\n"
     ]
    },
    {
     "name": "stderr",
     "output_type": "stream",
     "text": [
      "100%|███████████████████████████████████████████████████████████████████████████████| 1593/1593 [06:08<00:00,  4.32it/s]\n"
     ]
    },
    {
     "name": "stdout",
     "output_type": "stream",
     "text": [
      "loss: 1.2527981996536255\n",
      "accuracy: 0.6995652318000793\n",
      "Generated Text:  b'harry potter ands the c was p ina the p inarorageta.tr an.s asst sr'\n",
      "\n",
      "\n",
      "Epoch 70:\n"
     ]
    },
    {
     "name": "stderr",
     "output_type": "stream",
     "text": [
      "100%|███████████████████████████████████████████████████████████████████████████████| 1593/1593 [06:07<00:00,  4.34it/s]\n"
     ]
    },
    {
     "name": "stdout",
     "output_type": "stream",
     "text": [
      "loss: 1.2506812810897827\n",
      "accuracy: 0.6999889612197876\n",
      "Generated Text:  b'harry potter and... the. in the a s very very the time  the she  sn co conneraddnyna'\n",
      "\n",
      "\n",
      "Epoch 71:\n"
     ]
    },
    {
     "name": "stderr",
     "output_type": "stream",
     "text": [
      "100%|███████████████████████████████████████████████████████████████████████████████| 1593/1593 [06:10<00:00,  4.30it/s]\n"
     ]
    },
    {
     "name": "stdout",
     "output_type": "stream",
     "text": [
      "loss: 1.245117425918579\n",
      "accuracy: 0.7012640833854675\n",
      "Generated Text:  b'harry potter and hermione would . it the was the very d to se verya saa a  saaamassa'\n",
      "\n",
      "\n",
      "Epoch 72:\n"
     ]
    },
    {
     "name": "stderr",
     "output_type": "stream",
     "text": [
      "100%|███████████████████████████████████████████████████████████████████████████████| 1593/1593 [06:21<00:00,  4.17it/s]\n"
     ]
    },
    {
     "name": "stdout",
     "output_type": "stream",
     "text": [
      "loss: 1.2445489168167114\n",
      "accuracy: 0.7013658881187439\n",
      "Generated Text:  b'harry potter and the other the look morely s and and and s very s .? in. very very very very very old very in the i s'\n",
      "\n",
      "\n",
      "Epoch 73:\n"
     ]
    },
    {
     "name": "stderr",
     "output_type": "stream",
     "text": [
      "100%|███████████████████████████████████████████████████████████████████████████████| 1593/1593 [06:09<00:00,  4.32it/s]\n"
     ]
    },
    {
     "name": "stdout",
     "output_type": "stream",
     "text": [
      "loss: 1.2398607730865479\n",
      "accuracy: 0.7027112245559692\n",
      "Generated Text:  b'harry potter and was he to the  s veryn aenr ann. yomneye.er.?  a'\n",
      "\n",
      "\n",
      "Epoch 74:\n"
     ]
    },
    {
     "name": "stderr",
     "output_type": "stream",
     "text": [
      "100%|███████████████████████████████████████████████████████████████████████████████| 1593/1593 [05:41<00:00,  4.67it/s]\n"
     ]
    },
    {
     "name": "stdout",
     "output_type": "stream",
     "text": [
      "loss: 1.239051103591919\n",
      "accuracy: 0.7024677991867065\n",
      "Generated Text:  b'harry potter ands hes was to to in a. there the a a very a look a  very very s s s s very snan.'\n",
      "\n",
      "\n",
      "Epoch 75:\n"
     ]
    },
    {
     "name": "stderr",
     "output_type": "stream",
     "text": [
      "100%|███████████████████████████████████████████████████████████████████████████████| 1593/1593 [06:11<00:00,  4.29it/s]\n"
     ]
    },
    {
     "name": "stdout",
     "output_type": "stream",
     "text": [
      "loss: 1.236093521118164\n",
      "accuracy: 0.7034532427787781\n",
      "Generated Text:  b'harry potter and they the.? the the the mean one look harry i a s s harry hen the s.e as? s.'\n",
      "\n",
      "\n",
      "Epoch 76:\n"
     ]
    },
    {
     "name": "stderr",
     "output_type": "stream",
     "text": [
      "100%|███████████████████████████████████████████████████████████████████████████████| 1593/1593 [06:25<00:00,  4.13it/s]\n"
     ]
    },
    {
     "name": "stdout",
     "output_type": "stream",
     "text": [
      "loss: 1.233878254890442\n",
      "accuracy: 0.7032922506332397\n",
      "Generated Text:  b'harry potter and the  thought in the the very to co  cornsnct.aaaant asvecao'\n",
      "\n",
      "\n",
      "Epoch 77:\n"
     ]
    },
    {
     "name": "stderr",
     "output_type": "stream",
     "text": [
      "100%|███████████████████████████████████████████████████████████████████████████████| 1593/1593 [06:24<00:00,  4.15it/s]\n"
     ]
    },
    {
     "name": "stdout",
     "output_type": "stream",
     "text": [
      "loss: 1.2290353775024414\n",
      "accuracy: 0.7050181031227112\n",
      "Generated Text:  b'harry potter and all a you a d the prmoobobarartroariosts.slem'\n",
      "\n",
      "\n",
      "Epoch 78:\n"
     ]
    },
    {
     "name": "stderr",
     "output_type": "stream",
     "text": [
      "100%|███████████████████████████████████████████████████████████████████████████████| 1593/1593 [06:10<00:00,  4.30it/s]\n"
     ]
    },
    {
     "name": "stdout",
     "output_type": "stream",
     "text": [
      "loss: 1.230109691619873\n",
      "accuracy: 0.7042997479438782\n",
      "Generated Text:  b'harry potter and the he look very the very back c ins the in the ar as p in the b pererthaaaa'\n",
      "\n",
      "\n",
      "Epoch 79:\n"
     ]
    },
    {
     "name": "stderr",
     "output_type": "stream",
     "text": [
      "100%|███████████████████████████████████████████████████████████████████████████████| 1593/1593 [06:11<00:00,  4.29it/s]\n"
     ]
    },
    {
     "name": "stdout",
     "output_type": "stream",
     "text": [
      "loss: 1.2275125980377197\n",
      "accuracy: 0.7050073742866516\n",
      "Generated Text:  b'harry potter and ron he said said? s c and sarms syunnisedne a?ye ands'\n",
      "\n",
      "\n",
      "Epoch 80:\n"
     ]
    },
    {
     "name": "stderr",
     "output_type": "stream",
     "text": [
      "100%|███████████████████████████████████████████████████████████████████████████████| 1593/1593 [06:09<00:00,  4.31it/s]\n"
     ]
    },
    {
     "name": "stdout",
     "output_type": "stream",
     "text": [
      "loss: 1.2244887351989746\n",
      "accuracy: 0.7054175734519958\n",
      "Generated Text:  b'harry potter and a very he still f the not c s?. a a sna sareydnaammaaaa'\n",
      "\n",
      "\n",
      "Epoch 81:\n"
     ]
    },
    {
     "name": "stderr",
     "output_type": "stream",
     "text": [
      "100%|███████████████████████████████████████████████████████████████████████████████| 1593/1593 [06:21<00:00,  4.17it/s]\n"
     ]
    },
    {
     "name": "stdout",
     "output_type": "stream",
     "text": [
      "loss: 1.224104881286621\n",
      "accuracy: 0.7057033181190491\n",
      "Generated Text:  b'harry potter and! ron s thought.  a a all  sn s a annipasnsaamii '\n",
      "\n",
      "\n",
      "Epoch 82:\n"
     ]
    },
    {
     "name": "stderr",
     "output_type": "stream",
     "text": [
      "100%|███████████████████████████████████████████████████████████████████████████████| 1593/1593 [06:28<00:00,  4.10it/s]\n"
     ]
    },
    {
     "name": "stdout",
     "output_type": "stream",
     "text": [
      "loss: 1.2229573726654053\n",
      "accuracy: 0.705970048904419\n",
      "Generated Text:  b'harry potter and all was he the a . co sdnnranscsyocmasosasso'\n",
      "\n",
      "\n",
      "Epoch 83:\n"
     ]
    },
    {
     "name": "stderr",
     "output_type": "stream",
     "text": [
      "100%|███████████████████████████████████████████████████████████████████████████████| 1593/1593 [06:12<00:00,  4.28it/s]\n"
     ]
    },
    {
     "name": "stdout",
     "output_type": "stream",
     "text": [
      "loss: 1.2200713157653809\n",
      "accuracy: 0.7063432335853577\n",
      "Generated Text:  b'harry potter and then harrys we was a a look look very said very very very very suddenly long old long he to he and he very head and he s he said'\n",
      "\n",
      "\n",
      "Epoch 84:\n"
     ]
    },
    {
     "name": "stderr",
     "output_type": "stream",
     "text": [
      "100%|███████████████████████████████████████████████████████████████████████████████| 1593/1593 [06:13<00:00,  4.26it/s]\n"
     ]
    },
    {
     "name": "stdout",
     "output_type": "stream",
     "text": [
      "loss: 1.217747688293457\n",
      "accuracy: 0.7067666053771973\n",
      "Generated Text:  b'harry potter and he harrys was got head g his back to. not all back the a all. s. in his all c p a to in the to p'\n",
      "\n",
      "\n",
      "Epoch 85:\n"
     ]
    },
    {
     "name": "stderr",
     "output_type": "stream",
     "text": [
      "100%|███████████████████████████████████████████████████████████████████████████████| 1593/1593 [06:26<00:00,  4.12it/s]\n"
     ]
    },
    {
     "name": "stdout",
     "output_type": "stream",
     "text": [
      "loss: 1.216456413269043\n",
      "accuracy: 0.7069609761238098\n",
      "Generated Text:  b'harry potter and you have was a still to the look head look old in s a. very a very to a very to  very said to very said i'\n",
      "\n",
      "\n",
      "Epoch 86:\n"
     ]
    },
    {
     "name": "stderr",
     "output_type": "stream",
     "text": [
      "100%|███████████████████████████████████████████████████████████████████████████████| 1593/1593 [06:13<00:00,  4.26it/s]\n"
     ]
    },
    {
     "name": "stdout",
     "output_type": "stream",
     "text": [
      "loss: 1.2123544216156006\n",
      "accuracy: 0.7080184817314148\n",
      "Generated Text:  b'harry potter and all. the in the the my the time.s  he a hes d p the verys  s.sn cobbn'\n",
      "\n",
      "\n",
      "Epoch 87:\n"
     ]
    },
    {
     "name": "stderr",
     "output_type": "stream",
     "text": [
      "100%|███████████████████████████████████████████████████████████████████████████████| 1593/1593 [05:56<00:00,  4.47it/s]\n"
     ]
    },
    {
     "name": "stdout",
     "output_type": "stream",
     "text": [
      "loss: 1.2118079662322998\n",
      "accuracy: 0.7082520723342896\n",
      "Generated Text:  b'harry potter and hermione at a sd them very ... said. the harry.. . the very. to for i very the in very a'\n",
      "\n",
      "\n",
      "Epoch 88:\n"
     ]
    },
    {
     "name": "stderr",
     "output_type": "stream",
     "text": [
      "100%|███████████████████████████████████████████████████████████████████████████████| 1593/1593 [06:11<00:00,  4.29it/s]\n"
     ]
    },
    {
     "name": "stdout",
     "output_type": "stream",
     "text": [
      "loss: 1.2090872526168823\n",
      "accuracy: 0.708732545375824\n",
      "Generated Text:  b'harry potter and what hagrid have was as in the a s the last  a.ss cossnsp at atsla'\n",
      "\n",
      "\n",
      "Epoch 89:\n"
     ]
    },
    {
     "name": "stderr",
     "output_type": "stream",
     "text": [
      "100%|███████████████████████████████████████████████████████████████████████████████| 1593/1593 [06:10<00:00,  4.29it/s]\n"
     ]
    },
    {
     "name": "stdout",
     "output_type": "stream",
     "text": [
      "loss: 1.206286072731018\n",
      "accuracy: 0.7092651128768921\n",
      "Generated Text:  b'harry potter and ... the not not very i be the for the. very  the the this the the the the p in d a very very very  very'\n",
      "\n",
      "\n",
      "Epoch 90:\n"
     ]
    },
    {
     "name": "stderr",
     "output_type": "stream",
     "text": [
      "100%|███████████████████████████████████████████████████████████████████████████████| 1593/1593 [06:10<00:00,  4.30it/s]\n"
     ]
    },
    {
     "name": "stdout",
     "output_type": "stream",
     "text": [
      "loss: 1.2065927982330322\n",
      "accuracy: 0.7092981934547424\n",
      "Generated Text:  b'harry potter and a they the now so d the s s. seresamtea thesddl ayaasb'\n",
      "\n",
      "\n",
      "Epoch 91:\n"
     ]
    },
    {
     "name": "stderr",
     "output_type": "stream",
     "text": [
      "100%|███████████████████████████████████████████████████████████████████████████████| 1593/1593 [05:58<00:00,  4.44it/s]\n"
     ]
    },
    {
     "name": "stdout",
     "output_type": "stream",
     "text": [
      "loss: 1.2015749216079712\n",
      "accuracy: 0.7105028033256531\n",
      "Generated Text:  b'harry potter and   ...?. s not?ing them?ha said  harry.? the what he  the thes harry you the'\n",
      "\n",
      "\n",
      "Epoch 92:\n"
     ]
    },
    {
     "name": "stderr",
     "output_type": "stream",
     "text": [
      "100%|███████████████████████████████████████████████████████████████████████████████| 1593/1593 [06:24<00:00,  4.14it/s]\n"
     ]
    },
    {
     "name": "stdout",
     "output_type": "stream",
     "text": [
      "loss: 1.2001014947891235\n",
      "accuracy: 0.7110270857810974\n",
      "Generated Text:  b'harry potter and hermione in a ss  the very and. the very very. very the the s very very s s time time c c a ia'\n",
      "\n",
      "\n",
      "Epoch 93:\n"
     ]
    },
    {
     "name": "stderr",
     "output_type": "stream",
     "text": [
      "100%|███████████████████████████████████████████████████████████████████████████████| 1593/1593 [05:56<00:00,  4.47it/s]\n"
     ]
    },
    {
     "name": "stdout",
     "output_type": "stream",
     "text": [
      "loss: 1.1997895240783691\n",
      "accuracy: 0.7107422947883606\n",
      "Generated Text:  b'harry potter and. was the go first in to hermione. one. he harry the he a  a  one an . ps the a very  '\n",
      "\n",
      "\n",
      "Epoch 94:\n"
     ]
    },
    {
     "name": "stderr",
     "output_type": "stream",
     "text": [
      "100%|███████████████████████████████████████████████████████████████████████████████| 1593/1593 [06:11<00:00,  4.29it/s]\n"
     ]
    },
    {
     "name": "stdout",
     "output_type": "stream",
     "text": [
      "loss: 1.198113203048706\n",
      "accuracy: 0.7112791538238525\n",
      "Generated Text:  b'harry potter and they said was in a a a  s. and the very very s ahn nh sa amnior'\n",
      "\n",
      "\n",
      "Epoch 95:\n"
     ]
    },
    {
     "name": "stderr",
     "output_type": "stream",
     "text": [
      "100%|███████████████████████████████████████████████████████████████████████████████| 1593/1593 [05:59<00:00,  4.43it/s]\n"
     ]
    },
    {
     "name": "stdout",
     "output_type": "stream",
     "text": [
      "loss: 1.1980528831481934\n",
      "accuracy: 0.7110596299171448\n",
      "Generated Text:  b'harry potter and im hermione all. you the you very? i. the  they got no i the? very very. no said i the go he a he'\n",
      "\n",
      "\n",
      "Epoch 96:\n"
     ]
    },
    {
     "name": "stderr",
     "output_type": "stream",
     "text": [
      "100%|███████████████████████████████████████████████████████████████████████████████| 1593/1593 [05:55<00:00,  4.48it/s]\n"
     ]
    },
    {
     "name": "stdout",
     "output_type": "stream",
     "text": [
      "loss: 1.1949411630630493\n",
      "accuracy: 0.711973249912262\n",
      "Generated Text:  b'harry potter and... he not said you harry. and he have was he the a look a said very to a a the very very very c a a s very'\n",
      "\n",
      "\n",
      "Epoch 97:\n"
     ]
    },
    {
     "name": "stderr",
     "output_type": "stream",
     "text": [
      "100%|███████████████████████████████████████████████████████████████████████████████| 1593/1593 [06:14<00:00,  4.25it/s]\n"
     ]
    },
    {
     "name": "stdout",
     "output_type": "stream",
     "text": [
      "loss: 1.1908539533615112\n",
      "accuracy: 0.712770402431488\n",
      "Generated Text:  b'harry potter and the not the in only a. one he the and  very s. c c i and. the you in very the in  the c a'\n",
      "\n",
      "\n",
      "Epoch 98:\n"
     ]
    },
    {
     "name": "stderr",
     "output_type": "stream",
     "text": [
      "100%|███████████████████████████████████████████████████████████████████████████████| 1593/1593 [06:10<00:00,  4.30it/s]\n"
     ]
    },
    {
     "name": "stdout",
     "output_type": "stream",
     "text": [
      "loss: 1.190521478652954\n",
      "accuracy: 0.7127882242202759\n",
      "Generated Text:  b'harry potter and ! said you a dont   think said? the the?. i a he be the said he be said in i a a a very'\n",
      "\n",
      "\n",
      "Epoch 99:\n"
     ]
    },
    {
     "name": "stderr",
     "output_type": "stream",
     "text": [
      "100%|███████████████████████████████████████████████████████████████████████████████| 1593/1593 [06:25<00:00,  4.13it/s]\n"
     ]
    },
    {
     "name": "stdout",
     "output_type": "stream",
     "text": [
      "loss: 1.189460277557373\n",
      "accuracy: 0.7130255103111267\n",
      "Generated Text:  b'harry potter and  what the the he a s comnmmsodaayamassmssysss'\n",
      "\n",
      "\n"
     ]
    }
   ],
   "source": [
    "import data_processing as dp\n",
    "import tensorflow as tf\n",
    "from model import MyModel\n",
    "from training_loop import training_loop\n",
    "\n",
    "# variables from prepare, do not change, or otherwise prepare newly\n",
    "original_file_path = \"data/HP1.txt\"\n",
    "prepared_file_path = \"data/prepared_HP1.txt\"\n",
    "model_prefix = 'tokenizer_model'\n",
    "# Define where to save the log and model\n",
    "config_name = \"run2_HP_100epochs\"\n",
    "train_summary_writer = tf.summary.create_file_writer(f\"logs/{config_name}/train\")\n",
    "VOCABULARY_SIZE = 2000 # 2000 - 7000\n",
    "WINDOW_SIZE = 32 # 32 - 256\n",
    "BATCH_SIZE = 64\n",
    "EMBEDDING_DIM = 100 # 64 - 256\n",
    "NUM_HEADS = 2 # 2-4\n",
    "FIRST_UNIT = 64 # 32-256\n",
    "\n",
    "starting_prompt = \"harry potter and \"\n",
    "EPOCHS_start = 0 # only needed if you want to continue training\n",
    "EPOCHS_end = 100 # 100 - 600\n",
    "TEST_OUTPUT_LENGTH = 30\n",
    "TOP_K = 20\n",
    "\n",
    "# important: tokenizer, optimizer, loss_function, VOCABULARY_SIZE, WINDOW_SIZE, EMBEDDING_DIM, NUM_HEADS, FIRST_UNIT\n",
    "# create file of model, add all the important data to it\n",
    "with open(f\"text/{config_name}.txt\", \"a\") as f:\n",
    "    f.write(f\"CONFIG: {config_name}\\nEPOCHS: {EPOCHS_start} - {EPOCHS_end}\\ndata: {prepared_file_path}\\n\\nvocabulary size: {VOCABULARY_SIZE}\\nwindow size: {WINDOW_SIZE}\\nembedding dim: {EMBEDDING_DIM}\\nnum heads: {NUM_HEADS}\\nfirst unit: {FIRST_UNIT}\\n\\n\")\n",
    "\n",
    "# variables for the model\n",
    "optimizer = tf.keras.optimizers.Adam(learning_rate = 0.001)\n",
    "loss_function = tf.keras.losses.CategoricalCrossentropy(from_logits = True)\n",
    "\n",
    "# Data creation\n",
    "#**************\n",
    "\n",
    "# prepare if you want to create a new tokenizer and a new prepared data file\n",
    "data, prepared_data, tokenizer = dp.prepare_everything(original_file_path,prepared_file_path,model_prefix,VOCABULARY_SIZE)\n",
    "\n",
    "# if you only want to create a new tokenizer first, use loading afterwards\n",
    "# dp.train_tokenizer(prepared_file_path,VOCABULARY_SIZE,model_prefix)\n",
    "\n",
    "# load everything if already prepared\n",
    "#data, prepared_data, tokenizer = dp.load_everything(original_file_path,prepared_file_path,model_prefix)\n",
    "\n",
    "dataset = dp.create_dataset(prepared_data,tokenizer,WINDOW_SIZE, BATCH_SIZE)\n",
    "\n",
    "# Model and training\n",
    "#*******************\n",
    "\n",
    "model = MyModel(tokenizer, optimizer, loss_function, VOCABULARY_SIZE, WINDOW_SIZE, EMBEDDING_DIM, NUM_HEADS, FIRST_UNIT)\n",
    "#model.generate_text(\"hello dear,\", 1, 2)\n",
    "#model.load_weights(f'model/{config_name}')\n",
    "\n",
    "training_loop(model,dataset,EPOCHS_start, EPOCHS_end,starting_prompt, TEST_OUTPUT_LENGTH, TOP_K, train_summary_writer,config_name)\n",
    "\n"
   ]
  },
  {
   "cell_type": "code",
   "execution_count": 2,
   "id": "b87bde8a-7bbb-413f-9e49-6cc86a1eb6b2",
   "metadata": {},
   "outputs": [
    {
     "data": {
      "text/html": [
       "\n",
       "      <iframe id=\"tensorboard-frame-857e4df8adba351d\" width=\"100%\" height=\"800\" frameborder=\"0\">\n",
       "      </iframe>\n",
       "      <script>\n",
       "        (function() {\n",
       "          const frame = document.getElementById(\"tensorboard-frame-857e4df8adba351d\");\n",
       "          const url = new URL(\"/\", window.location);\n",
       "          const port = 6006;\n",
       "          if (port) {\n",
       "            url.port = port;\n",
       "          }\n",
       "          frame.src = url;\n",
       "        })();\n",
       "      </script>\n",
       "    "
      ],
      "text/plain": [
       "<IPython.core.display.HTML object>"
      ]
     },
     "metadata": {},
     "output_type": "display_data"
    }
   ],
   "source": [
    "%load_ext tensorboard\n",
    "%tensorboard --logdir=\"logs/\""
   ]
  }
 ],
 "metadata": {
  "kernelspec": {
   "display_name": "Python 3 (ipykernel)",
   "language": "python",
   "name": "python3"
  },
  "language_info": {
   "codemirror_mode": {
    "name": "ipython",
    "version": 3
   },
   "file_extension": ".py",
   "mimetype": "text/x-python",
   "name": "python",
   "nbconvert_exporter": "python",
   "pygments_lexer": "ipython3",
   "version": "3.10.8"
  }
 },
 "nbformat": 4,
 "nbformat_minor": 5
}
