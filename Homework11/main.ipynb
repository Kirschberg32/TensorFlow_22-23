{
 "cells": [
  {
   "cell_type": "code",
   "execution_count": 1,
   "id": "2a1572ee-8302-46f3-9d80-a1f22a3286a1",
   "metadata": {},
   "outputs": [
    {
     "name": "stderr",
     "output_type": "stream",
     "text": [
      "2023-02-16 01:41:38.318025: I tensorflow/core/platform/cpu_feature_guard.cc:193] This TensorFlow binary is optimized with oneAPI Deep Neural Network Library (oneDNN) to use the following CPU instructions in performance-critical operations:  AVX2 FMA\n",
      "To enable them in other operations, rebuild TensorFlow with the appropriate compiler flags.\n",
      "2023-02-16 01:41:38.443317: W tensorflow/compiler/xla/stream_executor/platform/default/dso_loader.cc:64] Could not load dynamic library 'libcudart.so.11.0'; dlerror: libcudart.so.11.0: cannot open shared object file: No such file or directory\n",
      "2023-02-16 01:41:38.443382: I tensorflow/compiler/xla/stream_executor/cuda/cudart_stub.cc:29] Ignore above cudart dlerror if you do not have a GPU set up on your machine.\n",
      "2023-02-16 01:41:39.041233: W tensorflow/compiler/xla/stream_executor/platform/default/dso_loader.cc:64] Could not load dynamic library 'libnvinfer.so.7'; dlerror: libnvinfer.so.7: cannot open shared object file: No such file or directory\n",
      "2023-02-16 01:41:39.041317: W tensorflow/compiler/xla/stream_executor/platform/default/dso_loader.cc:64] Could not load dynamic library 'libnvinfer_plugin.so.7'; dlerror: libnvinfer_plugin.so.7: cannot open shared object file: No such file or directory\n",
      "2023-02-16 01:41:39.041325: W tensorflow/compiler/tf2tensorrt/utils/py_utils.cc:38] TF-TRT Warning: Cannot dlopen some TensorRT libraries. If you would like to use Nvidia GPU with TensorRT, please make sure the missing libraries mentioned above are installed properly.\n",
      "2023-02-16 01:41:39.871600: W tensorflow/compiler/xla/stream_executor/platform/default/dso_loader.cc:64] Could not load dynamic library 'libcuda.so.1'; dlerror: libcuda.so.1: cannot open shared object file: No such file or directory\n",
      "2023-02-16 01:41:39.871648: W tensorflow/compiler/xla/stream_executor/cuda/cuda_driver.cc:265] failed call to cuInit: UNKNOWN ERROR (303)\n",
      "2023-02-16 01:41:39.871673: I tensorflow/compiler/xla/stream_executor/cuda/cuda_diagnostics.cc:156] kernel driver does not appear to be running on this host (DESKTOP-0B8HQDM): /proc/driver/nvidia/version does not exist\n",
      "2023-02-16 01:41:39.871889: I tensorflow/core/platform/cpu_feature_guard.cc:193] This TensorFlow binary is optimized with oneAPI Deep Neural Network Library (oneDNN) to use the following CPU instructions in performance-critical operations:  AVX2 FMA\n",
      "To enable them in other operations, rebuild TensorFlow with the appropriate compiler flags.\n"
     ]
    },
    {
     "name": "stdout",
     "output_type": "stream",
     "text": [
      "Epoch 91:\n"
     ]
    },
    {
     "name": "stderr",
     "output_type": "stream",
     "text": [
      "100%|███████████████████████████████████████████████████████████████████████████████| 1593/1593 [05:02<00:00,  5.27it/s]\n"
     ]
    },
    {
     "name": "stdout",
     "output_type": "stream",
     "text": [
      "loss: 1.5839775800704956\n",
      "accuracy: 0.6494523286819458\n",
      "Generated Text:  b'harry potter.?  wes the very a what  veryms said? he to he youh i is a. the just  very in'\n",
      "\n",
      "\n",
      "Epoch 92:\n"
     ]
    },
    {
     "name": "stderr",
     "output_type": "stream",
     "text": [
      "100%|███████████████████████████████████████████████████████████████████████████████| 1593/1593 [05:07<00:00,  5.18it/s]\n"
     ]
    },
    {
     "name": "stdout",
     "output_type": "stream",
     "text": [
      "loss: 1.490087866783142\n",
      "accuracy: 0.65826416015625\n",
      "Generated Text:  b'harry potter who did. the. i to the the one the p i i  ims i just the i  just just very one the very and'\n",
      "\n",
      "\n",
      "Epoch 93:\n"
     ]
    },
    {
     "name": "stderr",
     "output_type": "stream",
     "text": [
      "100%|███████████████████████████████████████████████████████████████████████████████| 1593/1593 [05:31<00:00,  4.81it/s]\n"
     ]
    },
    {
     "name": "stdout",
     "output_type": "stream",
     "text": [
      "loss: 1.4478368759155273\n",
      "accuracy: 0.6631295084953308\n",
      "Generated Text:  b'harry potter. he and he alssssss not a eohhaos!ss sme? said'\n",
      "\n",
      "\n",
      "Epoch 94:\n"
     ]
    },
    {
     "name": "stderr",
     "output_type": "stream",
     "text": [
      "100%|███████████████████████████████████████████████████████████████████████████████| 1593/1593 [05:58<00:00,  4.44it/s]\n"
     ]
    },
    {
     "name": "stdout",
     "output_type": "stream",
     "text": [
      "loss: 1.4213614463806152\n",
      "accuracy: 0.6663973331451416\n",
      "Generated Text:  b'harry potter im just i in the go. the a very very ma  a. very  to. . very s and. he he  .'\n",
      "\n",
      "\n",
      "Epoch 95:\n"
     ]
    },
    {
     "name": "stderr",
     "output_type": "stream",
     "text": [
      "100%|███████████████████████████████████████████████████████████████████████████████| 1593/1593 [05:12<00:00,  5.09it/s]\n"
     ]
    },
    {
     "name": "stdout",
     "output_type": "stream",
     "text": [
      "loss: 1.4008774757385254\n",
      "accuracy: 0.6694695949554443\n",
      "Generated Text:  b'harry potter in? a a to we can the be look  saids be very the very in good said. an s  i he an  and a'\n",
      "\n",
      "\n",
      "Epoch 96:\n"
     ]
    },
    {
     "name": "stderr",
     "output_type": "stream",
     "text": [
      "100%|███████████████████████████████████████████████████████████████████████████████| 1593/1593 [05:42<00:00,  4.65it/s]\n"
     ]
    },
    {
     "name": "stdout",
     "output_type": "stream",
     "text": [
      "loss: 1.385648488998413\n",
      "accuracy: 0.6720890998840332\n",
      "Generated Text:  b'harry potter was who just just s as  the padpeaveamttiat attyredse'\n",
      "\n",
      "\n",
      "Epoch 97:\n"
     ]
    },
    {
     "name": "stderr",
     "output_type": "stream",
     "text": [
      "100%|███████████████████████████████████████████████████████████████████████████████| 1593/1593 [05:28<00:00,  4.85it/s]\n"
     ]
    },
    {
     "name": "stdout",
     "output_type": "stream",
     "text": [
      "loss: 1.3708281517028809\n",
      "accuracy: 0.6747114062309265\n",
      "Generated Text:  b'harry potter . .. the very .. ill i i ill very i said not?.? said said harry i i in a be.'\n",
      "\n",
      "\n",
      "Epoch 98:\n"
     ]
    },
    {
     "name": "stderr",
     "output_type": "stream",
     "text": [
      "100%|███████████████████████████████████████████████████████████████████████████████| 1593/1593 [05:27<00:00,  4.86it/s]\n"
     ]
    },
    {
     "name": "stdout",
     "output_type": "stream",
     "text": [
      "loss: 1.3619945049285889\n",
      "accuracy: 0.6763644218444824\n",
      "Generated Text:  b'harry potter. in the to the the d veryr  the veryy.nn yhe to.s a   ...m a'\n",
      "\n",
      "\n",
      "Epoch 99:\n"
     ]
    },
    {
     "name": "stderr",
     "output_type": "stream",
     "text": [
      "100%|███████████████████████████████████████████████████████████████████████████████| 1593/1593 [05:41<00:00,  4.67it/s]\n"
     ]
    },
    {
     "name": "stdout",
     "output_type": "stream",
     "text": [
      "loss: 1.3526102304458618\n",
      "accuracy: 0.6779841184616089\n",
      "Generated Text:  b'harry potters! he he ron said and harry. s told he and was the in  s s a harry the he and an  the the  co'\n",
      "\n",
      "\n",
      "Epoch 100:\n"
     ]
    },
    {
     "name": "stderr",
     "output_type": "stream",
     "text": [
      "100%|███████████████████████████████████████████████████████████████████████████████| 1593/1593 [05:40<00:00,  4.68it/s]\n"
     ]
    },
    {
     "name": "stdout",
     "output_type": "stream",
     "text": [
      "loss: 1.343821406364441\n",
      "accuracy: 0.6796972155570984\n",
      "Generated Text:  b'harry potter was very still to still still see still very as s harry a only it. i.  on the i in there the the a s the'\n",
      "\n",
      "\n",
      "Epoch 101:\n"
     ]
    },
    {
     "name": "stderr",
     "output_type": "stream",
     "text": [
      "100%|███████████████████████████████████████████████████████████████████████████████| 1593/1593 [05:44<00:00,  4.62it/s]\n"
     ]
    },
    {
     "name": "stdout",
     "output_type": "stream",
     "text": [
      "loss: 1.3367701768875122\n",
      "accuracy: 0.6813380122184753\n",
      "Generated Text:  b'harry potter. nots... the he the just in only a one. the the look i very a a so s the he the  in very p b'\n",
      "\n",
      "\n",
      "Epoch 102:\n"
     ]
    },
    {
     "name": "stderr",
     "output_type": "stream",
     "text": [
      "100%|███████████████████████████████████████████████████████████████████████████████| 1593/1593 [05:56<00:00,  4.47it/s]\n"
     ]
    },
    {
     "name": "stdout",
     "output_type": "stream",
     "text": [
      "loss: 1.3293216228485107\n",
      "accuracy: 0.6821119785308838\n",
      "Generated Text:  b'harry potter and a  s! you irs... the?... the. no i said and said. he a i. the said not i'\n",
      "\n",
      "\n",
      "Epoch 103:\n"
     ]
    },
    {
     "name": "stderr",
     "output_type": "stream",
     "text": [
      "100%|███████████████████████████████████████████████████████████████████████████████| 1593/1593 [05:41<00:00,  4.66it/s]\n"
     ]
    },
    {
     "name": "stdout",
     "output_type": "stream",
     "text": [
      "loss: 1.321715235710144\n",
      "accuracy: 0.6842291355133057\n",
      "Generated Text:  b'harry potter... the i can he he s asn.sn in the?s. the the very he the the. very very and a'\n",
      "\n",
      "\n",
      "Epoch 104:\n"
     ]
    },
    {
     "name": "stderr",
     "output_type": "stream",
     "text": [
      "100%|███████████████████████████████████████████████████████████████████████████████| 1593/1593 [05:27<00:00,  4.86it/s]\n"
     ]
    },
    {
     "name": "stdout",
     "output_type": "stream",
     "text": [
      "loss: 1.3163683414459229\n",
      "accuracy: 0.6851223111152649\n",
      "Generated Text:  b'harry potter as a to go. a a chn mrenrennsnoe a was wasm ayd ins was'\n",
      "\n",
      "\n",
      "Epoch 105:\n"
     ]
    },
    {
     "name": "stderr",
     "output_type": "stream",
     "text": [
      "100%|███████████████████████████████████████████████████████████████████████████████| 1593/1593 [05:42<00:00,  4.66it/s]\n"
     ]
    },
    {
     "name": "stdout",
     "output_type": "stream",
     "text": [
      "loss: 1.3112702369689941\n",
      "accuracy: 0.6861709356307983\n",
      "Generated Text:  b'harry potter? thes thes said he harry s and  got as very. s.... he  hes then aen very'\n",
      "\n",
      "\n",
      "Epoch 106:\n"
     ]
    },
    {
     "name": "stderr",
     "output_type": "stream",
     "text": [
      "100%|███████████████████████████████████████████████████████████████████████████████| 1593/1593 [05:41<00:00,  4.66it/s]\n"
     ]
    },
    {
     "name": "stdout",
     "output_type": "stream",
     "text": [
      "loss: 1.3061126470565796\n",
      "accuracy: 0.687185525894165\n",
      "Generated Text:  b'harry potter? im as he i in said he. a there a good a s !! you i as he saidms very .'\n",
      "\n",
      "\n",
      "Epoch 107:\n"
     ]
    },
    {
     "name": "stderr",
     "output_type": "stream",
     "text": [
      "100%|███████████████████████████████████████████████████████████████████████████████| 1593/1593 [05:55<00:00,  4.48it/s]\n"
     ]
    },
    {
     "name": "stdout",
     "output_type": "stream",
     "text": [
      "loss: 1.3009142875671387\n",
      "accuracy: 0.688158392906189\n",
      "Generated Text:  b'harry potter. all harry. a the a very very very good s   verys n.. said..n very. no the i the'\n",
      "\n",
      "\n",
      "Epoch 108:\n"
     ]
    },
    {
     "name": "stderr",
     "output_type": "stream",
     "text": [
      "100%|███████████████████████████████████████████████████████████████████████████████| 1593/1593 [05:56<00:00,  4.47it/s]\n"
     ]
    },
    {
     "name": "stdout",
     "output_type": "stream",
     "text": [
      "loss: 1.296494722366333\n",
      "accuracy: 0.6887576580047607\n",
      "Generated Text:  b'harry potter was as suddenly a as though the i a still the not so  s s a.nsnnn  snnsad'\n",
      "\n",
      "\n",
      "Epoch 109:\n"
     ]
    },
    {
     "name": "stderr",
     "output_type": "stream",
     "text": [
      "100%|███████████████████████████████████████████████████████████████████████████████| 1593/1593 [05:58<00:00,  4.44it/s]\n"
     ]
    },
    {
     "name": "stdout",
     "output_type": "stream",
     "text": [
      "loss: 1.2970597743988037\n",
      "accuracy: 0.6890047192573547\n",
      "Generated Text:  b'harry potter had the to the only other end look un. a. backs two . of on . it.s he  the... for...'\n",
      "\n",
      "\n",
      "Epoch 110:\n"
     ]
    },
    {
     "name": "stderr",
     "output_type": "stream",
     "text": [
      "100%|███████████████████████████████████████████████████████████████████████████████| 1593/1593 [05:55<00:00,  4.49it/s]\n"
     ]
    },
    {
     "name": "stdout",
     "output_type": "stream",
     "text": [
      "loss: 1.289771318435669\n",
      "accuracy: 0.6905219554901123\n",
      "Generated Text:  b'harry potter he was ch. only just just? the and in the the to in d an and the a the the s coe the a ad b'\n",
      "\n",
      "\n",
      "Epoch 111:\n"
     ]
    },
    {
     "name": "stderr",
     "output_type": "stream",
     "text": [
      "100%|███████████████████████████████████████████████████████████████████████████████| 1593/1593 [05:28<00:00,  4.85it/s]\n"
     ]
    },
    {
     "name": "stdout",
     "output_type": "stream",
     "text": [
      "loss: 1.2850096225738525\n",
      "accuracy: 0.6913875937461853\n",
      "Generated Text:  b'harry potter the go ton was  toa d theretdten ine.. the aa the the br the  a'\n",
      "\n",
      "\n",
      "Epoch 112:\n"
     ]
    },
    {
     "name": "stderr",
     "output_type": "stream",
     "text": [
      "100%|███████████████████████████████████████████████████████████████████████████████| 1593/1593 [05:42<00:00,  4.65it/s]\n"
     ]
    },
    {
     "name": "stdout",
     "output_type": "stream",
     "text": [
      "loss: 1.2840572595596313\n",
      "accuracy: 0.6911644339561462\n",
      "Generated Text:  b'harry potter.... the not? said the the harry harry not not and s  and ? an he  n a very them he very he'\n",
      "\n",
      "\n",
      "Epoch 113:\n"
     ]
    },
    {
     "name": "stderr",
     "output_type": "stream",
     "text": [
      "100%|███████████████████████████████████████████████████████████████████████████████| 1593/1593 [06:13<00:00,  4.27it/s]\n"
     ]
    },
    {
     "name": "stdout",
     "output_type": "stream",
     "text": [
      "loss: 1.2811894416809082\n",
      "accuracy: 0.6918672919273376\n",
      "Generated Text:  b'harry potter come now you! im? he he said?. and said you! said he you  you in a he the? he he he s the'\n",
      "\n",
      "\n",
      "Epoch 114:\n"
     ]
    },
    {
     "name": "stderr",
     "output_type": "stream",
     "text": [
      "100%|███████████████████████████████████████████████████████████████████████████████| 1593/1593 [05:57<00:00,  4.46it/s]\n"
     ]
    },
    {
     "name": "stdout",
     "output_type": "stream",
     "text": [
      "loss: 1.2777349948883057\n",
      "accuracy: 0.692894458770752\n",
      "Generated Text:  b'harry potter and ron ... who a very to thes  the very very great very. s s  i  c verynns ana'\n",
      "\n",
      "\n",
      "Epoch 115:\n"
     ]
    },
    {
     "name": "stderr",
     "output_type": "stream",
     "text": [
      "100%|███████████████████████████████████████████████████████████████████████████████| 1593/1593 [05:23<00:00,  4.92it/s]\n"
     ]
    },
    {
     "name": "stdout",
     "output_type": "stream",
     "text": [
      "loss: 1.270965576171875\n",
      "accuracy: 0.6943568587303162\n",
      "Generated Text:  b'harry potter he! a very s smasn naeaassd and and ins ss.nss'\n",
      "\n",
      "\n",
      "Epoch 116:\n"
     ]
    },
    {
     "name": "stderr",
     "output_type": "stream",
     "text": [
      "100%|███████████████████████████████████████████████████████████████████████████████| 1593/1593 [05:39<00:00,  4.70it/s]\n"
     ]
    },
    {
     "name": "stdout",
     "output_type": "stream",
     "text": [
      "loss: 1.270453691482544\n",
      "accuracy: 0.6943544149398804\n",
      "Generated Text:  b'harry potters was the the sm nbmn aemboeynoereeeetyatb'\n",
      "\n",
      "\n",
      "Epoch 117:\n"
     ]
    },
    {
     "name": "stderr",
     "output_type": "stream",
     "text": [
      "100%|███████████████████████████████████████████████████████████████████████████████| 1593/1593 [05:37<00:00,  4.72it/s]\n"
     ]
    },
    {
     "name": "stdout",
     "output_type": "stream",
     "text": [
      "loss: 1.2672083377838135\n",
      "accuracy: 0.6949471831321716\n",
      "Generated Text:  b'harry potter s?. hes!. i said he i i he was just said a  you you a very in s and in  said in'\n",
      "\n",
      "\n",
      "Epoch 118:\n"
     ]
    },
    {
     "name": "stderr",
     "output_type": "stream",
     "text": [
      "100%|███████████████████████████████████████████████████████████████████████████████| 1593/1593 [05:40<00:00,  4.68it/s]\n"
     ]
    },
    {
     "name": "stdout",
     "output_type": "stream",
     "text": [
      "loss: 1.2647678852081299\n",
      "accuracy: 0.695606529712677\n",
      "Generated Text:  b'harry potter. the. you! said and he the the he only  s    very said  come s..e he?'\n",
      "\n",
      "\n",
      "Epoch 119:\n"
     ]
    },
    {
     "name": "stderr",
     "output_type": "stream",
     "text": [
      "100%|███████████████████████████████████████████████████████████████████████████████| 1593/1593 [05:43<00:00,  4.64it/s]\n"
     ]
    },
    {
     "name": "stdout",
     "output_type": "stream",
     "text": [
      "loss: 1.2600876092910767\n",
      "accuracy: 0.6966900825500488\n",
      "Generated Text:  b'harry potter as as f a of  bobtleasslebsensbeeuett.s'\n",
      "\n",
      "\n",
      "Epoch 120:\n"
     ]
    },
    {
     "name": "stderr",
     "output_type": "stream",
     "text": [
      "100%|███████████████████████████████████████████████████████████████████████████████| 1593/1593 [05:55<00:00,  4.47it/s]\n"
     ]
    },
    {
     "name": "stdout",
     "output_type": "stream",
     "text": [
      "loss: 1.259196162223816\n",
      "accuracy: 0.6966036558151245\n",
      "Generated Text:  b'harry potterss the ready a a s in s see and the a ssdaeshssshee s to'\n",
      "\n",
      "\n",
      "Epoch 121:\n"
     ]
    },
    {
     "name": "stderr",
     "output_type": "stream",
     "text": [
      "100%|███████████████████████████████████████████████████████████████████████████████| 1593/1593 [05:41<00:00,  4.66it/s]\n"
     ]
    },
    {
     "name": "stdout",
     "output_type": "stream",
     "text": [
      "loss: 1.257746696472168\n",
      "accuracy: 0.6969806551933289\n",
      "Generated Text:  b'harry potter the to in gryffindor students. the.? i the. the the? said one harry the the. he in i your a s  a a'\n",
      "\n",
      "\n",
      "Epoch 122:\n"
     ]
    },
    {
     "name": "stderr",
     "output_type": "stream",
     "text": [
      "100%|███████████████████████████████████████████████████████████████████████████████| 1593/1593 [05:56<00:00,  4.47it/s]\n"
     ]
    },
    {
     "name": "stdout",
     "output_type": "stream",
     "text": [
      "loss: 1.2524197101593018\n",
      "accuracy: 0.6982171535491943\n",
      "Generated Text:  b'harry potter thes .n...... he not?. he. no he he said said i there i he in a i you in he'\n",
      "\n",
      "\n",
      "Epoch 123:\n"
     ]
    },
    {
     "name": "stderr",
     "output_type": "stream",
     "text": [
      "100%|███████████████████████████████████████████████████████████████████████████████| 1593/1593 [05:40<00:00,  4.68it/s]\n"
     ]
    },
    {
     "name": "stdout",
     "output_type": "stream",
     "text": [
      "loss: 1.2515572309494019\n",
      "accuracy: 0.6987354755401611\n",
      "Generated Text:  b'harry potter ims the i so !!! she he s said not he he and? she he said did he he he . did said and'\n",
      "\n",
      "\n",
      "Epoch 124:\n"
     ]
    },
    {
     "name": "stderr",
     "output_type": "stream",
     "text": [
      "100%|███████████████████████████████████████████████████████████████████████████████| 1593/1593 [05:27<00:00,  4.87it/s]\n"
     ]
    },
    {
     "name": "stdout",
     "output_type": "stream",
     "text": [
      "loss: 1.2489787340164185\n",
      "accuracy: 0.6986827850341797\n",
      "Generated Text:  b'harry potter who to? a look the and said  said a  he i s be. very a veryn very. for very very very very very to'\n",
      "\n",
      "\n",
      "Epoch 125:\n"
     ]
    },
    {
     "name": "stderr",
     "output_type": "stream",
     "text": [
      "100%|███████████████████████████████████████████████████████████████████████████████| 1593/1593 [05:14<00:00,  5.07it/s]\n"
     ]
    },
    {
     "name": "stdout",
     "output_type": "stream",
     "text": [
      "loss: 1.246597170829773\n",
      "accuracy: 0.6994496583938599\n",
      "Generated Text:  b'harry potters in to a. very the. good to and i to harry not . said said. harry an i s be a a the he be'\n",
      "\n",
      "\n",
      "Epoch 126:\n"
     ]
    },
    {
     "name": "stderr",
     "output_type": "stream",
     "text": [
      "100%|███████████████████████████████████████████████████████████████████████████████| 1593/1593 [05:41<00:00,  4.66it/s]\n"
     ]
    },
    {
     "name": "stdout",
     "output_type": "stream",
     "text": [
      "loss: 1.2444034814834595\n",
      "accuracy: 0.6998493671417236\n",
      "Generated Text:  b'harry potter? a very the said good harry. s but s harry. and not you i ands a  a sm very i in '\n",
      "\n",
      "\n",
      "Epoch 127:\n"
     ]
    },
    {
     "name": "stderr",
     "output_type": "stream",
     "text": [
      "100%|███████████████████████████████████████████████████████████████████████████████| 1593/1593 [05:27<00:00,  4.86it/s]\n"
     ]
    },
    {
     "name": "stdout",
     "output_type": "stream",
     "text": [
      "loss: 1.2412554025650024\n",
      "accuracy: 0.7005537748336792\n",
      "Generated Text:  b'harry potter a very more. an i the more this a ? the we a a be  d pnanhodens'\n",
      "\n",
      "\n",
      "Epoch 128:\n"
     ]
    },
    {
     "name": "stderr",
     "output_type": "stream",
     "text": [
      "100%|███████████████████████████████████████████████████████████████████████████████| 1593/1593 [05:40<00:00,  4.67it/s]\n"
     ]
    },
    {
     "name": "stdout",
     "output_type": "stream",
     "text": [
      "loss: 1.2415101528167725\n",
      "accuracy: 0.7003030180931091\n",
      "Generated Text:  b'harry potter. the not? but only. he but it harry he and the the a  s the he very s be .n hen '\n",
      "\n",
      "\n",
      "Epoch 129:\n"
     ]
    },
    {
     "name": "stderr",
     "output_type": "stream",
     "text": [
      "100%|███████████████████████████████████████████████████████████████████████████████| 1593/1593 [05:42<00:00,  4.65it/s]\n"
     ]
    },
    {
     "name": "stdout",
     "output_type": "stream",
     "text": [
      "loss: 1.237953782081604\n",
      "accuracy: 0.7009562253952026\n",
      "Generated Text:  b'harry potter.  then and all i.... it the in?? i they? a. he he he said was. the said to the a'\n",
      "\n",
      "\n",
      "Epoch 130:\n"
     ]
    },
    {
     "name": "stderr",
     "output_type": "stream",
     "text": [
      "100%|███████████████████████████████████████████████████████████████████████████████| 1593/1593 [05:57<00:00,  4.45it/s]\n"
     ]
    },
    {
     "name": "stdout",
     "output_type": "stream",
     "text": [
      "loss: 1.2362561225891113\n",
      "accuracy: 0.7015971541404724\n",
      "Generated Text:  b'harry potter suddenly go for the an them i. i . an i. mo.s n......sm .t'\n",
      "\n",
      "\n",
      "Epoch 131:\n"
     ]
    },
    {
     "name": "stderr",
     "output_type": "stream",
     "text": [
      "100%|███████████████████████████████████████████████████████████████████████████████| 1593/1593 [05:27<00:00,  4.87it/s]\n"
     ]
    },
    {
     "name": "stdout",
     "output_type": "stream",
     "text": [
      "loss: 1.2343171834945679\n",
      "accuracy: 0.7019438147544861\n",
      "Generated Text:  b'harry potter... and. the in the the the very very very very small funny last last  first last  very. time.  but.. he very'\n",
      "\n",
      "\n",
      "Epoch 132:\n"
     ]
    },
    {
     "name": "stderr",
     "output_type": "stream",
     "text": [
      "100%|███████████████████████████████████████████████████████████████████████████████| 1593/1593 [05:41<00:00,  4.66it/s]\n"
     ]
    },
    {
     "name": "stdout",
     "output_type": "stream",
     "text": [
      "loss: 1.2360033988952637\n",
      "accuracy: 0.701392412185669\n",
      "Generated Text:  b'harry potter the a still. f the famous he not.. on the s very said he said. he said i... and said said said harry'\n",
      "\n",
      "\n",
      "Epoch 133:\n"
     ]
    },
    {
     "name": "stderr",
     "output_type": "stream",
     "text": [
      "100%|███████████████████████████████████████████████████████████████████████████████| 1593/1593 [05:40<00:00,  4.68it/s]\n"
     ]
    },
    {
     "name": "stdout",
     "output_type": "stream",
     "text": [
      "loss: 1.23074209690094\n",
      "accuracy: 0.7027766108512878\n",
      "Generated Text:  b'harry potter he thought. just not in the as i a very just but  for only very the very very the the i very an very c.. very'\n",
      "\n",
      "\n",
      "Epoch 134:\n"
     ]
    },
    {
     "name": "stderr",
     "output_type": "stream",
     "text": [
      "100%|███████████████████████████████████████████████████████████████████████████████| 1593/1593 [05:42<00:00,  4.65it/s]\n"
     ]
    },
    {
     "name": "stdout",
     "output_type": "stream",
     "text": [
      "loss: 1.2280089855194092\n",
      "accuracy: 0.7034227848052979\n",
      "Generated Text:  b'harry potter a still. very very good on well not but. the the the he s the only the s.y s.   i? said and'\n",
      "\n",
      "\n",
      "Epoch 135:\n"
     ]
    },
    {
     "name": "stderr",
     "output_type": "stream",
     "text": [
      "100%|███████████████████████████████████████████████████████████████████████████████| 1593/1593 [05:39<00:00,  4.69it/s]\n"
     ]
    },
    {
     "name": "stdout",
     "output_type": "stream",
     "text": [
      "loss: 1.2268463373184204\n",
      "accuracy: 0.7034890055656433\n",
      "Generated Text:  b'harry potter.... the said a. and very you you you to. he ? the said?  harry said she? in i he   and'\n",
      "\n",
      "\n",
      "Epoch 136:\n"
     ]
    },
    {
     "name": "stderr",
     "output_type": "stream",
     "text": [
      "100%|███████████████████████████████████████████████████████████████████████████████| 1593/1593 [05:28<00:00,  4.86it/s]\n"
     ]
    },
    {
     "name": "stdout",
     "output_type": "stream",
     "text": [
      "loss: 1.2234065532684326\n",
      "accuracy: 0.7044376730918884\n",
      "Generated Text:  b'harry potter could still a as very a very s said very un sh a. s yn sny.msees asm'\n",
      "\n",
      "\n",
      "Epoch 137:\n"
     ]
    },
    {
     "name": "stderr",
     "output_type": "stream",
     "text": [
      "100%|███████████████████████████████████████████████████████████████████████████████| 1593/1593 [05:40<00:00,  4.68it/s]\n"
     ]
    },
    {
     "name": "stdout",
     "output_type": "stream",
     "text": [
      "loss: 1.2232763767242432\n",
      "accuracy: 0.7043843269348145\n",
      "Generated Text:  b'harry potter in the very c the the famousrn ya ayy pas apeataaarttr'\n",
      "\n",
      "\n",
      "Epoch 138:\n"
     ]
    },
    {
     "name": "stderr",
     "output_type": "stream",
     "text": [
      "100%|███████████████████████████████████████████████████████████████████████████████| 1593/1593 [05:42<00:00,  4.65it/s]\n"
     ]
    },
    {
     "name": "stdout",
     "output_type": "stream",
     "text": [
      "loss: 1.2221009731292725\n",
      "accuracy: 0.7046273946762085\n",
      "Generated Text:  b'harry potter... the harry in we the not ? very sy mseys a a verymy yyme.m.'\n",
      "\n",
      "\n",
      "Epoch 139:\n"
     ]
    },
    {
     "name": "stderr",
     "output_type": "stream",
     "text": [
      "100%|███████████████████████████████████████████████████████████████████████████████| 1593/1593 [05:28<00:00,  4.85it/s]\n"
     ]
    },
    {
     "name": "stdout",
     "output_type": "stream",
     "text": [
      "loss: 1.2205350399017334\n",
      "accuracy: 0.7048330903053284\n",
      "Generated Text:  b'harry potter! all the he hey was so said harry suddenly. i i?. i in he i? he he  was he  said  and'\n",
      "\n",
      "\n",
      "Epoch 140:\n"
     ]
    },
    {
     "name": "stderr",
     "output_type": "stream",
     "text": [
      "100%|███████████████████████████████████████████████████████████████████████████████| 1593/1593 [05:56<00:00,  4.47it/s]\n"
     ]
    },
    {
     "name": "stdout",
     "output_type": "stream",
     "text": [
      "loss: 1.2169686555862427\n",
      "accuracy: 0.7056162357330322\n",
      "Generated Text:  b'harry potter.... to the gryffindor. we i  gos!  notsm very! harry. i for he  not he not... and he'\n",
      "\n",
      "\n",
      "Epoch 141:\n"
     ]
    },
    {
     "name": "stderr",
     "output_type": "stream",
     "text": [
      "100%|███████████████████████████████████████████████████████████████████████████████| 1593/1593 [05:41<00:00,  4.67it/s]\n"
     ]
    },
    {
     "name": "stdout",
     "output_type": "stream",
     "text": [
      "loss: 1.2160038948059082\n",
      "accuracy: 0.7060156464576721\n",
      "Generated Text:  b'harry potter. ass a! we he very very he he said said said said and very s he  said. said. . he in s?'\n",
      "\n",
      "\n",
      "Epoch 142:\n"
     ]
    },
    {
     "name": "stderr",
     "output_type": "stream",
     "text": [
      "100%|███████████████████████████████████████████████████████████████████████████████| 1593/1593 [05:14<00:00,  5.07it/s]\n"
     ]
    },
    {
     "name": "stdout",
     "output_type": "stream",
     "text": [
      "loss: 1.2157586812973022\n",
      "accuracy: 0.706000030040741\n",
      "Generated Text:  b'harry potter he said said a! it was s is s ss you ine.s hagrid s ssi. se..s'\n",
      "\n",
      "\n",
      "Epoch 143:\n"
     ]
    },
    {
     "name": "stderr",
     "output_type": "stream",
     "text": [
      "100%|███████████████████████████████████████████████████████████████████████████████| 1593/1593 [05:55<00:00,  4.48it/s]\n"
     ]
    },
    {
     "name": "stdout",
     "output_type": "stream",
     "text": [
      "loss: 1.21487295627594\n",
      "accuracy: 0.7061655521392822\n",
      "Generated Text:  b'harry potters to.. the. the to only go  the look next harry. he not s and a  s? ss sya'\n",
      "\n",
      "\n",
      "Epoch 144:\n"
     ]
    },
    {
     "name": "stderr",
     "output_type": "stream",
     "text": [
      "100%|███████████████████████████████████████████████████████████████████████████████| 1593/1593 [05:41<00:00,  4.67it/s]\n"
     ]
    },
    {
     "name": "stdout",
     "output_type": "stream",
     "text": [
      "loss: 1.2115058898925781\n",
      "accuracy: 0.7072018384933472\n",
      "Generated Text:  b'harry potter was the on f the the very many maneye of  ones of aa. ss bebe'\n",
      "\n",
      "\n",
      "Epoch 145:\n"
     ]
    },
    {
     "name": "stderr",
     "output_type": "stream",
     "text": [
      "100%|███████████████████████████████████████████████████████████████████████████████| 1593/1593 [05:40<00:00,  4.67it/s]\n"
     ]
    },
    {
     "name": "stdout",
     "output_type": "stream",
     "text": [
      "loss: 1.2103275060653687\n",
      "accuracy: 0.7071225047111511\n",
      "Generated Text:  b'harry potter a f themen of was on in seaaassssessted a and a.  in s'\n",
      "\n",
      "\n",
      "Epoch 146:\n"
     ]
    },
    {
     "name": "stderr",
     "output_type": "stream",
     "text": [
      "100%|███████████████████████████████████████████████████████████████████████████████| 1593/1593 [05:29<00:00,  4.84it/s]\n"
     ]
    },
    {
     "name": "stdout",
     "output_type": "stream",
     "text": [
      "loss: 1.210970163345337\n",
      "accuracy: 0.7069069743156433\n",
      "Generated Text:  b'harry potter who justs just looked and he said said .. and but. he a. he a not s he very the veryn  a '\n",
      "\n",
      "\n",
      "Epoch 147:\n"
     ]
    },
    {
     "name": "stderr",
     "output_type": "stream",
     "text": [
      "100%|███████████████████████████████████████████████████████████████████████████████| 1593/1593 [05:41<00:00,  4.67it/s]\n"
     ]
    },
    {
     "name": "stdout",
     "output_type": "stream",
     "text": [
      "loss: 1.2097995281219482\n",
      "accuracy: 0.7072736024856567\n",
      "Generated Text:  b'harry potter what we? i?? harry i said did i he i the said thought said said i i he i i you ron i the just just just'\n",
      "\n",
      "\n",
      "Epoch 148:\n"
     ]
    },
    {
     "name": "stderr",
     "output_type": "stream",
     "text": [
      "100%|███████████████████████████████████████████████████████████████████████████████| 1593/1593 [05:30<00:00,  4.82it/s]\n"
     ]
    },
    {
     "name": "stdout",
     "output_type": "stream",
     "text": [
      "loss: 1.20718514919281\n",
      "accuracy: 0.7078167200088501\n",
      "Generated Text:  b'harry potter all to harry the go now.. ron an the harry an hermione harry said. an . had a he he bs got s a for'\n",
      "\n",
      "\n",
      "Epoch 149:\n"
     ]
    },
    {
     "name": "stderr",
     "output_type": "stream",
     "text": [
      "100%|███████████████████████████████████████████████████████████████████████████████| 1593/1593 [05:39<00:00,  4.69it/s]\n"
     ]
    },
    {
     "name": "stdout",
     "output_type": "stream",
     "text": [
      "loss: 1.2072304487228394\n",
      "accuracy: 0.7077131271362305\n",
      "Generated Text:  b'harry potters. very he thought. he the d is had a the the in very great   very very  very great very  said very  '\n",
      "\n",
      "\n",
      "Epoch 150:\n"
     ]
    },
    {
     "name": "stderr",
     "output_type": "stream",
     "text": [
      "100%|███████████████████████████████████████████████████████████████████████████████| 1593/1593 [05:56<00:00,  4.47it/s]\n"
     ]
    },
    {
     "name": "stdout",
     "output_type": "stream",
     "text": [
      "loss: 1.2055875062942505\n",
      "accuracy: 0.7084766626358032\n",
      "Generated Text:  b'harry potter all as you in. to i it he  be not? he he. said?. he is said i said not. do he?'\n",
      "\n",
      "\n",
      "Epoch 151:\n"
     ]
    },
    {
     "name": "stderr",
     "output_type": "stream",
     "text": [
      "100%|███████████████████████████████████████████████████████████████████████████████| 1593/1593 [05:43<00:00,  4.64it/s]\n"
     ]
    },
    {
     "name": "stdout",
     "output_type": "stream",
     "text": [
      "loss: 1.2024885416030884\n",
      "accuracy: 0.708712100982666\n",
      "Generated Text:  b'harry potter.... now said. i i you you the he you just only the the said one a  the one look in a  in a a very'\n",
      "\n",
      "\n",
      "Epoch 152:\n"
     ]
    },
    {
     "name": "stderr",
     "output_type": "stream",
     "text": [
      "100%|███████████████████████████████████████████████████████████████████████████████| 1593/1593 [05:42<00:00,  4.65it/s]\n"
     ]
    },
    {
     "name": "stdout",
     "output_type": "stream",
     "text": [
      "loss: 1.1994060277938843\n",
      "accuracy: 0.7097732424736023\n",
      "Generated Text:  b'harry potter all in the very first.. he and he a a very .  a he he d s  said s and yn he'\n",
      "\n",
      "\n",
      "Epoch 153:\n"
     ]
    },
    {
     "name": "stderr",
     "output_type": "stream",
     "text": [
      "100%|███████████████████████████████████████████████████████████████████████████████| 1593/1593 [05:54<00:00,  4.49it/s]\n"
     ]
    },
    {
     "name": "stdout",
     "output_type": "stream",
     "text": [
      "loss: 1.2021615505218506\n",
      "accuracy: 0.7089625000953674\n",
      "Generated Text:  b'harry potter the very well the. go... to it look the  .y ...sy..... and... a harry. he'\n",
      "\n",
      "\n",
      "Epoch 154:\n"
     ]
    },
    {
     "name": "stderr",
     "output_type": "stream",
     "text": [
      "100%|███████████████████████████████████████████████████████████████████████████████| 1593/1593 [05:42<00:00,  4.65it/s]\n"
     ]
    },
    {
     "name": "stdout",
     "output_type": "stream",
     "text": [
      "loss: 1.200546145439148\n",
      "accuracy: 0.7092626094818115\n",
      "Generated Text:  b'harry potters. the we two.. a are. good but only. that a he the you. he be he there a he had  only '\n",
      "\n",
      "\n",
      "Epoch 155:\n"
     ]
    },
    {
     "name": "stderr",
     "output_type": "stream",
     "text": [
      "100%|███████████████████████████████████████████████████████████████████████████████| 1593/1593 [05:42<00:00,  4.66it/s]\n"
     ]
    },
    {
     "name": "stdout",
     "output_type": "stream",
     "text": [
      "loss: 1.1975584030151367\n",
      "accuracy: 0.7099394202232361\n",
      "Generated Text:  b'harry potter. he just and look a and for a was p up the  very a verys s very very . very  very  s s very'\n",
      "\n",
      "\n",
      "Epoch 156:\n"
     ]
    },
    {
     "name": "stderr",
     "output_type": "stream",
     "text": [
      "100%|███████████████████████████████████████████████████████████████████████████████| 1593/1593 [05:53<00:00,  4.51it/s]\n"
     ]
    },
    {
     "name": "stdout",
     "output_type": "stream",
     "text": [
      "loss: 1.1962655782699585\n",
      "accuracy: 0.7102563381195068\n",
      "Generated Text:  b'harry potters? to the look i looks a. a for d the the said you the be a sssy they a. '\n",
      "\n",
      "\n",
      "Epoch 157:\n"
     ]
    },
    {
     "name": "stderr",
     "output_type": "stream",
     "text": [
      "100%|███████████████████████████████████████████████████████████████████████████████| 1593/1593 [05:42<00:00,  4.66it/s]\n"
     ]
    },
    {
     "name": "stdout",
     "output_type": "stream",
     "text": [
      "loss: 1.1953061819076538\n",
      "accuracy: 0.7104197144508362\n",
      "Generated Text:  b'harry potter suddenly dash s and at it the the harry  ss sneoesaeessie.ss the'\n",
      "\n",
      "\n",
      "Epoch 158:\n"
     ]
    },
    {
     "name": "stderr",
     "output_type": "stream",
     "text": [
      "100%|███████████████████████████████████████████████████████████████████████████████| 1593/1593 [05:53<00:00,  4.50it/s]\n"
     ]
    },
    {
     "name": "stdout",
     "output_type": "stream",
     "text": [
      "loss: 1.1950443983078003\n",
      "accuracy: 0.710528552532196\n",
      "Generated Text:  b'harry potter the smanon yaaiamarsbnoisees!sss e'\n",
      "\n",
      "\n",
      "Epoch 159:\n"
     ]
    },
    {
     "name": "stderr",
     "output_type": "stream",
     "text": [
      "100%|███████████████████████████████████████████████████████████████████████████████| 1593/1593 [05:55<00:00,  4.48it/s]\n"
     ]
    },
    {
     "name": "stdout",
     "output_type": "stream",
     "text": [
      "loss: 1.1949589252471924\n",
      "accuracy: 0.7103234529495239\n",
      "Generated Text:  b'harry potter and was what a the in the the the as an a  very very great the d only the co greatn cn. tys'\n",
      "\n",
      "\n",
      "Epoch 160:\n"
     ]
    },
    {
     "name": "stderr",
     "output_type": "stream",
     "text": [
      "100%|███████████████████████████████████████████████████████████████████████████████| 1593/1593 [05:43<00:00,  4.64it/s]\n"
     ]
    },
    {
     "name": "stdout",
     "output_type": "stream",
     "text": [
      "loss: 1.1922543048858643\n",
      "accuracy: 0.7106872797012329\n",
      "Generated Text:  b'harry potterd come...!  you!s... i and the . just i you.... the he he he and very not very he d in'\n",
      "\n",
      "\n",
      "Epoch 161:\n"
     ]
    },
    {
     "name": "stderr",
     "output_type": "stream",
     "text": [
      "100%|███████████████████████████████████████████████████████████████████████████████| 1593/1593 [05:28<00:00,  4.85it/s]\n"
     ]
    },
    {
     "name": "stdout",
     "output_type": "stream",
     "text": [
      "loss: 1.1913862228393555\n",
      "accuracy: 0.7112540602684021\n",
      "Generated Text:  b'harry potter suddenly s. come in. an a the you an he very i go and n in he. he.  the nsr '\n",
      "\n",
      "\n",
      "Epoch 162:\n"
     ]
    },
    {
     "name": "stderr",
     "output_type": "stream",
     "text": [
      "100%|███████████████████████████████████████████████████████████████████████████████| 1593/1593 [05:43<00:00,  4.64it/s]\n"
     ]
    },
    {
     "name": "stdout",
     "output_type": "stream",
     "text": [
      "loss: 1.1892807483673096\n",
      "accuracy: 0.7118505239486694\n",
      "Generated Text:  b'harry potter in at? the an the i i ire didn i was i wass ann i  a sn toldn anm'\n",
      "\n",
      "\n",
      "Epoch 163:\n"
     ]
    },
    {
     "name": "stderr",
     "output_type": "stream",
     "text": [
      "100%|███████████████████████████████████████████████████████████████████████████████| 1593/1593 [05:55<00:00,  4.48it/s]\n"
     ]
    },
    {
     "name": "stdout",
     "output_type": "stream",
     "text": [
      "loss: 1.1888664960861206\n",
      "accuracy: 0.7118701338768005\n",
      "Generated Text:  b'harry potter the not? harry i thought not just just it was had just  the a  a . p s the sade  '\n",
      "\n",
      "\n",
      "Epoch 164:\n"
     ]
    },
    {
     "name": "stderr",
     "output_type": "stream",
     "text": [
      "100%|███████████████████████████████████████████████████████████████████████████████| 1593/1593 [05:42<00:00,  4.65it/s]\n"
     ]
    },
    {
     "name": "stdout",
     "output_type": "stream",
     "text": [
      "loss: 1.1867382526397705\n",
      "accuracy: 0.712090253829956\n",
      "Generated Text:  b'harry potter. as hes on he and hes a   . not. very very said said said very a very a. a . s'\n",
      "\n",
      "\n",
      "Epoch 165:\n"
     ]
    },
    {
     "name": "stderr",
     "output_type": "stream",
     "text": [
      "100%|███████████████████████████████████████████████████████████████████████████████| 1593/1593 [05:53<00:00,  4.51it/s]\n"
     ]
    },
    {
     "name": "stdout",
     "output_type": "stream",
     "text": [
      "loss: 1.186653733253479\n",
      "accuracy: 0.7122235894203186\n",
      "Generated Text:  b'harry potters in. to the gryffindor i go be look. i in there there the  in. a very an it in the for the. very the'\n",
      "\n",
      "\n",
      "Epoch 166:\n"
     ]
    },
    {
     "name": "stderr",
     "output_type": "stream",
     "text": [
      "100%|███████████████████████████████████████████████████████████████████████████████| 1593/1593 [05:41<00:00,  4.67it/s]\n"
     ]
    },
    {
     "name": "stdout",
     "output_type": "stream",
     "text": [
      "loss: 1.1860687732696533\n",
      "accuracy: 0.7124905586242676\n",
      "Generated Text:  b'harry potter as they was to. as harry in the the f i a a. the . in the a very very very very. very  good '\n",
      "\n",
      "\n",
      "Epoch 167:\n"
     ]
    },
    {
     "name": "stderr",
     "output_type": "stream",
     "text": [
      "100%|███████████████████████████████████████████████████████████████████████████████| 1593/1593 [05:42<00:00,  4.65it/s]\n"
     ]
    },
    {
     "name": "stdout",
     "output_type": "stream",
     "text": [
      "loss: 1.1848599910736084\n",
      "accuracy: 0.7125018835067749\n",
      "Generated Text:  b'harry potter suddenly as as he. harry a a if they they had  not s very verys s a s a e ands npo'\n",
      "\n",
      "\n",
      "Epoch 168:\n"
     ]
    },
    {
     "name": "stderr",
     "output_type": "stream",
     "text": [
      "100%|███████████████████████████████████████████████████████████████████████████████| 1593/1593 [05:56<00:00,  4.47it/s]\n"
     ]
    },
    {
     "name": "stdout",
     "output_type": "stream",
     "text": [
      "loss: 1.1835907697677612\n",
      "accuracy: 0.7129610776901245\n",
      "Generated Text:  b'harry potter in this. the the very great he  s hes the co rnnnasnyaa.snee'\n",
      "\n",
      "\n",
      "Epoch 169:\n"
     ]
    },
    {
     "name": "stderr",
     "output_type": "stream",
     "text": [
      "100%|███████████████████████████████████████████████████████████████████████████████| 1593/1593 [05:55<00:00,  4.48it/s]\n"
     ]
    },
    {
     "name": "stdout",
     "output_type": "stream",
     "text": [
      "loss: 1.1818903684616089\n",
      "accuracy: 0.71312415599823\n",
      "Generated Text:  b'harry potter cross. they a? come s the  he youd s an?.s he and he  he snsnd'\n",
      "\n",
      "\n",
      "Epoch 170:\n"
     ]
    },
    {
     "name": "stderr",
     "output_type": "stream",
     "text": [
      "100%|███████████████████████████████████████████████████████████████████████████████| 1593/1593 [05:53<00:00,  4.51it/s]\n"
     ]
    },
    {
     "name": "stdout",
     "output_type": "stream",
     "text": [
      "loss: 1.1825608015060425\n",
      "accuracy: 0.7132246494293213\n",
      "Generated Text:  b'harry potter as they? now.. what i he i he he i have said was said have was a said harry a the the very i harry a a'\n",
      "\n",
      "\n",
      "Epoch 171:\n"
     ]
    },
    {
     "name": "stderr",
     "output_type": "stream",
     "text": [
      "100%|███████████████████████████████████████████████████████████████████████████████| 1593/1593 [05:56<00:00,  4.47it/s]\n"
     ]
    },
    {
     "name": "stdout",
     "output_type": "stream",
     "text": [
      "loss: 1.1816694736480713\n",
      "accuracy: 0.7135195732116699\n",
      "Generated Text:  b'harry potter whos saidss in s that. an i that. a. he thes. harry an the e. i that a he that'\n",
      "\n",
      "\n",
      "Epoch 172:\n"
     ]
    },
    {
     "name": "stderr",
     "output_type": "stream",
     "text": [
      "100%|███████████████████████████████████████████████████████████████████████████████| 1593/1593 [05:57<00:00,  4.45it/s]\n"
     ]
    },
    {
     "name": "stdout",
     "output_type": "stream",
     "text": [
      "loss: 1.1829838752746582\n",
      "accuracy: 0.7131271958351135\n",
      "Generated Text:  b'harry potters in. the and the the next good the d  greatnn theye.es of but the s s.s an'\n",
      "\n",
      "\n",
      "Epoch 173:\n"
     ]
    },
    {
     "name": "stderr",
     "output_type": "stream",
     "text": [
      "100%|███████████████████████████████████████████████████████████████████████████████| 1593/1593 [06:08<00:00,  4.32it/s]\n"
     ]
    },
    {
     "name": "stdout",
     "output_type": "stream",
     "text": [
      "loss: 1.178950548171997\n",
      "accuracy: 0.7139851450920105\n",
      "Generated Text:  b'harry potter at the this first all. the harry a the to harry one s people go the c the sns e innsn? '\n",
      "\n",
      "\n",
      "Epoch 174:\n"
     ]
    },
    {
     "name": "stderr",
     "output_type": "stream",
     "text": [
      "100%|███████████████████████████████████████████████████████████████████████████████| 1593/1593 [05:55<00:00,  4.48it/s]\n"
     ]
    },
    {
     "name": "stdout",
     "output_type": "stream",
     "text": [
      "loss: 1.1789504289627075\n",
      "accuracy: 0.7138156294822693\n",
      "Generated Text:  b'harry potters at to.. the the .. he... he he s m. and an the inn? he. then  he'\n",
      "\n",
      "\n",
      "Epoch 175:\n"
     ]
    },
    {
     "name": "stderr",
     "output_type": "stream",
     "text": [
      "100%|███████████████████████████████████████████████████████████████████████████████| 1593/1593 [05:55<00:00,  4.49it/s]\n"
     ]
    },
    {
     "name": "stdout",
     "output_type": "stream",
     "text": [
      "loss: 1.1767497062683105\n",
      "accuracy: 0.7143189311027527\n",
      "Generated Text:  b'harry potter.. what the they i was i he only in a the d the a only and    very a s go c ett'\n",
      "\n",
      "\n",
      "Epoch 176:\n"
     ]
    },
    {
     "name": "stderr",
     "output_type": "stream",
     "text": [
      "100%|███████████████████████████████████████████████████████████████████████████████| 1593/1593 [05:41<00:00,  4.67it/s]\n"
     ]
    },
    {
     "name": "stdout",
     "output_type": "stream",
     "text": [
      "loss: 1.1777067184448242\n",
      "accuracy: 0.7141791582107544\n",
      "Generated Text:  b'harry potter was . what. he do the he you not? and to harry.. and in not. harry this he he. he said and.'\n",
      "\n",
      "\n",
      "Epoch 177:\n"
     ]
    },
    {
     "name": "stderr",
     "output_type": "stream",
     "text": [
      "100%|███████████████████████████████████████████████████████████████████████████████| 1593/1593 [05:51<00:00,  4.53it/s]\n"
     ]
    },
    {
     "name": "stdout",
     "output_type": "stream",
     "text": [
      "loss: 1.1770836114883423\n",
      "accuracy: 0.7143897414207458\n",
      "Generated Text:  b'harry potter. to the harry it now. it i you you do? not a in you in? and? it the he the look in he he said'\n",
      "\n",
      "\n",
      "Epoch 178:\n"
     ]
    },
    {
     "name": "stderr",
     "output_type": "stream",
     "text": [
      "100%|███████████████████████████████████████████████████████████████████████████████| 1593/1593 [05:59<00:00,  4.43it/s]\n"
     ]
    },
    {
     "name": "stdout",
     "output_type": "stream",
     "text": [
      "loss: 1.1745200157165527\n",
      "accuracy: 0.714948832988739\n",
      "Generated Text:  b'harry potter. the what  to. in the the the and an a that he and co very the very a a r s hen fors'\n",
      "\n",
      "\n",
      "Epoch 179:\n"
     ]
    },
    {
     "name": "stderr",
     "output_type": "stream",
     "text": [
      "100%|███████████████████████████████████████████████████████████████████████████████| 1593/1593 [05:55<00:00,  4.49it/s]\n"
     ]
    },
    {
     "name": "stdout",
     "output_type": "stream",
     "text": [
      "loss: 1.1730108261108398\n",
      "accuracy: 0.7151569724082947\n",
      "Generated Text:  b'harry potters. to the the the only only two three three only his three one a his a s two a iness the to the s'\n",
      "\n",
      "\n",
      "Epoch 180:\n"
     ]
    },
    {
     "name": "stderr",
     "output_type": "stream",
     "text": [
      "100%|███████████████████████████████████████████████████████████████████████████████| 1593/1593 [06:09<00:00,  4.31it/s]\n"
     ]
    },
    {
     "name": "stdout",
     "output_type": "stream",
     "text": [
      "loss: 1.1734257936477661\n",
      "accuracy: 0.7150402069091797\n",
      "Generated Text:  b'harry potter come you! and in? to the. harry the  the in he the the one  he the and he he in very s and.'\n",
      "\n",
      "\n",
      "Epoch 181:\n"
     ]
    },
    {
     "name": "stderr",
     "output_type": "stream",
     "text": [
      "100%|███████████████████████████████████████████████████████████████████████████████| 1593/1593 [05:56<00:00,  4.47it/s]\n"
     ]
    },
    {
     "name": "stdout",
     "output_type": "stream",
     "text": [
      "loss: 1.1716768741607666\n",
      "accuracy: 0.7158711552619934\n",
      "Generated Text:  b'harry potter and as they as still s s a snneaseeseessys. a.ns.'\n",
      "\n",
      "\n",
      "Epoch 182:\n"
     ]
    },
    {
     "name": "stderr",
     "output_type": "stream",
     "text": [
      "100%|███████████████████████████████████████████████████████████████████████████████| 1593/1593 [05:54<00:00,  4.49it/s]\n"
     ]
    },
    {
     "name": "stdout",
     "output_type": "stream",
     "text": [
      "loss: 1.1717888116836548\n",
      "accuracy: 0.7151355147361755\n",
      "Generated Text:  b'harry potter.. now what  harry.. harry. they the he he not and had do? and he and said in a to.. said the'\n",
      "\n",
      "\n",
      "Epoch 183:\n"
     ]
    },
    {
     "name": "stderr",
     "output_type": "stream",
     "text": [
      "100%|███████████████████████████████████████████████████████████████████████████████| 1593/1593 [05:42<00:00,  4.66it/s]\n"
     ]
    },
    {
     "name": "stdout",
     "output_type": "stream",
     "text": [
      "loss: 1.1717784404754639\n",
      "accuracy: 0.7152954936027527\n",
      "Generated Text:  b'harry potter what what. i.. harry the harry i we was  do gos very had said only the in......  just. in'\n",
      "\n",
      "\n",
      "Epoch 184:\n"
     ]
    },
    {
     "name": "stderr",
     "output_type": "stream",
     "text": [
      "100%|███████████████████████████████████████████████████████████████████████████████| 1593/1593 [05:55<00:00,  4.47it/s]\n"
     ]
    },
    {
     "name": "stdout",
     "output_type": "stream",
     "text": [
      "loss: 1.1725107431411743\n",
      "accuracy: 0.7153105139732361\n",
      "Generated Text:  b'harry potter as a though the nn annnss he nsayase?ssysess'\n",
      "\n",
      "\n",
      "Epoch 185:\n"
     ]
    },
    {
     "name": "stderr",
     "output_type": "stream",
     "text": [
      "100%|███████████████████████████████████████████████████████████████████████████████| 1593/1593 [06:08<00:00,  4.32it/s]\n"
     ]
    },
    {
     "name": "stdout",
     "output_type": "stream",
     "text": [
      "loss: 1.1683614253997803\n",
      "accuracy: 0.7162236571311951\n",
      "Generated Text:  b'harry potter at the an go thennn nneaineaannaf saaaaoa'\n",
      "\n",
      "\n",
      "Epoch 186:\n"
     ]
    },
    {
     "name": "stderr",
     "output_type": "stream",
     "text": [
      "100%|███████████████████████████████████████████████████████████████████████████████| 1593/1593 [06:08<00:00,  4.32it/s]\n"
     ]
    },
    {
     "name": "stdout",
     "output_type": "stream",
     "text": [
      "loss: 1.1700124740600586\n",
      "accuracy: 0.715516209602356\n",
      "Generated Text:  b'harry potterd to help the the school not the i on be for with not this a the an . a for. for the a the the the you'\n",
      "\n",
      "\n",
      "Epoch 187:\n"
     ]
    },
    {
     "name": "stderr",
     "output_type": "stream",
     "text": [
      "100%|███████████████████████████████████████████████████████████████████████████████| 1593/1593 [05:40<00:00,  4.68it/s]\n"
     ]
    },
    {
     "name": "stdout",
     "output_type": "stream",
     "text": [
      "loss: 1.1680139303207397\n",
      "accuracy: 0.7161970138549805\n",
      "Generated Text:  b'harry potter.... the the not the a good very  . in  very a time and.s a. but for  he only he you the'\n",
      "\n",
      "\n",
      "Epoch 188:\n"
     ]
    },
    {
     "name": "stderr",
     "output_type": "stream",
     "text": [
      "100%|███████████████████████████████████████████████████████████████████████████████| 1593/1593 [05:56<00:00,  4.47it/s]\n"
     ]
    },
    {
     "name": "stdout",
     "output_type": "stream",
     "text": [
      "loss: 1.1665700674057007\n",
      "accuracy: 0.7166840434074402\n",
      "Generated Text:  b'harry potter who was in s. now  a. he you. . the he  am ns?m.a np the'\n",
      "\n",
      "\n",
      "Epoch 189:\n"
     ]
    },
    {
     "name": "stderr",
     "output_type": "stream",
     "text": [
      "100%|███████████████████████████████████████████████████████████████████████████████| 1593/1593 [06:10<00:00,  4.30it/s]\n"
     ]
    },
    {
     "name": "stdout",
     "output_type": "stream",
     "text": [
      "loss: 1.1664701700210571\n",
      "accuracy: 0.7165344953536987\n",
      "Generated Text:  b'harry potter was in the there s. very as he . he n an?ad enm .nn.a'\n",
      "\n",
      "\n",
      "Epoch 190:\n"
     ]
    },
    {
     "name": "stderr",
     "output_type": "stream",
     "text": [
      "100%|███████████████████████████████████████████████████████████████████████████████| 1593/1593 [05:57<00:00,  4.46it/s]\n"
     ]
    },
    {
     "name": "stdout",
     "output_type": "stream",
     "text": [
      "loss: 1.1656949520111084\n",
      "accuracy: 0.7165871858596802\n",
      "Generated Text:  b'harry potter the in the only his a d very the  en connnen.esns a ofrcyn'\n",
      "\n",
      "\n",
      "Epoch 191:\n"
     ]
    },
    {
     "name": "stderr",
     "output_type": "stream",
     "text": [
      "100%|███████████████████████████████████████████████████████████████████████████████| 1593/1593 [05:56<00:00,  4.47it/s]\n"
     ]
    },
    {
     "name": "stdout",
     "output_type": "stream",
     "text": [
      "loss: 1.1671366691589355\n",
      "accuracy: 0.7164296507835388\n",
      "Generated Text:  b'harry potter as i was i in still in do the there to a d not the the only a  but a s very very very    very '\n",
      "\n",
      "\n",
      "Epoch 192:\n"
     ]
    },
    {
     "name": "stderr",
     "output_type": "stream",
     "text": [
      "100%|███████████████████████████████████████████████████████████████████████████████| 1593/1593 [06:10<00:00,  4.30it/s]\n"
     ]
    },
    {
     "name": "stdout",
     "output_type": "stream",
     "text": [
      "loss: 1.1657037734985352\n",
      "accuracy: 0.7171095013618469\n",
      "Generated Text:  b'harry potter if in? there you had was a the a in very s thes s  nennne.ess.n'\n",
      "\n",
      "\n",
      "Epoch 193:\n"
     ]
    },
    {
     "name": "stderr",
     "output_type": "stream",
     "text": [
      "100%|███████████████████████████████████████████████████████████████████████████████| 1593/1593 [06:24<00:00,  4.14it/s]\n"
     ]
    },
    {
     "name": "stdout",
     "output_type": "stream",
     "text": [
      "loss: 1.164849042892456\n",
      "accuracy: 0.7169877886772156\n",
      "Generated Text:  b'harry potter suddenly to remember the  ddeasfsoaaysaassssissyss'\n",
      "\n",
      "\n",
      "Epoch 194:\n"
     ]
    },
    {
     "name": "stderr",
     "output_type": "stream",
     "text": [
      "100%|███████████████████████████████████████████████████████████████████████████████| 1593/1593 [05:55<00:00,  4.48it/s]\n"
     ]
    },
    {
     "name": "stdout",
     "output_type": "stream",
     "text": [
      "loss: 1.165210247039795\n",
      "accuracy: 0.716812789440155\n",
      "Generated Text:  b'harry potter a dwniesaryt. see.eaeasascssssa'\n",
      "\n",
      "\n",
      "Epoch 195:\n"
     ]
    },
    {
     "name": "stderr",
     "output_type": "stream",
     "text": [
      "100%|███████████████████████████████████████████████████████████████████████████████| 1593/1593 [06:23<00:00,  4.15it/s]\n"
     ]
    },
    {
     "name": "stdout",
     "output_type": "stream",
     "text": [
      "loss: 1.1623531579971313\n",
      "accuracy: 0.7175239324569702\n",
      "Generated Text:  b'harry potter. you .! and the he i the only d not not i said said the in the the not. one not the  not said s'\n",
      "\n",
      "\n",
      "Epoch 196:\n"
     ]
    },
    {
     "name": "stderr",
     "output_type": "stream",
     "text": [
      "100%|███████████████████████████████████████████████████████████████████████████████| 1593/1593 [05:27<00:00,  4.86it/s]\n"
     ]
    },
    {
     "name": "stdout",
     "output_type": "stream",
     "text": [
      "loss: 1.1634267568588257\n",
      "accuracy: 0.7171711325645447\n",
      "Generated Text:  b'harry potter as though she was n..... i and he he just he a had. p  he i he in  a nsd'\n",
      "\n",
      "\n",
      "Epoch 197:\n"
     ]
    },
    {
     "name": "stderr",
     "output_type": "stream",
     "text": [
      "100%|███████████████████████████████████████████████████████████████████████████████| 1593/1593 [06:09<00:00,  4.31it/s]\n"
     ]
    },
    {
     "name": "stdout",
     "output_type": "stream",
     "text": [
      "loss: 1.1638789176940918\n",
      "accuracy: 0.7169865965843201\n",
      "Generated Text:  b'harry potter! hermione he told the was a  harry she  sss snenn. of.naansan'\n",
      "\n",
      "\n",
      "Epoch 198:\n"
     ]
    },
    {
     "name": "stderr",
     "output_type": "stream",
     "text": [
      "100%|███████████████████████████████████████████████████████████████████████████████| 1593/1593 [06:23<00:00,  4.15it/s]\n"
     ]
    },
    {
     "name": "stdout",
     "output_type": "stream",
     "text": [
      "loss: 1.1614313125610352\n",
      "accuracy: 0.7176958918571472\n",
      "Generated Text:  b'harry potter not and the was harry. not see he very still the an the he s said go an. still in s in a a an in a '\n",
      "\n",
      "\n",
      "Epoch 199:\n"
     ]
    },
    {
     "name": "stderr",
     "output_type": "stream",
     "text": [
      "100%|███████████████████████████████████████████████████████████████████████████████| 1593/1593 [05:55<00:00,  4.48it/s]\n"
     ]
    },
    {
     "name": "stdout",
     "output_type": "stream",
     "text": [
      "loss: 1.1610798835754395\n",
      "accuracy: 0.7173231244087219\n",
      "Generated Text:  b'harry potter was as a to very sm thernin nyreeeairarreaeso'\n",
      "\n",
      "\n",
      "Epoch 200:\n"
     ]
    },
    {
     "name": "stderr",
     "output_type": "stream",
     "text": [
      "100%|███████████████████████████████████████████████████████████████████████████████| 1593/1593 [06:09<00:00,  4.31it/s]\n"
     ]
    },
    {
     "name": "stdout",
     "output_type": "stream",
     "text": [
      "loss: 1.160649299621582\n",
      "accuracy: 0.7178080677986145\n",
      "Generated Text:  b'harry potterd.. the the very great not a   veryn very  s time s  s.ee anss sn'\n",
      "\n",
      "\n",
      "Epoch 201:\n"
     ]
    },
    {
     "name": "stderr",
     "output_type": "stream",
     "text": [
      "100%|███████████████████████████████████████████████████████████████████████████████| 1593/1593 [06:07<00:00,  4.33it/s]\n"
     ]
    },
    {
     "name": "stdout",
     "output_type": "stream",
     "text": [
      "loss: 1.1593847274780273\n",
      "accuracy: 0.7179297804832458\n",
      "Generated Text:  b'harry potter was still looking for. more a. but.. a the the in the d the very harry the an to harry very one the one f harry'\n",
      "\n",
      "\n",
      "Epoch 202:\n"
     ]
    },
    {
     "name": "stderr",
     "output_type": "stream",
     "text": [
      "100%|███████████████████████████████████████████████████████████████████████████████| 1593/1593 [05:54<00:00,  4.50it/s]\n"
     ]
    },
    {
     "name": "stdout",
     "output_type": "stream",
     "text": [
      "loss: 1.158682942390442\n",
      "accuracy: 0.7183748483657837\n",
      "Generated Text:  b'harry potter. not and very the as you the look only he  on said and i for the he an the said an a a an the s'\n",
      "\n",
      "\n",
      "Epoch 203:\n"
     ]
    },
    {
     "name": "stderr",
     "output_type": "stream",
     "text": [
      "100%|███████████████████████████████████████████████████████████████████████████████| 1593/1593 [06:09<00:00,  4.31it/s]\n"
     ]
    },
    {
     "name": "stdout",
     "output_type": "stream",
     "text": [
      "loss: 1.1576604843139648\n",
      "accuracy: 0.7185498476028442\n",
      "Generated Text:  b'harry potter not what the the only we  in  s ...?.. then. i of. harry you the a. you i and'\n",
      "\n",
      "\n",
      "Epoch 204:\n"
     ]
    },
    {
     "name": "stderr",
     "output_type": "stream",
     "text": [
      "100%|███████████████████████████████████████████████████████████████████████████████| 1593/1593 [06:08<00:00,  4.32it/s]\n"
     ]
    },
    {
     "name": "stdout",
     "output_type": "stream",
     "text": [
      "loss: 1.1567341089248657\n",
      "accuracy: 0.71869295835495\n",
      "Generated Text:  b'harry potters said and snape professor.. a  he . as ... but what... you very.. they nots he  not he'\n",
      "\n",
      "\n",
      "Epoch 205:\n"
     ]
    },
    {
     "name": "stderr",
     "output_type": "stream",
     "text": [
      "100%|███████████████████████████████████████████████████████████████████████████████| 1593/1593 [06:09<00:00,  4.32it/s]\n"
     ]
    },
    {
     "name": "stdout",
     "output_type": "stream",
     "text": [
      "loss: 1.157580018043518\n",
      "accuracy: 0.7183175086975098\n",
      "Generated Text:  b'harry potter! hermiones suddenly he he gaspeds ss... harry. and ss. all! he. i. and i i he harry.'\n",
      "\n",
      "\n",
      "Epoch 206:\n"
     ]
    },
    {
     "name": "stderr",
     "output_type": "stream",
     "text": [
      "100%|███████████████████████████████████████████████████████████████████████████████| 1593/1593 [05:56<00:00,  4.47it/s]\n"
     ]
    },
    {
     "name": "stdout",
     "output_type": "stream",
     "text": [
      "loss: 1.1551690101623535\n",
      "accuracy: 0.7191352844238281\n",
      "Generated Text:  b'harry potter suddenly as a if as he she  if? harry was as they had a.. s what a s he as   an'\n",
      "\n",
      "\n",
      "Epoch 207:\n"
     ]
    },
    {
     "name": "stderr",
     "output_type": "stream",
     "text": [
      "100%|███████████████████████████████████████████████████████████████████████████████| 1593/1593 [06:11<00:00,  4.29it/s]\n"
     ]
    },
    {
     "name": "stdout",
     "output_type": "stream",
     "text": [
      "loss: 1.1541317701339722\n",
      "accuracy: 0.7192306518554688\n",
      "Generated Text:  b'harry potter? a the s great harry a p asapleasaasmsahsshhhes'\n",
      "\n",
      "\n",
      "Epoch 208:\n"
     ]
    },
    {
     "name": "stderr",
     "output_type": "stream",
     "text": [
      "100%|███████████████████████████████████████████████████████████████████████████████| 1593/1593 [05:42<00:00,  4.65it/s]\n"
     ]
    },
    {
     "name": "stdout",
     "output_type": "stream",
     "text": [
      "loss: 1.1530678272247314\n",
      "accuracy: 0.7198718786239624\n",
      "Generated Text:  b'harry potter was still the the very very first the to in se a. s coe   seenseeneee'\n",
      "\n",
      "\n",
      "Epoch 209:\n"
     ]
    },
    {
     "name": "stderr",
     "output_type": "stream",
     "text": [
      "100%|███████████████████████████████████████████████████████████████████████████████| 1593/1593 [06:24<00:00,  4.14it/s]\n"
     ]
    },
    {
     "name": "stdout",
     "output_type": "stream",
     "text": [
      "loss: 1.1526191234588623\n",
      "accuracy: 0.7197844982147217\n",
      "Generated Text:  b'harry potter in in the the gryffindor c the cor arrstrrrsssnsadciecani'\n",
      "\n",
      "\n",
      "Epoch 210:\n"
     ]
    },
    {
     "name": "stderr",
     "output_type": "stream",
     "text": [
      "100%|███████████████████████████████████████████████████████████████████████████████| 1593/1593 [05:55<00:00,  4.48it/s]\n"
     ]
    },
    {
     "name": "stdout",
     "output_type": "stream",
     "text": [
      "loss: 1.1548947095870972\n",
      "accuracy: 0.7192732095718384\n",
      "Generated Text:  b'harry potter who would if you ever see?. an the i a a  a he! he very hesn not?  n the i did'\n",
      "\n",
      "\n",
      "Epoch 211:\n"
     ]
    },
    {
     "name": "stderr",
     "output_type": "stream",
     "text": [
      "100%|███████████████████████████████████████████████████████████████████████████████| 1593/1593 [06:10<00:00,  4.30it/s]\n"
     ]
    },
    {
     "name": "stdout",
     "output_type": "stream",
     "text": [
      "loss: 1.1522822380065918\n",
      "accuracy: 0.7198501229286194\n",
      "Generated Text:  b'harry potter in. the an the that i a b. go only the gornnr asn.renbne then'\n",
      "\n",
      "\n",
      "Epoch 212:\n"
     ]
    },
    {
     "name": "stderr",
     "output_type": "stream",
     "text": [
      "100%|███████████████████████████████████████████████████████████████████████████████| 1593/1593 [06:25<00:00,  4.14it/s]\n"
     ]
    },
    {
     "name": "stdout",
     "output_type": "stream",
     "text": [
      "loss: 1.1540749073028564\n",
      "accuracy: 0.7191545963287354\n",
      "Generated Text:  b'harry potter and not at an for the a atd the nssp verynnse.s thes ac  greate'\n",
      "\n",
      "\n",
      "Epoch 213:\n"
     ]
    },
    {
     "name": "stderr",
     "output_type": "stream",
     "text": [
      "100%|███████████████████████████████████████████████████████████████████████████████| 1593/1593 [06:23<00:00,  4.16it/s]\n"
     ]
    },
    {
     "name": "stdout",
     "output_type": "stream",
     "text": [
      "loss: 1.1518975496292114\n",
      "accuracy: 0.7197504639625549\n",
      "Generated Text:  b'harry potter whats! the quirrell was the i he  s so  bassseeiaaeerneina'\n",
      "\n",
      "\n",
      "Epoch 214:\n"
     ]
    },
    {
     "name": "stderr",
     "output_type": "stream",
     "text": [
      "100%|███████████████████████████████████████████████████████████████████████████████| 1593/1593 [05:56<00:00,  4.47it/s]\n"
     ]
    },
    {
     "name": "stdout",
     "output_type": "stream",
     "text": [
      "loss: 1.1489254236221313\n",
      "accuracy: 0.7206470370292664\n",
      "Generated Text:  b'harry potter suddenly. what . hes in. a... you for ?? he he   for. very he and she. said for a'\n",
      "\n",
      "\n",
      "Epoch 215:\n"
     ]
    },
    {
     "name": "stderr",
     "output_type": "stream",
     "text": [
      "100%|███████████████████████████████████████████████████████████████████████████████| 1593/1593 [06:07<00:00,  4.33it/s]\n"
     ]
    },
    {
     "name": "stdout",
     "output_type": "stream",
     "text": [
      "loss: 1.1486186981201172\n",
      "accuracy: 0.7203558683395386\n",
      "Generated Text:  b'harry potter was. in he a the very an the famous the famous very the   conese.ne ofe a . he'\n",
      "\n",
      "\n",
      "Epoch 216:\n"
     ]
    },
    {
     "name": "stderr",
     "output_type": "stream",
     "text": [
      "100%|███████████████████████████████████████████████████████████████████████████████| 1593/1593 [05:57<00:00,  4.46it/s]\n"
     ]
    },
    {
     "name": "stdout",
     "output_type": "stream",
     "text": [
      "loss: 1.1486799716949463\n",
      "accuracy: 0.7204889059066772\n",
      "Generated Text:  b'harry potterd what in. a to it? we. i i you i the you said i a have do i? do had he a an do '\n",
      "\n",
      "\n",
      "Epoch 217:\n"
     ]
    },
    {
     "name": "stderr",
     "output_type": "stream",
     "text": [
      "100%|███████████████████████████████████████████████████████████████████████████████| 1593/1593 [05:57<00:00,  4.45it/s]\n"
     ]
    },
    {
     "name": "stdout",
     "output_type": "stream",
     "text": [
      "loss: 1.1469228267669678\n",
      "accuracy: 0.7209241390228271\n",
      "Generated Text:  b'harry potter if.. we what do he we just want a do was a? all i in a to a the not an not very a harry i an'\n",
      "\n",
      "\n",
      "Epoch 218:\n"
     ]
    },
    {
     "name": "stderr",
     "output_type": "stream",
     "text": [
      "100%|███████████████████████████████████████████████████████████████████████████████| 1593/1593 [06:19<00:00,  4.20it/s]\n"
     ]
    },
    {
     "name": "stdout",
     "output_type": "stream",
     "text": [
      "loss: 1.14798903465271\n",
      "accuracy: 0.7209069728851318\n",
      "Generated Text:  b'harry potters. it now harry and he hes were said was s s notn you s. in in a he? the and a he he'\n",
      "\n",
      "\n",
      "Epoch 219:\n"
     ]
    },
    {
     "name": "stderr",
     "output_type": "stream",
     "text": [
      "100%|███████████████████████████████████████████████████████████████████████████████| 1593/1593 [06:25<00:00,  4.13it/s]\n"
     ]
    },
    {
     "name": "stdout",
     "output_type": "stream",
     "text": [
      "loss: 1.1493622064590454\n",
      "accuracy: 0.7203196883201599\n",
      "Generated Text:  b'harry potter in the a famous to s s not an s? harry said? said an s i  anreenescae'\n",
      "\n",
      "\n",
      "Epoch 220:\n"
     ]
    },
    {
     "name": "stderr",
     "output_type": "stream",
     "text": [
      "100%|███████████████████████████████████████████████████████████████████████████████| 1593/1593 [06:05<00:00,  4.36it/s]\n"
     ]
    },
    {
     "name": "stdout",
     "output_type": "stream",
     "text": [
      "loss: 1.1498395204544067\n",
      "accuracy: 0.7198893427848816\n",
      "Generated Text:  b'harry potter if in in the an the. a an a great  a great wizard  very frseriasttrr he'\n",
      "\n",
      "\n",
      "Epoch 221:\n"
     ]
    },
    {
     "name": "stderr",
     "output_type": "stream",
     "text": [
      "100%|███████████████████████████████████████████████████████████████████████████████| 1593/1593 [06:13<00:00,  4.27it/s]\n"
     ]
    },
    {
     "name": "stdout",
     "output_type": "stream",
     "text": [
      "loss: 1.146388053894043\n",
      "accuracy: 0.720975935459137\n",
      "Generated Text:  b'harry potter! i still go a not to a. for no. the now  no he he he nmrr? andnn ?'\n",
      "\n",
      "\n",
      "Epoch 222:\n"
     ]
    },
    {
     "name": "stderr",
     "output_type": "stream",
     "text": [
      "100%|███████████████████████████████████████████████████████████████████████████████| 1593/1593 [06:09<00:00,  4.31it/s]\n"
     ]
    },
    {
     "name": "stdout",
     "output_type": "stream",
     "text": [
      "loss: 1.1465858221054077\n",
      "accuracy: 0.7207993865013123\n",
      "Generated Text:  b'harry potter. in he the an and you a ss very very said very very. good the the very and good. very   he a d'\n",
      "\n",
      "\n",
      "Epoch 223:\n"
     ]
    },
    {
     "name": "stderr",
     "output_type": "stream",
     "text": [
      "100%|███████████████████████████████████████████████████████████████████████████████| 1593/1593 [06:14<00:00,  4.25it/s]\n"
     ]
    },
    {
     "name": "stdout",
     "output_type": "stream",
     "text": [
      "loss: 1.145715594291687\n",
      "accuracy: 0.7211549282073975\n",
      "Generated Text:  b'harry potter. he is he said said? but a harry s harry in. he and the he   the a b ps ssma '\n",
      "\n",
      "\n",
      "Epoch 224:\n"
     ]
    },
    {
     "name": "stderr",
     "output_type": "stream",
     "text": [
      "100%|███████████████████████████████████████████████████████████████████████████████| 1593/1593 [06:17<00:00,  4.22it/s]\n"
     ]
    },
    {
     "name": "stdout",
     "output_type": "stream",
     "text": [
      "loss: 1.1444183588027954\n",
      "accuracy: 0.7215537428855896\n",
      "Generated Text:  b'harry potter what an . with i. you? im a? i  in a in a a your the the  very veryn very.s '\n",
      "\n",
      "\n",
      "Epoch 225:\n"
     ]
    },
    {
     "name": "stderr",
     "output_type": "stream",
     "text": [
      "100%|███████████████████████████████████████████████████████████████████████████████| 1593/1593 [06:24<00:00,  4.15it/s]\n"
     ]
    },
    {
     "name": "stdout",
     "output_type": "stream",
     "text": [
      "loss: 1.1462293863296509\n",
      "accuracy: 0.721226692199707\n",
      "Generated Text:  b'harry potter dos. the? he he he he was said had i is he in b just in said a he s an said s said said said'\n",
      "\n",
      "\n",
      "Epoch 226:\n"
     ]
    },
    {
     "name": "stderr",
     "output_type": "stream",
     "text": [
      "100%|███████████████████████████████████████████████████████████████████████████████| 1593/1593 [06:10<00:00,  4.30it/s]\n"
     ]
    },
    {
     "name": "stdout",
     "output_type": "stream",
     "text": [
      "loss: 1.1411614418029785\n",
      "accuracy: 0.7222424745559692\n",
      "Generated Text:  b'harry potter... harrys an what. got this. he harry. said i a that he and a. not an the not said a a a  a'\n",
      "\n",
      "\n",
      "Epoch 227:\n"
     ]
    },
    {
     "name": "stderr",
     "output_type": "stream",
     "text": [
      "100%|███████████████████████████████████████████████████████████████████████████████| 1593/1593 [06:11<00:00,  4.29it/s]\n"
     ]
    },
    {
     "name": "stdout",
     "output_type": "stream",
     "text": [
      "loss: 1.1459617614746094\n",
      "accuracy: 0.7210620641708374\n",
      "Generated Text:  b'harry potter the next gryffindor in.. i i the the and look you look look in he and not said. you not only for for a the. go'\n",
      "\n",
      "\n",
      "Epoch 228:\n"
     ]
    },
    {
     "name": "stderr",
     "output_type": "stream",
     "text": [
      "100%|███████████████████████████████████████████████████████████████████████████████| 1593/1593 [06:38<00:00,  3.99it/s]\n"
     ]
    },
    {
     "name": "stdout",
     "output_type": "stream",
     "text": [
      "loss: 1.146794080734253\n",
      "accuracy: 0.7208303213119507\n",
      "Generated Text:  b'harry potter was to the gryffindor i still s s stillnne seenveen inneene seea'\n",
      "\n",
      "\n",
      "Epoch 229:\n"
     ]
    },
    {
     "name": "stderr",
     "output_type": "stream",
     "text": [
      "100%|███████████████████████████████████████████████████████████████████████████████| 1593/1593 [05:56<00:00,  4.47it/s]\n"
     ]
    },
    {
     "name": "stdout",
     "output_type": "stream",
     "text": [
      "loss: 1.1426106691360474\n",
      "accuracy: 0.7218541502952576\n",
      "Generated Text:  b'harry potter and ...ds... he very said a  veryee sccrne naemyedae.'\n",
      "\n",
      "\n",
      "Epoch 230:\n"
     ]
    },
    {
     "name": "stderr",
     "output_type": "stream",
     "text": [
      "100%|███████████████████████████████████████████████████████████████████████████████| 1593/1593 [06:11<00:00,  4.29it/s]\n"
     ]
    },
    {
     "name": "stdout",
     "output_type": "stream",
     "text": [
      "loss: 1.1437710523605347\n",
      "accuracy: 0.7217137217521667\n",
      "Generated Text:  b'harry potter was. in the the s the the nnneny ba ayaaeiaansst'\n",
      "\n",
      "\n",
      "Epoch 231:\n"
     ]
    },
    {
     "name": "stderr",
     "output_type": "stream",
     "text": [
      "100%|███████████████████████████████████████████████████████████████████████████████| 1593/1593 [06:10<00:00,  4.30it/s]\n"
     ]
    },
    {
     "name": "stdout",
     "output_type": "stream",
     "text": [
      "loss: 1.1423722505569458\n",
      "accuracy: 0.7219853401184082\n",
      "Generated Text:  b'harry potter the to harry go in the there. only on he and the i in an he an an said i a the b  said. the  s'\n",
      "\n",
      "\n",
      "Epoch 232:\n"
     ]
    },
    {
     "name": "stderr",
     "output_type": "stream",
     "text": [
      "100%|███████████████████████████████████████████████████████████████████████████████| 1593/1593 [06:35<00:00,  4.02it/s]\n"
     ]
    },
    {
     "name": "stdout",
     "output_type": "stream",
     "text": [
      "loss: 1.1431068181991577\n",
      "accuracy: 0.7217998504638672\n",
      "Generated Text:  b'harry potter. a very i very good for harry thought. i  and as the. a the as very a  he very he  the he  m'\n",
      "\n",
      "\n",
      "Epoch 233:\n"
     ]
    },
    {
     "name": "stderr",
     "output_type": "stream",
     "text": [
      "100%|███████████████████████████████████████████████████████████████████████████████| 1593/1593 [06:28<00:00,  4.10it/s]\n"
     ]
    },
    {
     "name": "stdout",
     "output_type": "stream",
     "text": [
      "loss: 1.1420612335205078\n",
      "accuracy: 0.7218878269195557\n",
      "Generated Text:  b'harry potter what what we was is sve got.? all a . very? they he a the s a not   a  a'\n",
      "\n",
      "\n",
      "Epoch 234:\n"
     ]
    },
    {
     "name": "stderr",
     "output_type": "stream",
     "text": [
      "100%|███████████████████████████████████████████████████████████████████████████████| 1593/1593 [05:57<00:00,  4.46it/s]\n"
     ]
    },
    {
     "name": "stdout",
     "output_type": "stream",
     "text": [
      "loss: 1.1414779424667358\n",
      "accuracy: 0.7220009565353394\n",
      "Generated Text:  b'harry potter suddenly if the. i he ever see he said was had s in was the to in  . the he a the an. very co very'\n",
      "\n",
      "\n",
      "Epoch 235:\n"
     ]
    },
    {
     "name": "stderr",
     "output_type": "stream",
     "text": [
      "100%|███████████████████████████████████████████████████████████████████████████████| 1593/1593 [06:24<00:00,  4.14it/s]\n"
     ]
    },
    {
     "name": "stdout",
     "output_type": "stream",
     "text": [
      "loss: 1.1398764848709106\n",
      "accuracy: 0.7221783995628357\n",
      "Generated Text:  b'harry potter. the in. he one harry a only  only one? ? a i . said you the and he and. in a  the'\n",
      "\n",
      "\n",
      "Epoch 236:\n"
     ]
    },
    {
     "name": "stderr",
     "output_type": "stream",
     "text": [
      "100%|███████████████████████████████████████████████████████████████████████████████| 1593/1593 [06:23<00:00,  4.15it/s]\n"
     ]
    },
    {
     "name": "stdout",
     "output_type": "stream",
     "text": [
      "loss: 1.1377935409545898\n",
      "accuracy: 0.7228414416313171\n",
      "Generated Text:  b'harry potter. the a an very famous the  great a sy  en eees.aneedeaea'\n",
      "\n",
      "\n",
      "Epoch 237:\n"
     ]
    },
    {
     "name": "stderr",
     "output_type": "stream",
     "text": [
      "100%|███████████████████████████████████████████████████████████████████████████████| 1593/1593 [06:25<00:00,  4.13it/s]\n"
     ]
    },
    {
     "name": "stdout",
     "output_type": "stream",
     "text": [
      "loss: 1.1385691165924072\n",
      "accuracy: 0.722723126411438\n",
      "Generated Text:  b'harry potter suddenly they not s as he a snnme onaesedmyemeiiset'\n",
      "\n",
      "\n",
      "Epoch 238:\n"
     ]
    },
    {
     "name": "stderr",
     "output_type": "stream",
     "text": [
      "100%|███████████████████████████████████████████████████████████████████████████████| 1593/1593 [05:58<00:00,  4.45it/s]\n"
     ]
    },
    {
     "name": "stdout",
     "output_type": "stream",
     "text": [
      "loss: 1.1390784978866577\n",
      "accuracy: 0.7225683331489563\n",
      "Generated Text:  b'harry potter. at the quirrell the the the man s sn neeeaacieernibeeaer'\n",
      "\n",
      "\n",
      "Epoch 239:\n"
     ]
    },
    {
     "name": "stderr",
     "output_type": "stream",
     "text": [
      "100%|███████████████████████████████████████████████████████████████████████████████| 1593/1593 [06:23<00:00,  4.16it/s]\n"
     ]
    },
    {
     "name": "stdout",
     "output_type": "stream",
     "text": [
      "loss: 1.1377123594284058\n",
      "accuracy: 0.722918689250946\n",
      "Generated Text:  b'harry potters said s that the the an he nennernrnnaeeeiaaentel'\n",
      "\n",
      "\n",
      "Epoch 240:\n"
     ]
    },
    {
     "name": "stderr",
     "output_type": "stream",
     "text": [
      "100%|███████████████████████████████████████████████████████████████████████████████| 1593/1593 [06:26<00:00,  4.12it/s]\n"
     ]
    },
    {
     "name": "stdout",
     "output_type": "stream",
     "text": [
      "loss: 1.1381144523620605\n",
      "accuracy: 0.7228098511695862\n",
      "Generated Text:  b'harry potter. what i i do? he come and could  said you i? he he had said said and i he do said a. you in do'\n",
      "\n",
      "\n",
      "Epoch 241:\n"
     ]
    },
    {
     "name": "stderr",
     "output_type": "stream",
     "text": [
      "100%|███████████████████████████████████████████████████████████████████████████████| 1593/1593 [05:43<00:00,  4.64it/s]\n"
     ]
    },
    {
     "name": "stdout",
     "output_type": "stream",
     "text": [
      "loss: 1.137925624847412\n",
      "accuracy: 0.722693681716919\n",
      "Generated Text:  b'harry potters not to. do i? you you know he said i the. the you i i see said! the d the in said said in said'\n",
      "\n",
      "\n",
      "Epoch 242:\n"
     ]
    },
    {
     "name": "stderr",
     "output_type": "stream",
     "text": [
      "100%|███████████████████████████████████████████████████████████████████████████████| 1593/1593 [05:57<00:00,  4.45it/s]\n"
     ]
    },
    {
     "name": "stdout",
     "output_type": "stream",
     "text": [
      "loss: 1.1373871564865112\n",
      "accuracy: 0.7228776216506958\n",
      "Generated Text:  b'harry potter the a very f. s. ernaeed ofibe aieicmsbsaley'\n",
      "\n",
      "\n",
      "Epoch 243:\n"
     ]
    },
    {
     "name": "stderr",
     "output_type": "stream",
     "text": [
      "100%|███████████████████████████████████████████████████████████████████████████████| 1593/1593 [06:24<00:00,  4.14it/s]\n"
     ]
    },
    {
     "name": "stdout",
     "output_type": "stream",
     "text": [
      "loss: 1.1361066102981567\n",
      "accuracy: 0.7233030200004578\n",
      "Generated Text:  b'harry potter was to still d go the first a  to sn.en aaeaesm  sndseaa'\n",
      "\n",
      "\n",
      "Epoch 244:\n"
     ]
    },
    {
     "name": "stderr",
     "output_type": "stream",
     "text": [
      "100%|███████████████████████████████████████████████████████████████████████████████| 1593/1593 [05:41<00:00,  4.66it/s]\n"
     ]
    },
    {
     "name": "stdout",
     "output_type": "stream",
     "text": [
      "loss: 1.1352910995483398\n",
      "accuracy: 0.7234532237052917\n",
      "Generated Text:  b'harry potter in the there hes to the not only a the s se sa ayeaearyesby'\n",
      "\n",
      "\n",
      "Epoch 245:\n"
     ]
    },
    {
     "name": "stderr",
     "output_type": "stream",
     "text": [
      "100%|███████████████████████████████████████████████████████████████████████████████| 1593/1593 [06:11<00:00,  4.29it/s]\n"
     ]
    },
    {
     "name": "stdout",
     "output_type": "stream",
     "text": [
      "loss: 1.1329078674316406\n",
      "accuracy: 0.7240540385246277\n",
      "Generated Text:  b'harry potters said in the the an in the an a atr hotnrrcrrettrt reret'\n",
      "\n",
      "\n",
      "Epoch 246:\n"
     ]
    },
    {
     "name": "stderr",
     "output_type": "stream",
     "text": [
      "100%|███████████████████████████████████████████████████████████████████████████████| 1593/1593 [05:57<00:00,  4.45it/s]\n"
     ]
    },
    {
     "name": "stdout",
     "output_type": "stream",
     "text": [
      "loss: 1.1328258514404297\n",
      "accuracy: 0.7240221500396729\n",
      "Generated Text:  b'harry potter the very day said to harry not not very to if. at harry to a a where the the s he very. all he the said the and'\n",
      "\n",
      "\n",
      "Epoch 247:\n"
     ]
    },
    {
     "name": "stderr",
     "output_type": "stream",
     "text": [
      "100%|███████████████████████████████████████████████████████████████████████████████| 1593/1593 [06:39<00:00,  3.98it/s]\n"
     ]
    },
    {
     "name": "stdout",
     "output_type": "stream",
     "text": [
      "loss: 1.1322145462036133\n",
      "accuracy: 0.7242762446403503\n",
      "Generated Text:  b'harry potter to a at an an that the an? i itn he? ir saidrer i a  in a i?sr he'\n",
      "\n",
      "\n",
      "Epoch 248:\n"
     ]
    },
    {
     "name": "stderr",
     "output_type": "stream",
     "text": [
      "100%|███████████████████████████████████████████████████████████████████████████████| 1593/1593 [06:22<00:00,  4.17it/s]\n"
     ]
    },
    {
     "name": "stdout",
     "output_type": "stream",
     "text": [
      "loss: 1.1357145309448242\n",
      "accuracy: 0.7230590581893921\n",
      "Generated Text:  b'harry potter who wasnt was in. the very i d very? s a very  ? a very a an said sn very. a  a '\n",
      "\n",
      "\n",
      "Epoch 249:\n"
     ]
    },
    {
     "name": "stderr",
     "output_type": "stream",
     "text": [
      "100%|███████████████████████████████████████████████████████████████████████████████| 1593/1593 [05:57<00:00,  4.45it/s]\n"
     ]
    },
    {
     "name": "stdout",
     "output_type": "stream",
     "text": [
      "loss: 1.134186029434204\n",
      "accuracy: 0.7240313291549683\n",
      "Generated Text:  b'harry potter a to s the an do old swtieedt inreeeinltlt aaasa'\n",
      "\n",
      "\n",
      "Epoch 250:\n"
     ]
    },
    {
     "name": "stderr",
     "output_type": "stream",
     "text": [
      "100%|███████████████████████████████████████████████████████████████████████████████| 1593/1593 [06:39<00:00,  3.98it/s]\n"
     ]
    },
    {
     "name": "stdout",
     "output_type": "stream",
     "text": [
      "loss: 1.134339451789856\n",
      "accuracy: 0.7235617637634277\n",
      "Generated Text:  b'harry potter! said the i not said he was. the the s in s the n veryennnn said  an  hen'\n",
      "\n",
      "\n",
      "Epoch 251:\n"
     ]
    },
    {
     "name": "stderr",
     "output_type": "stream",
     "text": [
      "100%|███████████████████████████████████████████████████████████████████████████████| 1593/1593 [06:27<00:00,  4.11it/s]\n"
     ]
    },
    {
     "name": "stdout",
     "output_type": "stream",
     "text": [
      "loss: 1.1344739198684692\n",
      "accuracy: 0.7236018776893616\n",
      "Generated Text:  b'harry potter. more in the gryffindor s nnnere.e.es and and you.. but but the. and. he you'\n",
      "\n",
      "\n",
      "Epoch 252:\n"
     ]
    },
    {
     "name": "stderr",
     "output_type": "stream",
     "text": [
      "100%|███████████████████████████████████████████████████████████████████████████████| 1593/1593 [06:41<00:00,  3.97it/s]\n"
     ]
    },
    {
     "name": "stdout",
     "output_type": "stream",
     "text": [
      "loss: 1.1321563720703125\n",
      "accuracy: 0.7239053845405579\n",
      "Generated Text:  b'harry potter a very more s snnelyeeene the the. s. m.. . of.. he he a'\n",
      "\n",
      "\n",
      "Epoch 253:\n"
     ]
    },
    {
     "name": "stderr",
     "output_type": "stream",
     "text": [
      "100%|███████████████████████████████████████████████████████████████████████████████| 1593/1593 [06:12<00:00,  4.28it/s]\n"
     ]
    },
    {
     "name": "stdout",
     "output_type": "stream",
     "text": [
      "loss: 1.1312135457992554\n",
      "accuracy: 0.7244144678115845\n",
      "Generated Text:  b'harry potter as a he the sneotiarrdrsibasns.teiiseds'\n",
      "\n",
      "\n",
      "Epoch 254:\n"
     ]
    },
    {
     "name": "stderr",
     "output_type": "stream",
     "text": [
      "100%|███████████████████████████████████████████████████████████████████████████████| 1593/1593 [06:21<00:00,  4.17it/s]\n"
     ]
    },
    {
     "name": "stdout",
     "output_type": "stream",
     "text": [
      "loss: 1.1304529905319214\n",
      "accuracy: 0.7249588370323181\n",
      "Generated Text:  b'harry potters. and when i he not still i a. said a s a an an you a a  an verynrnnnea'\n",
      "\n",
      "\n",
      "Epoch 255:\n"
     ]
    },
    {
     "name": "stderr",
     "output_type": "stream",
     "text": [
      "100%|███████████████████████████████████████████████████████████████████████████████| 1593/1593 [06:10<00:00,  4.30it/s]\n"
     ]
    },
    {
     "name": "stdout",
     "output_type": "stream",
     "text": [
      "loss: 1.131062388420105\n",
      "accuracy: 0.7244009971618652\n",
      "Generated Text:  b'harry potter and hermione as more in b s as coaaaecmsdh sdaaarmbs'\n",
      "\n",
      "\n",
      "Epoch 256:\n"
     ]
    },
    {
     "name": "stderr",
     "output_type": "stream",
     "text": [
      "100%|███████████████████████████████████████████████████████████████████████████████| 1593/1593 [06:35<00:00,  4.03it/s]\n"
     ]
    },
    {
     "name": "stdout",
     "output_type": "stream",
     "text": [
      "loss: 1.1308571100234985\n",
      "accuracy: 0.7243286371231079\n",
      "Generated Text:  b'harry potter in the an. the only end. the in the.  as a .n you of   the the.. . andn'\n",
      "\n",
      "\n",
      "Epoch 257:\n"
     ]
    },
    {
     "name": "stderr",
     "output_type": "stream",
     "text": [
      "100%|███████████████████████████████████████████████████████████████████████████████| 1593/1593 [05:42<00:00,  4.65it/s]\n"
     ]
    },
    {
     "name": "stdout",
     "output_type": "stream",
     "text": [
      "loss: 1.129677176475525\n",
      "accuracy: 0.7246456146240234\n",
      "Generated Text:  b'harry potters a very s very more un s  eeaeeaaaaarssaaasaadd'\n",
      "\n",
      "\n",
      "Epoch 258:\n"
     ]
    },
    {
     "name": "stderr",
     "output_type": "stream",
     "text": [
      "100%|███████████████████████████████████████████████████████████████████████████████| 1593/1593 [06:25<00:00,  4.13it/s]\n"
     ]
    },
    {
     "name": "stdout",
     "output_type": "stream",
     "text": [
      "loss: 1.1270002126693726\n",
      "accuracy: 0.7254630923271179\n",
      "Generated Text:  b'harry potter a more famous s s. fore. harry you harry harry in. an?. in i i! he he the he hes  s'\n",
      "\n",
      "\n",
      "Epoch 259:\n"
     ]
    },
    {
     "name": "stderr",
     "output_type": "stream",
     "text": [
      "100%|███████████████████████████████████████████████████████████████████████████████| 1593/1593 [06:24<00:00,  4.15it/s]\n"
     ]
    },
    {
     "name": "stdout",
     "output_type": "stream",
     "text": [
      "loss: 1.129796028137207\n",
      "accuracy: 0.7245502471923828\n",
      "Generated Text:  b'harry potter a the young school s. .n with you....n... you harry.. said harry. i the you. i the and'\n",
      "\n",
      "\n",
      "Epoch 260:\n"
     ]
    },
    {
     "name": "stderr",
     "output_type": "stream",
     "text": [
      "100%|███████████████████████████████████████████████████████████████████████████████| 1593/1593 [05:58<00:00,  4.44it/s]\n"
     ]
    },
    {
     "name": "stdout",
     "output_type": "stream",
     "text": [
      "loss: 1.1282408237457275\n",
      "accuracy: 0.7250499129295349\n",
      "Generated Text:  b'harry potter was the s speereaadaeaaesssassssamsssas'\n",
      "\n",
      "\n",
      "Epoch 261:\n"
     ]
    },
    {
     "name": "stderr",
     "output_type": "stream",
     "text": [
      "100%|███████████████████████████████████████████████████████████████████████████████| 1593/1593 [06:11<00:00,  4.29it/s]\n"
     ]
    },
    {
     "name": "stdout",
     "output_type": "stream",
     "text": [
      "loss: 1.128526210784912\n",
      "accuracy: 0.724903404712677\n",
      "Generated Text:  b'harry potter what you! what said i was i in was the the he only an d an in  in a a in as the a  an '\n",
      "\n",
      "\n",
      "Epoch 262:\n"
     ]
    },
    {
     "name": "stderr",
     "output_type": "stream",
     "text": [
      "100%|███████████████████████████████████████████████████████████████████████████████| 1593/1593 [06:27<00:00,  4.11it/s]\n"
     ]
    },
    {
     "name": "stdout",
     "output_type": "stream",
     "text": [
      "loss: 1.1281616687774658\n",
      "accuracy: 0.7252197265625\n",
      "Generated Text:  b'harry potter. at the the gryffindor students. first and the the... the and. the professor i. i  i..... said i said i i'\n",
      "\n",
      "\n",
      "Epoch 263:\n"
     ]
    },
    {
     "name": "stderr",
     "output_type": "stream",
     "text": [
      "100%|███████████████████████████████████████████████████████████████████████████████| 1593/1593 [06:12<00:00,  4.27it/s]\n"
     ]
    },
    {
     "name": "stdout",
     "output_type": "stream",
     "text": [
      "loss: 1.126184105873108\n",
      "accuracy: 0.7256552577018738\n",
      "Generated Text:  b'harry potter who not just is the s an deear?? the syerea s yesmmab'\n",
      "\n",
      "\n",
      "Epoch 264:\n"
     ]
    },
    {
     "name": "stderr",
     "output_type": "stream",
     "text": [
      "100%|███████████████████████████████████████████████████████████████████████████████| 1593/1593 [06:27<00:00,  4.12it/s]\n"
     ]
    },
    {
     "name": "stdout",
     "output_type": "stream",
     "text": [
      "loss: 1.123834252357483\n",
      "accuracy: 0.726053774356842\n",
      "Generated Text:  b'harry potter.. as the the i as f you he.  he he im he  rm anda and in hems? '\n",
      "\n",
      "\n",
      "Epoch 265:\n"
     ]
    },
    {
     "name": "stderr",
     "output_type": "stream",
     "text": [
      "100%|███████████████████████████████████████████████████████████████████████████████| 1593/1593 [06:23<00:00,  4.15it/s]\n"
     ]
    },
    {
     "name": "stdout",
     "output_type": "stream",
     "text": [
      "loss: 1.1245810985565186\n",
      "accuracy: 0.7256889939308167\n",
      "Generated Text:  b'harry potter. not in a s very the a se meeeareaiaessas sedsy.'\n",
      "\n",
      "\n",
      "Epoch 266:\n"
     ]
    },
    {
     "name": "stderr",
     "output_type": "stream",
     "text": [
      "100%|███████████████████████████████████████████████████████████████████████████████| 1593/1593 [06:09<00:00,  4.31it/s]\n"
     ]
    },
    {
     "name": "stdout",
     "output_type": "stream",
     "text": [
      "loss: 1.1264857053756714\n",
      "accuracy: 0.7253319025039673\n",
      "Generated Text:  b'harry potter a very the famous and as to at the for the. p s co n he..neern the he theen'\n",
      "\n",
      "\n",
      "Epoch 267:\n"
     ]
    },
    {
     "name": "stderr",
     "output_type": "stream",
     "text": [
      "100%|███████████████████████████████████████████████████████████████████████████████| 1593/1593 [06:24<00:00,  4.15it/s]\n"
     ]
    },
    {
     "name": "stdout",
     "output_type": "stream",
     "text": [
      "loss: 1.1219537258148193\n",
      "accuracy: 0.7264127135276794\n",
      "Generated Text:  b'harry potter at the harry.. a the f eney r. et!i!imebaslr'\n",
      "\n",
      "\n",
      "Epoch 268:\n"
     ]
    },
    {
     "name": "stderr",
     "output_type": "stream",
     "text": [
      "100%|███████████████████████████████████████████████████████████████████████████████| 1593/1593 [06:25<00:00,  4.13it/s]\n"
     ]
    },
    {
     "name": "stdout",
     "output_type": "stream",
     "text": [
      "loss: 1.1247047185897827\n",
      "accuracy: 0.7256656885147095\n",
      "Generated Text:  b'harry potter said was very looking s.. at. as a harry the very great  the very s great   ps he .. ands'\n",
      "\n",
      "\n",
      "Epoch 269:\n"
     ]
    },
    {
     "name": "stderr",
     "output_type": "stream",
     "text": [
      "100%|███████████████████████████████████████████████████████████████████████████████| 1593/1593 [06:11<00:00,  4.29it/s]\n"
     ]
    },
    {
     "name": "stdout",
     "output_type": "stream",
     "text": [
      "loss: 1.1238571405410767\n",
      "accuracy: 0.7259145975112915\n",
      "Generated Text:  b'harry potter in the and the very very f  very as rrer..e  anda.sbnrtaa.'\n",
      "\n",
      "\n",
      "Epoch 270:\n"
     ]
    },
    {
     "name": "stderr",
     "output_type": "stream",
     "text": [
      "100%|███████████████████████████████████████████████████████████████████████████████| 1593/1593 [06:25<00:00,  4.14it/s]\n"
     ]
    },
    {
     "name": "stdout",
     "output_type": "stream",
     "text": [
      "loss: 1.123666763305664\n",
      "accuracy: 0.7264972925186157\n",
      "Generated Text:  b'harry potter if the in i the  in inrnd thertnoeefeeeraaaaiat'\n",
      "\n",
      "\n",
      "Epoch 271:\n"
     ]
    },
    {
     "name": "stderr",
     "output_type": "stream",
     "text": [
      "100%|███████████████████████████████████████████████████████████████████████████████| 1593/1593 [05:58<00:00,  4.45it/s]\n"
     ]
    },
    {
     "name": "stdout",
     "output_type": "stream",
     "text": [
      "loss: 1.1254782676696777\n",
      "accuracy: 0.7255798578262329\n",
      "Generated Text:  b'harry potter what? we thought said i was ron you i hes he a was not just very a a s   a  n very. very'\n",
      "\n",
      "\n",
      "Epoch 272:\n"
     ]
    },
    {
     "name": "stderr",
     "output_type": "stream",
     "text": [
      "100%|███████████████████████████████████████████████████████████████████████████████| 1593/1593 [06:10<00:00,  4.30it/s]\n"
     ]
    },
    {
     "name": "stdout",
     "output_type": "stream",
     "text": [
      "loss: 1.1249834299087524\n",
      "accuracy: 0.7260191440582275\n",
      "Generated Text:  b'harry potter in still. an he this i! and said he a he i and and  not you do he not you in a very said i a he'\n",
      "\n",
      "\n",
      "Epoch 273:\n"
     ]
    },
    {
     "name": "stderr",
     "output_type": "stream",
     "text": [
      "100%|███████████████████████████████████████████████████████████████████████████████| 1593/1593 [06:11<00:00,  4.28it/s]\n"
     ]
    },
    {
     "name": "stdout",
     "output_type": "stream",
     "text": [
      "loss: 1.1228766441345215\n",
      "accuracy: 0.7263416051864624\n",
      "Generated Text:  b'harry potter.  the. for in i the a the thenn he  very hen and py henn.??  he he'\n",
      "\n",
      "\n",
      "Epoch 274:\n"
     ]
    },
    {
     "name": "stderr",
     "output_type": "stream",
     "text": [
      "100%|███████████████████████████████████████████████████████████████████████████████| 1593/1593 [06:11<00:00,  4.29it/s]\n"
     ]
    },
    {
     "name": "stdout",
     "output_type": "stream",
     "text": [
      "loss: 1.1209713220596313\n",
      "accuracy: 0.7266125679016113\n",
      "Generated Text:  b'harry potter was. the the very very d still first.  s se on e theem. hena said andn the n'\n",
      "\n",
      "\n",
      "Epoch 275:\n"
     ]
    },
    {
     "name": "stderr",
     "output_type": "stream",
     "text": [
      "100%|███████████████████████████████████████████████████████████████████████████████| 1593/1593 [06:14<00:00,  4.26it/s]\n"
     ]
    },
    {
     "name": "stdout",
     "output_type": "stream",
     "text": [
      "loss: 1.122431755065918\n",
      "accuracy: 0.7262088656425476\n",
      "Generated Text:  b'harry potter do all what. the but. the a it he  you he  said.? very he she said said? i s i you you said'\n",
      "\n",
      "\n",
      "Epoch 276:\n"
     ]
    },
    {
     "name": "stderr",
     "output_type": "stream",
     "text": [
      "100%|███████████████████████████████████████████████████████████████████████████████| 1593/1593 [06:10<00:00,  4.29it/s]\n"
     ]
    },
    {
     "name": "stdout",
     "output_type": "stream",
     "text": [
      "loss: 1.1195099353790283\n",
      "accuracy: 0.727151095867157\n",
      "Generated Text:  b'harry potter more more and to harry the he an e don a anan hesnvenaanassvea'\n",
      "\n",
      "\n",
      "Epoch 277:\n"
     ]
    },
    {
     "name": "stderr",
     "output_type": "stream",
     "text": [
      "100%|███████████████████████████████████████████████████████████████████████████████| 1593/1593 [06:05<00:00,  4.36it/s]\n"
     ]
    },
    {
     "name": "stdout",
     "output_type": "stream",
     "text": [
      "loss: 1.1218962669372559\n",
      "accuracy: 0.726561963558197\n",
      "Generated Text:  b'harry potter at an aarm. it on.. to harry. in the the. there an the the this. i the  the said the very'\n",
      "\n",
      "\n",
      "Epoch 278:\n"
     ]
    },
    {
     "name": "stderr",
     "output_type": "stream",
     "text": [
      "100%|███████████████████████████████████████████████████████████████████████████████| 1593/1593 [06:44<00:00,  3.94it/s]\n"
     ]
    },
    {
     "name": "stdout",
     "output_type": "stream",
     "text": [
      "loss: 1.1216599941253662\n",
      "accuracy: 0.7264954447746277\n",
      "Generated Text:  b'harry potter to do the the was well. you it i. i a he i look the in in there for hes a p was said . '\n",
      "\n",
      "\n",
      "Epoch 279:\n"
     ]
    },
    {
     "name": "stderr",
     "output_type": "stream",
     "text": [
      "100%|███████████████████████████████████████████████████████████████████████████████| 1593/1593 [06:26<00:00,  4.12it/s]\n"
     ]
    },
    {
     "name": "stdout",
     "output_type": "stream",
     "text": [
      "loss: 1.1173406839370728\n",
      "accuracy: 0.7276865839958191\n",
      "Generated Text:  b'harry potter a. not very a very to do do very. it. i you he? there do you in. in you said. the there??'\n",
      "\n",
      "\n",
      "Epoch 280:\n"
     ]
    },
    {
     "name": "stderr",
     "output_type": "stream",
     "text": [
      "100%|███████████████████████████████████████████████████████████████████████████████| 1593/1593 [06:22<00:00,  4.16it/s]\n"
     ]
    },
    {
     "name": "stdout",
     "output_type": "stream",
     "text": [
      "loss: 1.1194562911987305\n",
      "accuracy: 0.7271544933319092\n",
      "Generated Text:  b'harry potter.. harry he and you what if were and he was you  what a a the i in a a  the very  the?  he'\n",
      "\n",
      "\n",
      "Epoch 281:\n"
     ]
    },
    {
     "name": "stderr",
     "output_type": "stream",
     "text": [
      "100%|███████████████████████████████████████████████████████████████████████████████| 1593/1593 [05:57<00:00,  4.46it/s]\n"
     ]
    },
    {
     "name": "stdout",
     "output_type": "stream",
     "text": [
      "loss: 1.1198421716690063\n",
      "accuracy: 0.7268648147583008\n",
      "Generated Text:  b'harry potter at. not all the the. harry a the only . the the the one great   s stone as great  s. coe'\n",
      "\n",
      "\n",
      "Epoch 282:\n"
     ]
    },
    {
     "name": "stderr",
     "output_type": "stream",
     "text": [
      "100%|███████████████████████████████████████████████████████████████████████████████| 1593/1593 [05:43<00:00,  4.64it/s]\n"
     ]
    },
    {
     "name": "stdout",
     "output_type": "stream",
     "text": [
      "loss: 1.1191365718841553\n",
      "accuracy: 0.7271943092346191\n",
      "Generated Text:  b'harry potter.... now it. he... said  he you  said he  he.. in  i.! he very he he and? he'\n",
      "\n",
      "\n",
      "Epoch 283:\n"
     ]
    },
    {
     "name": "stderr",
     "output_type": "stream",
     "text": [
      "100%|███████████████████████████████████████████████████████████████████████████████| 1593/1593 [06:26<00:00,  4.12it/s]\n"
     ]
    },
    {
     "name": "stdout",
     "output_type": "stream",
     "text": [
      "loss: 1.1170881986618042\n",
      "accuracy: 0.7277212142944336\n",
      "Generated Text:  b'harry potter to. harry the a what very the  very d  ssy s yne.mmp. and.ea'\n",
      "\n",
      "\n",
      "Epoch 284:\n"
     ]
    },
    {
     "name": "stderr",
     "output_type": "stream",
     "text": [
      "100%|███████████████████████████████████████████████████████████████████████████████| 1593/1593 [06:14<00:00,  4.25it/s]\n"
     ]
    },
    {
     "name": "stdout",
     "output_type": "stream",
     "text": [
      "loss: 1.1175084114074707\n",
      "accuracy: 0.7274855375289917\n",
      "Generated Text:  b'harry potter.. what we we do? do we got said was to there. in. harry the. the a only the harry a harry i  p'\n",
      "\n",
      "\n",
      "Epoch 285:\n"
     ]
    },
    {
     "name": "stderr",
     "output_type": "stream",
     "text": [
      "100%|███████████████████████████████████████████████████████████████████████████████| 1593/1593 [06:37<00:00,  4.01it/s]\n"
     ]
    },
    {
     "name": "stdout",
     "output_type": "stream",
     "text": [
      "loss: 1.1148117780685425\n",
      "accuracy: 0.7281147837638855\n",
      "Generated Text:  b'harry potter. a we very f erimy mba..eb.bbaeblaayb'\n",
      "\n",
      "\n",
      "Epoch 286:\n"
     ]
    },
    {
     "name": "stderr",
     "output_type": "stream",
     "text": [
      "100%|███████████████████████████████████████████████████████████████████████████████| 1593/1593 [06:12<00:00,  4.28it/s]\n"
     ]
    },
    {
     "name": "stdout",
     "output_type": "stream",
     "text": [
      "loss: 1.118048071861267\n",
      "accuracy: 0.7274643778800964\n",
      "Generated Text:  b'harry potter said said harry the a s the the not very very . great   and very   co cos n esea'\n",
      "\n",
      "\n",
      "Epoch 287:\n"
     ]
    },
    {
     "name": "stderr",
     "output_type": "stream",
     "text": [
      "100%|███████████████████████████████████████████████████████████████████████████████| 1593/1593 [06:26<00:00,  4.12it/s]\n"
     ]
    },
    {
     "name": "stdout",
     "output_type": "stream",
     "text": [
      "loss: 1.1179940700531006\n",
      "accuracy: 0.7273944616317749\n",
      "Generated Text:  b'harry potters an owl runcinatatsasrsiaississatsr'\n",
      "\n",
      "\n",
      "Epoch 288:\n"
     ]
    },
    {
     "name": "stderr",
     "output_type": "stream",
     "text": [
      "100%|███████████████████████████████████████████████████████████████████████████████| 1593/1593 [05:59<00:00,  4.43it/s]\n"
     ]
    },
    {
     "name": "stdout",
     "output_type": "stream",
     "text": [
      "loss: 1.1170589923858643\n",
      "accuracy: 0.7276203632354736\n",
      "Generated Text:  b'harry potter whos not thought that? the was the de. ? he. i  there b you i he only no and he was a a a'\n",
      "\n",
      "\n",
      "Epoch 289:\n"
     ]
    },
    {
     "name": "stderr",
     "output_type": "stream",
     "text": [
      "100%|███████████████████████████████████████████████████████████████████████████████| 1593/1593 [06:23<00:00,  4.16it/s]\n"
     ]
    },
    {
     "name": "stdout",
     "output_type": "stream",
     "text": [
      "loss: 1.1176115274429321\n",
      "accuracy: 0.7273684144020081\n",
      "Generated Text:  b'harry potter and what the we thought was said the a the very f. the . in s i  s heanansny'\n",
      "\n",
      "\n",
      "Epoch 290:\n"
     ]
    },
    {
     "name": "stderr",
     "output_type": "stream",
     "text": [
      "100%|███████████████████████████████████████████████████████████████████████████████| 1593/1593 [06:31<00:00,  4.07it/s]\n"
     ]
    },
    {
     "name": "stdout",
     "output_type": "stream",
     "text": [
      "loss: 1.1181738376617432\n",
      "accuracy: 0.7274177670478821\n",
      "Generated Text:  b'harry potter. if snape to he a get just a a look very look a bess  on a a!  said s. you s he and'\n",
      "\n",
      "\n",
      "Epoch 291:\n"
     ]
    },
    {
     "name": "stderr",
     "output_type": "stream",
     "text": [
      "100%|███████████████████████████████████████████████████████████████████████████████| 1593/1593 [06:56<00:00,  3.82it/s]\n"
     ]
    },
    {
     "name": "stdout",
     "output_type": "stream",
     "text": [
      "loss: 1.1162374019622803\n",
      "accuracy: 0.7277126312255859\n",
      "Generated Text:  b'harry potter said. i you a just a  yous and i atp aetre the   the very andsrsp co'\n",
      "\n",
      "\n",
      "Epoch 292:\n"
     ]
    },
    {
     "name": "stderr",
     "output_type": "stream",
     "text": [
      "100%|███████████████████████████████████████████████████████████████████████████████| 1593/1593 [06:27<00:00,  4.11it/s]\n"
     ]
    },
    {
     "name": "stdout",
     "output_type": "stream",
     "text": [
      "loss: 1.115238070487976\n",
      "accuracy: 0.7278754115104675\n",
      "Generated Text:  b'harry potter to get as the ch aa spoearsaadayssssasseass'\n",
      "\n",
      "\n",
      "Epoch 293:\n"
     ]
    },
    {
     "name": "stderr",
     "output_type": "stream",
     "text": [
      "100%|███████████████████████████████████████████████████████████████████████████████| 1593/1593 [06:12<00:00,  4.28it/s]\n"
     ]
    },
    {
     "name": "stdout",
     "output_type": "stream",
     "text": [
      "loss: 1.1159064769744873\n",
      "accuracy: 0.7275419235229492\n",
      "Generated Text:  b'harry potter. and the more at in the the  on a. .. harry. the co  the hen cosn aeen'\n",
      "\n",
      "\n",
      "Epoch 294:\n"
     ]
    },
    {
     "name": "stderr",
     "output_type": "stream",
     "text": [
      "100%|███████████████████████████████████████████████████████████████████████████████| 1593/1593 [06:12<00:00,  4.28it/s]\n"
     ]
    },
    {
     "name": "stdout",
     "output_type": "stream",
     "text": [
      "loss: 1.1161059141159058\n",
      "accuracy: 0.7278358340263367\n",
      "Generated Text:  b'harry potter was. more the more s and s neeaaaaaadabnaaaadasa'\n",
      "\n",
      "\n",
      "Epoch 295:\n"
     ]
    },
    {
     "name": "stderr",
     "output_type": "stream",
     "text": [
      "100%|███████████████████████████████████████████████████████████████████████████████| 1593/1593 [06:26<00:00,  4.12it/s]\n"
     ]
    },
    {
     "name": "stdout",
     "output_type": "stream",
     "text": [
      "loss: 1.1133540868759155\n",
      "accuracy: 0.7284522652626038\n",
      "Generated Text:  b'harry potter said ron in the the and only not harry the a an very i an s the ann harry   a  ann nnd'\n",
      "\n",
      "\n",
      "Epoch 296:\n"
     ]
    },
    {
     "name": "stderr",
     "output_type": "stream",
     "text": [
      "100%|███████████████████████████████████████████████████████████████████████████████| 1593/1593 [06:10<00:00,  4.29it/s]\n"
     ]
    },
    {
     "name": "stdout",
     "output_type": "stream",
     "text": [
      "loss: 1.1170607805252075\n",
      "accuracy: 0.7275516986846924\n",
      "Generated Text:  b'harry potter? in i and the only an get a ? a said  harry very be  very very s very very  in an  a as.'\n",
      "\n",
      "\n",
      "Epoch 297:\n"
     ]
    },
    {
     "name": "stderr",
     "output_type": "stream",
     "text": [
      "100%|███████████████████████████████████████████████████████████████████████████████| 1593/1593 [06:11<00:00,  4.29it/s]\n"
     ]
    },
    {
     "name": "stdout",
     "output_type": "stream",
     "text": [
      "loss: 1.1146520376205444\n",
      "accuracy: 0.7282594442367554\n",
      "Generated Text:  b'harry potter. as i in there he i! you the he for i said said i he the i i? an just i said i i you i i'\n",
      "\n",
      "\n",
      "Epoch 298:\n"
     ]
    },
    {
     "name": "stderr",
     "output_type": "stream",
     "text": [
      "100%|███████████████████████████████████████████████████████████████████████████████| 1593/1593 [06:24<00:00,  4.14it/s]\n"
     ]
    },
    {
     "name": "stdout",
     "output_type": "stream",
     "text": [
      "loss: 1.1116496324539185\n",
      "accuracy: 0.7287741303443909\n",
      "Generated Text:  b'harry potters. not. as a now they if s he. the  he he a he.. not a a ms and s s'\n",
      "\n",
      "\n",
      "Epoch 299:\n"
     ]
    },
    {
     "name": "stderr",
     "output_type": "stream",
     "text": [
      "100%|███████████████████████████████████████████████████████████████████████████████| 1593/1593 [06:11<00:00,  4.28it/s]\n"
     ]
    },
    {
     "name": "stdout",
     "output_type": "stream",
     "text": [
      "loss: 1.1126724481582642\n",
      "accuracy: 0.7284231781959534\n",
      "Generated Text:  b'harry potter. the the very well well look go. well  harry i. i . i go. i he i  i   . he'\n",
      "\n",
      "\n",
      "Epoch 300:\n"
     ]
    },
    {
     "name": "stderr",
     "output_type": "stream",
     "text": [
      "100%|███████████████████████████████████████████████████████████████████████████████| 1593/1593 [06:38<00:00,  4.00it/s]\n"
     ]
    },
    {
     "name": "stdout",
     "output_type": "stream",
     "text": [
      "loss: 1.1153308153152466\n",
      "accuracy: 0.7278143763542175\n",
      "Generated Text:  b'harry potter the not in the c s greatyianreeaafaristeavesiity'\n",
      "\n",
      "\n",
      "Epoch 301:\n"
     ]
    },
    {
     "name": "stderr",
     "output_type": "stream",
     "text": [
      "100%|███████████████████████████████████████████████████████████████████████████████| 1593/1593 [05:45<00:00,  4.61it/s]\n"
     ]
    },
    {
     "name": "stdout",
     "output_type": "stream",
     "text": [
      "loss: 1.1132771968841553\n",
      "accuracy: 0.7282649874687195\n",
      "Generated Text:  b'harry potter was more to in and in a the  a p s rnsasiaaacnaentan'\n",
      "\n",
      "\n",
      "Epoch 302:\n"
     ]
    },
    {
     "name": "stderr",
     "output_type": "stream",
     "text": [
      "100%|███████████████████████████████████████████████████████████████████████████████| 1593/1593 [06:24<00:00,  4.14it/s]\n"
     ]
    },
    {
     "name": "stdout",
     "output_type": "stream",
     "text": [
      "loss: 1.1131223440170288\n",
      "accuracy: 0.7281579971313477\n",
      "Generated Text:  b'harry potter who not said was. a a des  and asn hparambmaaaaaterm'\n",
      "\n",
      "\n",
      "Epoch 303:\n"
     ]
    },
    {
     "name": "stderr",
     "output_type": "stream",
     "text": [
      "100%|███████████████████████████████████████████████████████████████████████████████| 1593/1593 [05:56<00:00,  4.47it/s]\n"
     ]
    },
    {
     "name": "stdout",
     "output_type": "stream",
     "text": [
      "loss: 1.1118929386138916\n",
      "accuracy: 0.7287538647651672\n",
      "Generated Text:  b'harry potters more to seannea wastoaatoess tosstye a the. '\n",
      "\n",
      "\n",
      "Epoch 304:\n"
     ]
    },
    {
     "name": "stderr",
     "output_type": "stream",
     "text": [
      "100%|███████████████████████████████████████████████████████████████████████████████| 1593/1593 [06:00<00:00,  4.42it/s]\n"
     ]
    },
    {
     "name": "stdout",
     "output_type": "stream",
     "text": [
      "loss: 1.1140544414520264\n",
      "accuracy: 0.7281107902526855\n",
      "Generated Text:  b'harry potter was an the more as old more an morek old one in and harry a  in  s. forn! of a!  you.'\n",
      "\n",
      "\n",
      "Epoch 305:\n"
     ]
    },
    {
     "name": "stderr",
     "output_type": "stream",
     "text": [
      "100%|███████████████████████████████████████████████████████████████████████████████| 1593/1593 [06:11<00:00,  4.29it/s]\n"
     ]
    },
    {
     "name": "stdout",
     "output_type": "stream",
     "text": [
      "loss: 1.1129586696624756\n",
      "accuracy: 0.7283400893211365\n",
      "Generated Text:  b'harry potter a more as i the to a is fn an pnnt theheoooe mheet'\n",
      "\n",
      "\n",
      "Epoch 306:\n"
     ]
    },
    {
     "name": "stderr",
     "output_type": "stream",
     "text": [
      "100%|███████████████████████████████████████████████████████████████████████████████| 1593/1593 [05:59<00:00,  4.44it/s]\n"
     ]
    },
    {
     "name": "stdout",
     "output_type": "stream",
     "text": [
      "loss: 1.1116561889648438\n",
      "accuracy: 0.7286416888237\n",
      "Generated Text:  b'harry potter the and not the very old  very a man. m.  s.....se he he a. and   n'\n",
      "\n",
      "\n",
      "Epoch 307:\n"
     ]
    },
    {
     "name": "stderr",
     "output_type": "stream",
     "text": [
      "100%|███████████████████████████████████████████████████████████████████████████████| 1593/1593 [06:14<00:00,  4.25it/s]\n"
     ]
    },
    {
     "name": "stdout",
     "output_type": "stream",
     "text": [
      "loss: 1.110412836074829\n",
      "accuracy: 0.7286919951438904\n",
      "Generated Text:  b'harry potter the only. just in a very very s an the and   asr a yenennte heats'\n",
      "\n",
      "\n",
      "Epoch 308:\n"
     ]
    },
    {
     "name": "stderr",
     "output_type": "stream",
     "text": [
      "100%|███████████████████████████████████████████████████████████████████████████████| 1593/1593 [05:48<00:00,  4.57it/s]\n"
     ]
    },
    {
     "name": "stdout",
     "output_type": "stream",
     "text": [
      "loss: 1.110633134841919\n",
      "accuracy: 0.7290405035018921\n",
      "Generated Text:  b'harry potter... harry. said harry harry there a... we what harry and. what will if the. i harry  only and they had  and'\n",
      "\n",
      "\n",
      "Epoch 309:\n"
     ]
    },
    {
     "name": "stderr",
     "output_type": "stream",
     "text": [
      "100%|███████████████████████████████████████████████████████████████████████████████| 1593/1593 [06:43<00:00,  3.95it/s]\n"
     ]
    },
    {
     "name": "stdout",
     "output_type": "stream",
     "text": [
      "loss: 1.1118232011795044\n",
      "accuracy: 0.7285887002944946\n",
      "Generated Text:  b'harry potters to come in and a a. that the the f you he. said  he said? harry i . in.? i. there'\n",
      "\n",
      "\n",
      "Epoch 310:\n"
     ]
    },
    {
     "name": "stderr",
     "output_type": "stream",
     "text": [
      "100%|███████████████████████████████████████████████████████████████████████████████| 1593/1593 [06:18<00:00,  4.21it/s]\n"
     ]
    },
    {
     "name": "stdout",
     "output_type": "stream",
     "text": [
      "loss: 1.109940528869629\n",
      "accuracy: 0.7291913032531738\n",
      "Generated Text:  b'harry potter a do sm.. thats? he said he and the he you an had he  said   said sm. and  a'\n",
      "\n",
      "\n",
      "Epoch 311:\n"
     ]
    },
    {
     "name": "stderr",
     "output_type": "stream",
     "text": [
      "100%|███████████████████████████████████████████████████████████████████████████████| 1593/1593 [06:14<00:00,  4.25it/s]\n"
     ]
    },
    {
     "name": "stdout",
     "output_type": "stream",
     "text": [
      "loss: 1.109551191329956\n",
      "accuracy: 0.7291833162307739\n",
      "Generated Text:  b'harry potter all more gryffindor. we this and what this the you is were. he the not  a  the be in only in?.  s'\n",
      "\n",
      "\n",
      "Epoch 312:\n"
     ]
    },
    {
     "name": "stderr",
     "output_type": "stream",
     "text": [
      "100%|███████████████████████████████████████████████████████████████████████████████| 1593/1593 [05:47<00:00,  4.59it/s]\n"
     ]
    },
    {
     "name": "stdout",
     "output_type": "stream",
     "text": [
      "loss: 1.1118336915969849\n",
      "accuracy: 0.7287542223930359\n",
      "Generated Text:  b'harry potter whatsss i a the the s  heaamnsananssenayrysi'\n",
      "\n",
      "\n",
      "Epoch 313:\n"
     ]
    },
    {
     "name": "stderr",
     "output_type": "stream",
     "text": [
      "100%|███████████████████████████████████████████████████████████████████████████████| 1593/1593 [06:13<00:00,  4.27it/s]\n"
     ]
    },
    {
     "name": "stdout",
     "output_type": "stream",
     "text": [
      "loss: 1.1111440658569336\n",
      "accuracy: 0.7287299633026123\n",
      "Generated Text:  b'harry potter what i. do and i i i? was the he do? harry i you said. and i? see he was harry an they the he'\n",
      "\n",
      "\n",
      "Epoch 314:\n"
     ]
    },
    {
     "name": "stderr",
     "output_type": "stream",
     "text": [
      "100%|███████████████████████████████████████████████████████████████████████████████| 1593/1593 [06:13<00:00,  4.26it/s]\n"
     ]
    },
    {
     "name": "stdout",
     "output_type": "stream",
     "text": [
      "loss: 1.1111013889312744\n",
      "accuracy: 0.7285611033439636\n",
      "Generated Text:  b'harry potter suddenly. the and what i not we  have do. i do a he in a? said? a he s. s?? as'\n",
      "\n",
      "\n",
      "Epoch 315:\n"
     ]
    },
    {
     "name": "stderr",
     "output_type": "stream",
     "text": [
      "100%|███████████████████████████████████████████████████████████████████████████████| 1593/1593 [05:59<00:00,  4.43it/s]\n"
     ]
    },
    {
     "name": "stdout",
     "output_type": "stream",
     "text": [
      "loss: 1.1094672679901123\n",
      "accuracy: 0.7292709946632385\n",
      "Generated Text:  b'harry potter.s i! and the and not the i not a for he very co not a to very very in co a  the a a very '\n",
      "\n",
      "\n",
      "Epoch 316:\n"
     ]
    },
    {
     "name": "stderr",
     "output_type": "stream",
     "text": [
      "100%|███████████████████████████████████████████████████████████████████████████████| 1593/1593 [06:15<00:00,  4.24it/s]\n"
     ]
    },
    {
     "name": "stdout",
     "output_type": "stream",
     "text": [
      "loss: 1.1113272905349731\n",
      "accuracy: 0.7288608551025391\n",
      "Generated Text:  b'harry potter said the the s m ana enanycyabii!r aaeinaaa'\n",
      "\n",
      "\n",
      "Epoch 317:\n"
     ]
    },
    {
     "name": "stderr",
     "output_type": "stream",
     "text": [
      "100%|███████████████████████████████████████████████████████████████████████████████| 1593/1593 [06:40<00:00,  3.98it/s]\n"
     ]
    },
    {
     "name": "stdout",
     "output_type": "stream",
     "text": [
      "loss: 1.1085948944091797\n",
      "accuracy: 0.7292841672897339\n",
      "Generated Text:  b'harry potter whoss? he was a what was i he b said s p in s?mbm  inmaeseds'\n",
      "\n",
      "\n",
      "Epoch 318:\n"
     ]
    },
    {
     "name": "stderr",
     "output_type": "stream",
     "text": [
      "100%|███████████████████████████████████████████████████████████████████████████████| 1593/1593 [06:12<00:00,  4.27it/s]\n"
     ]
    },
    {
     "name": "stdout",
     "output_type": "stream",
     "text": [
      "loss: 1.1090770959854126\n",
      "accuracy: 0.7291014790534973\n",
      "Generated Text:  b'harry potter said the fly. in the in a s. and the  a very   great s and ps.entty'\n",
      "\n",
      "\n",
      "Epoch 319:\n"
     ]
    },
    {
     "name": "stderr",
     "output_type": "stream",
     "text": [
      "100%|███████████████████████████████████████████████████████████████████████████████| 1593/1593 [06:28<00:00,  4.10it/s]\n"
     ]
    },
    {
     "name": "stdout",
     "output_type": "stream",
     "text": [
      "loss: 1.1083934307098389\n",
      "accuracy: 0.7296167612075806\n",
      "Generated Text:  b'harry potter was in to. still my. there harry to you. said an a.. that do  you said a you you that.. i harry'\n",
      "\n",
      "\n",
      "Epoch 320:\n"
     ]
    },
    {
     "name": "stderr",
     "output_type": "stream",
     "text": [
      "100%|███████████████████████████████████████████████████████████████████████████████| 1593/1593 [06:01<00:00,  4.41it/s]\n"
     ]
    },
    {
     "name": "stdout",
     "output_type": "stream",
     "text": [
      "loss: 1.1095637083053589\n",
      "accuracy: 0.7289534211158752\n",
      "Generated Text:  b'harry potter the chissases!s! and.s hes. thes and the the b said ss y harry.'\n",
      "\n",
      "\n",
      "Epoch 321:\n"
     ]
    },
    {
     "name": "stderr",
     "output_type": "stream",
     "text": [
      "100%|███████████████████████████████████████████████████████████████████████████████| 1593/1593 [05:59<00:00,  4.43it/s]\n"
     ]
    },
    {
     "name": "stdout",
     "output_type": "stream",
     "text": [
      "loss: 1.1095190048217773\n",
      "accuracy: 0.729181170463562\n",
      "Generated Text:  b'harry potters to in the in to use the one the the  i.. a f one i of will and do in you i in the? the'\n",
      "\n",
      "\n",
      "Epoch 322:\n"
     ]
    },
    {
     "name": "stderr",
     "output_type": "stream",
     "text": [
      "100%|███████████████████████████████████████████████████████████████████████████████| 1593/1593 [06:12<00:00,  4.28it/s]\n"
     ]
    },
    {
     "name": "stdout",
     "output_type": "stream",
     "text": [
      "loss: 1.1098355054855347\n",
      "accuracy: 0.7286205291748047\n",
      "Generated Text:  b'harry potters! and to he s got not not a the not said the a  very? . a he   ans a? very?'\n",
      "\n",
      "\n",
      "Epoch 323:\n"
     ]
    },
    {
     "name": "stderr",
     "output_type": "stream",
     "text": [
      "100%|███████████████████████████████████████████████████████████████████████████████| 1593/1593 [06:14<00:00,  4.26it/s]\n"
     ]
    },
    {
     "name": "stdout",
     "output_type": "stream",
     "text": [
      "loss: 1.107843279838562\n",
      "accuracy: 0.7295287847518921\n",
      "Generated Text:  b'harry potter and suddenly he not ?. a very s more and very s s  seeeaaan anda e he'\n",
      "\n",
      "\n",
      "Epoch 324:\n"
     ]
    },
    {
     "name": "stderr",
     "output_type": "stream",
     "text": [
      "100%|███████████████████████████████████████████████████████████████████████████████| 1593/1593 [06:26<00:00,  4.12it/s]\n"
     ]
    },
    {
     "name": "stdout",
     "output_type": "stream",
     "text": [
      "loss: 1.108059048652649\n",
      "accuracy: 0.7293025851249695\n",
      "Generated Text:  b'harry potter an hermione ins and the an an tyrr oldrcttcltrtftitrtt'\n",
      "\n",
      "\n",
      "Epoch 325:\n"
     ]
    },
    {
     "name": "stderr",
     "output_type": "stream",
     "text": [
      "100%|███████████████████████████████████████████████████████████████████████████████| 1593/1593 [05:57<00:00,  4.45it/s]\n"
     ]
    },
    {
     "name": "stdout",
     "output_type": "stream",
     "text": [
      "loss: 1.1075700521469116\n",
      "accuracy: 0.7296614646911621\n",
      "Generated Text:  b'harry potter and the was a ch nooemeaedsrssedrs and!.y.s ats '\n",
      "\n",
      "\n",
      "Epoch 326:\n"
     ]
    },
    {
     "name": "stderr",
     "output_type": "stream",
     "text": [
      "100%|███████████████████████████████████████████████████████████████████████████████| 1593/1593 [06:14<00:00,  4.26it/s]\n"
     ]
    },
    {
     "name": "stdout",
     "output_type": "stream",
     "text": [
      "loss: 1.1074858903884888\n",
      "accuracy: 0.7296170592308044\n",
      "Generated Text:  b'harry potter. as i. a fmremro and .mmm. i. ande?.. i was harry and he'\n",
      "\n",
      "\n",
      "Epoch 327:\n"
     ]
    },
    {
     "name": "stderr",
     "output_type": "stream",
     "text": [
      "100%|███████████████████████████████████████████████████████████████████████████████| 1593/1593 [06:15<00:00,  4.24it/s]\n"
     ]
    },
    {
     "name": "stdout",
     "output_type": "stream",
     "text": [
      "loss: 1.106709361076355\n",
      "accuracy: 0.7296103239059448\n",
      "Generated Text:  b'harry potter was an more. what of i! you and i the i   and and  be you forn i ??!  then'\n",
      "\n",
      "\n",
      "Epoch 328:\n"
     ]
    },
    {
     "name": "stderr",
     "output_type": "stream",
     "text": [
      "100%|███████████████████████████████████████████████████████████████████████████████| 1593/1593 [06:20<00:00,  4.18it/s]\n"
     ]
    },
    {
     "name": "stdout",
     "output_type": "stream",
     "text": [
      "loss: 1.10569429397583\n",
      "accuracy: 0.7300375699996948\n",
      "Generated Text:  b'harry potter. the in very go. a for i i the you . . ? harry he hes you??  said and he he'\n",
      "\n",
      "\n",
      "Epoch 329:\n"
     ]
    },
    {
     "name": "stderr",
     "output_type": "stream",
     "text": [
      "100%|███████████████████████████████████████████████████████████████████████████████| 1593/1593 [06:21<00:00,  4.17it/s]\n"
     ]
    },
    {
     "name": "stdout",
     "output_type": "stream",
     "text": [
      "loss: 1.108062505722046\n",
      "accuracy: 0.729627788066864\n",
      "Generated Text:  b'harry potter was to still still. very in very very.. he my  and very  very  as on the as he no.   as harry'\n",
      "\n",
      "\n",
      "Epoch 330:\n"
     ]
    },
    {
     "name": "stderr",
     "output_type": "stream",
     "text": [
      "100%|███████████████████████████████████████████████████████████████████████████████| 1593/1593 [06:15<00:00,  4.25it/s]\n"
     ]
    },
    {
     "name": "stdout",
     "output_type": "stream",
     "text": [
      "loss: 1.1053260564804077\n",
      "accuracy: 0.7301528453826904\n",
      "Generated Text:  b'harry potter more not. at a that the the p this in very b s snneasen the he?ar the a'\n",
      "\n",
      "\n",
      "Epoch 331:\n"
     ]
    },
    {
     "name": "stderr",
     "output_type": "stream",
     "text": [
      "100%|███████████████████████████████████████████████████████████████████████████████| 1593/1593 [06:26<00:00,  4.12it/s]\n"
     ]
    },
    {
     "name": "stdout",
     "output_type": "stream",
     "text": [
      "loss: 1.1068769693374634\n",
      "accuracy: 0.7297804355621338\n",
      "Generated Text:  b'harry potters said the. an i a  you the a  a very  nmsassaare!par.h'\n",
      "\n",
      "\n",
      "Epoch 332:\n"
     ]
    },
    {
     "name": "stderr",
     "output_type": "stream",
     "text": [
      "  8%|██████▎                                                                         | 126/1593 [00:24<04:39,  5.24it/s]\n"
     ]
    },
    {
     "ename": "KeyboardInterrupt",
     "evalue": "",
     "output_type": "error",
     "traceback": [
      "\u001b[0;31m---------------------------------------------------------------------------\u001b[0m",
      "\u001b[0;31mKeyboardInterrupt\u001b[0m                         Traceback (most recent call last)",
      "Input \u001b[0;32mIn [1]\u001b[0m, in \u001b[0;36m<cell line: 56>\u001b[0;34m()\u001b[0m\n\u001b[1;32m     53\u001b[0m model\u001b[38;5;241m.\u001b[39mgenerate_text(\u001b[38;5;124m\"\u001b[39m\u001b[38;5;124mhello dear,\u001b[39m\u001b[38;5;124m\"\u001b[39m, \u001b[38;5;241m1\u001b[39m, \u001b[38;5;241m2\u001b[39m)\n\u001b[1;32m     54\u001b[0m model\u001b[38;5;241m.\u001b[39mload_weights(\u001b[38;5;124mf\u001b[39m\u001b[38;5;124m'\u001b[39m\u001b[38;5;124mmodel/\u001b[39m\u001b[38;5;132;01m{\u001b[39;00mconfig_name\u001b[38;5;132;01m}\u001b[39;00m\u001b[38;5;124m/90\u001b[39m\u001b[38;5;124m'\u001b[39m)\n\u001b[0;32m---> 56\u001b[0m \u001b[43mtraining_loop\u001b[49m\u001b[43m(\u001b[49m\u001b[43mmodel\u001b[49m\u001b[43m,\u001b[49m\u001b[43mdataset\u001b[49m\u001b[43m,\u001b[49m\u001b[43mEPOCHS_start\u001b[49m\u001b[43m,\u001b[49m\u001b[43m \u001b[49m\u001b[43mEPOCHS_end\u001b[49m\u001b[43m,\u001b[49m\u001b[43mstarting_prompt\u001b[49m\u001b[43m,\u001b[49m\u001b[43m \u001b[49m\u001b[43mTEST_OUTPUT_LENGTH\u001b[49m\u001b[43m,\u001b[49m\u001b[43m \u001b[49m\u001b[43mTOP_K\u001b[49m\u001b[43m,\u001b[49m\u001b[43m \u001b[49m\u001b[43mtrain_summary_writer\u001b[49m\u001b[43m,\u001b[49m\u001b[43mconfig_name\u001b[49m\u001b[43m)\u001b[49m\n",
      "File \u001b[0;32m~/tensor/TensorFlow/Homework11/training_loop.py:10\u001b[0m, in \u001b[0;36mtraining_loop\u001b[0;34m(model, train_ds, epochs_start, epochs_end, starting_prompt, output_length, top_k, train_summary_writer, config_name)\u001b[0m\n\u001b[1;32m      8\u001b[0m \u001b[38;5;66;03m# Training:\u001b[39;00m\n\u001b[1;32m      9\u001b[0m \u001b[38;5;28;01mfor\u001b[39;00m data \u001b[38;5;129;01min\u001b[39;00m tqdm\u001b[38;5;241m.\u001b[39mtqdm(train_ds, position\u001b[38;5;241m=\u001b[39m\u001b[38;5;241m0\u001b[39m, leave\u001b[38;5;241m=\u001b[39m\u001b[38;5;28;01mTrue\u001b[39;00m):\n\u001b[0;32m---> 10\u001b[0m     metrics \u001b[38;5;241m=\u001b[39m \u001b[43mmodel\u001b[49m\u001b[38;5;241;43m.\u001b[39;49m\u001b[43mtrain_step\u001b[49m\u001b[43m(\u001b[49m\u001b[43mdata\u001b[49m\u001b[43m)\u001b[49m\n\u001b[1;32m     12\u001b[0m \u001b[38;5;66;03m# logging the validation metrics to the log file which is used by tensorboard\u001b[39;00m\n\u001b[1;32m     13\u001b[0m \u001b[38;5;28;01mwith\u001b[39;00m train_summary_writer\u001b[38;5;241m.\u001b[39mas_default():\n",
      "File \u001b[0;32m~/tensor/TensorFlow/Homework11/model.py:89\u001b[0m, in \u001b[0;36mMyModel.train_step\u001b[0;34m(self, data)\u001b[0m\n\u001b[1;32m     85\u001b[0m     predictions \u001b[38;5;241m=\u001b[39m \u001b[38;5;28mself\u001b[39m(x, training\u001b[38;5;241m=\u001b[39m\u001b[38;5;28;01mTrue\u001b[39;00m)\n\u001b[1;32m     87\u001b[0m     loss \u001b[38;5;241m=\u001b[39m \u001b[38;5;28mself\u001b[39m\u001b[38;5;241m.\u001b[39mloss_function(targets, predictions) \u001b[38;5;241m+\u001b[39m tf\u001b[38;5;241m.\u001b[39mreduce_sum(\u001b[38;5;28mself\u001b[39m\u001b[38;5;241m.\u001b[39mlosses)\n\u001b[0;32m---> 89\u001b[0m gradients \u001b[38;5;241m=\u001b[39m \u001b[43mtape\u001b[49m\u001b[38;5;241;43m.\u001b[39;49m\u001b[43mgradient\u001b[49m\u001b[43m(\u001b[49m\u001b[43mloss\u001b[49m\u001b[43m,\u001b[49m\u001b[43m \u001b[49m\u001b[38;5;28;43mself\u001b[39;49m\u001b[38;5;241;43m.\u001b[39;49m\u001b[43mtrainable_variables\u001b[49m\u001b[43m)\u001b[49m\n\u001b[1;32m     90\u001b[0m \u001b[38;5;28mself\u001b[39m\u001b[38;5;241m.\u001b[39moptimizer\u001b[38;5;241m.\u001b[39mapply_gradients(\u001b[38;5;28mzip\u001b[39m(gradients, \u001b[38;5;28mself\u001b[39m\u001b[38;5;241m.\u001b[39mtrainable_variables))\n\u001b[1;32m     92\u001b[0m \u001b[38;5;66;03m# update loss metric\u001b[39;00m\n",
      "File \u001b[0;32m~/miniconda3/envs/tensor/lib/python3.10/site-packages/tensorflow/python/eager/backprop.py:1112\u001b[0m, in \u001b[0;36mGradientTape.gradient\u001b[0;34m(self, target, sources, output_gradients, unconnected_gradients)\u001b[0m\n\u001b[1;32m   1106\u001b[0m   output_gradients \u001b[38;5;241m=\u001b[39m (\n\u001b[1;32m   1107\u001b[0m       composite_tensor_gradient\u001b[38;5;241m.\u001b[39mget_flat_tensors_for_gradients(\n\u001b[1;32m   1108\u001b[0m           output_gradients))\n\u001b[1;32m   1109\u001b[0m   output_gradients \u001b[38;5;241m=\u001b[39m [\u001b[38;5;28;01mNone\u001b[39;00m \u001b[38;5;28;01mif\u001b[39;00m x \u001b[38;5;129;01mis\u001b[39;00m \u001b[38;5;28;01mNone\u001b[39;00m \u001b[38;5;28;01melse\u001b[39;00m ops\u001b[38;5;241m.\u001b[39mconvert_to_tensor(x)\n\u001b[1;32m   1110\u001b[0m                       \u001b[38;5;28;01mfor\u001b[39;00m x \u001b[38;5;129;01min\u001b[39;00m output_gradients]\n\u001b[0;32m-> 1112\u001b[0m flat_grad \u001b[38;5;241m=\u001b[39m \u001b[43mimperative_grad\u001b[49m\u001b[38;5;241;43m.\u001b[39;49m\u001b[43mimperative_grad\u001b[49m\u001b[43m(\u001b[49m\n\u001b[1;32m   1113\u001b[0m \u001b[43m    \u001b[49m\u001b[38;5;28;43mself\u001b[39;49m\u001b[38;5;241;43m.\u001b[39;49m\u001b[43m_tape\u001b[49m\u001b[43m,\u001b[49m\n\u001b[1;32m   1114\u001b[0m \u001b[43m    \u001b[49m\u001b[43mflat_targets\u001b[49m\u001b[43m,\u001b[49m\n\u001b[1;32m   1115\u001b[0m \u001b[43m    \u001b[49m\u001b[43mflat_sources\u001b[49m\u001b[43m,\u001b[49m\n\u001b[1;32m   1116\u001b[0m \u001b[43m    \u001b[49m\u001b[43moutput_gradients\u001b[49m\u001b[38;5;241;43m=\u001b[39;49m\u001b[43moutput_gradients\u001b[49m\u001b[43m,\u001b[49m\n\u001b[1;32m   1117\u001b[0m \u001b[43m    \u001b[49m\u001b[43msources_raw\u001b[49m\u001b[38;5;241;43m=\u001b[39;49m\u001b[43mflat_sources_raw\u001b[49m\u001b[43m,\u001b[49m\n\u001b[1;32m   1118\u001b[0m \u001b[43m    \u001b[49m\u001b[43munconnected_gradients\u001b[49m\u001b[38;5;241;43m=\u001b[39;49m\u001b[43munconnected_gradients\u001b[49m\u001b[43m)\u001b[49m\n\u001b[1;32m   1120\u001b[0m \u001b[38;5;28;01mif\u001b[39;00m \u001b[38;5;129;01mnot\u001b[39;00m \u001b[38;5;28mself\u001b[39m\u001b[38;5;241m.\u001b[39m_persistent:\n\u001b[1;32m   1121\u001b[0m   \u001b[38;5;66;03m# Keep track of watched variables before setting tape to None\u001b[39;00m\n\u001b[1;32m   1122\u001b[0m   \u001b[38;5;28mself\u001b[39m\u001b[38;5;241m.\u001b[39m_watched_variables \u001b[38;5;241m=\u001b[39m \u001b[38;5;28mself\u001b[39m\u001b[38;5;241m.\u001b[39m_tape\u001b[38;5;241m.\u001b[39mwatched_variables()\n",
      "File \u001b[0;32m~/miniconda3/envs/tensor/lib/python3.10/site-packages/tensorflow/python/eager/imperative_grad.py:67\u001b[0m, in \u001b[0;36mimperative_grad\u001b[0;34m(tape, target, sources, output_gradients, sources_raw, unconnected_gradients)\u001b[0m\n\u001b[1;32m     63\u001b[0m \u001b[38;5;28;01mexcept\u001b[39;00m \u001b[38;5;167;01mValueError\u001b[39;00m:\n\u001b[1;32m     64\u001b[0m   \u001b[38;5;28;01mraise\u001b[39;00m \u001b[38;5;167;01mValueError\u001b[39;00m(\n\u001b[1;32m     65\u001b[0m       \u001b[38;5;124m\"\u001b[39m\u001b[38;5;124mUnknown value for unconnected_gradients: \u001b[39m\u001b[38;5;132;01m%r\u001b[39;00m\u001b[38;5;124m\"\u001b[39m \u001b[38;5;241m%\u001b[39m unconnected_gradients)\n\u001b[0;32m---> 67\u001b[0m \u001b[38;5;28;01mreturn\u001b[39;00m \u001b[43mpywrap_tfe\u001b[49m\u001b[38;5;241;43m.\u001b[39;49m\u001b[43mTFE_Py_TapeGradient\u001b[49m\u001b[43m(\u001b[49m\n\u001b[1;32m     68\u001b[0m \u001b[43m    \u001b[49m\u001b[43mtape\u001b[49m\u001b[38;5;241;43m.\u001b[39;49m\u001b[43m_tape\u001b[49m\u001b[43m,\u001b[49m\u001b[43m  \u001b[49m\u001b[38;5;66;43;03m# pylint: disable=protected-access\u001b[39;49;00m\n\u001b[1;32m     69\u001b[0m \u001b[43m    \u001b[49m\u001b[43mtarget\u001b[49m\u001b[43m,\u001b[49m\n\u001b[1;32m     70\u001b[0m \u001b[43m    \u001b[49m\u001b[43msources\u001b[49m\u001b[43m,\u001b[49m\n\u001b[1;32m     71\u001b[0m \u001b[43m    \u001b[49m\u001b[43moutput_gradients\u001b[49m\u001b[43m,\u001b[49m\n\u001b[1;32m     72\u001b[0m \u001b[43m    \u001b[49m\u001b[43msources_raw\u001b[49m\u001b[43m,\u001b[49m\n\u001b[1;32m     73\u001b[0m \u001b[43m    \u001b[49m\u001b[43mcompat\u001b[49m\u001b[38;5;241;43m.\u001b[39;49m\u001b[43mas_str\u001b[49m\u001b[43m(\u001b[49m\u001b[43munconnected_gradients\u001b[49m\u001b[38;5;241;43m.\u001b[39;49m\u001b[43mvalue\u001b[49m\u001b[43m)\u001b[49m\u001b[43m)\u001b[49m\n",
      "File \u001b[0;32m~/miniconda3/envs/tensor/lib/python3.10/site-packages/tensorflow/python/eager/backprop.py:157\u001b[0m, in \u001b[0;36m_gradient_function\u001b[0;34m(op_name, attr_tuple, num_inputs, inputs, outputs, out_grads, skip_input_indices, forward_pass_name_scope)\u001b[0m\n\u001b[1;32m    155\u001b[0m     gradient_name_scope \u001b[38;5;241m+\u001b[39m\u001b[38;5;241m=\u001b[39m forward_pass_name_scope \u001b[38;5;241m+\u001b[39m \u001b[38;5;124m\"\u001b[39m\u001b[38;5;124m/\u001b[39m\u001b[38;5;124m\"\u001b[39m\n\u001b[1;32m    156\u001b[0m   \u001b[38;5;28;01mwith\u001b[39;00m ops\u001b[38;5;241m.\u001b[39mname_scope(gradient_name_scope):\n\u001b[0;32m--> 157\u001b[0m     \u001b[38;5;28;01mreturn\u001b[39;00m \u001b[43mgrad_fn\u001b[49m\u001b[43m(\u001b[49m\u001b[43mmock_op\u001b[49m\u001b[43m,\u001b[49m\u001b[43m \u001b[49m\u001b[38;5;241;43m*\u001b[39;49m\u001b[43mout_grads\u001b[49m\u001b[43m)\u001b[49m\n\u001b[1;32m    158\u001b[0m \u001b[38;5;28;01melse\u001b[39;00m:\n\u001b[1;32m    159\u001b[0m   \u001b[38;5;28;01mreturn\u001b[39;00m grad_fn(mock_op, \u001b[38;5;241m*\u001b[39mout_grads)\n",
      "File \u001b[0;32m~/miniconda3/envs/tensor/lib/python3.10/site-packages/tensorflow/python/ops/math_grad.py:1736\u001b[0m, in \u001b[0;36m_MatMulGrad\u001b[0;34m(op, grad)\u001b[0m\n\u001b[1;32m   1734\u001b[0m b \u001b[38;5;241m=\u001b[39m math_ops\u001b[38;5;241m.\u001b[39mconj(op\u001b[38;5;241m.\u001b[39minputs[\u001b[38;5;241m1\u001b[39m])\n\u001b[1;32m   1735\u001b[0m \u001b[38;5;28;01mif\u001b[39;00m \u001b[38;5;129;01mnot\u001b[39;00m t_a \u001b[38;5;129;01mand\u001b[39;00m \u001b[38;5;129;01mnot\u001b[39;00m t_b:\n\u001b[0;32m-> 1736\u001b[0m   grad_a \u001b[38;5;241m=\u001b[39m \u001b[43mgen_math_ops\u001b[49m\u001b[38;5;241;43m.\u001b[39;49m\u001b[43mmat_mul\u001b[49m\u001b[43m(\u001b[49m\u001b[43mgrad\u001b[49m\u001b[43m,\u001b[49m\u001b[43m \u001b[49m\u001b[43mb\u001b[49m\u001b[43m,\u001b[49m\u001b[43m \u001b[49m\u001b[43mtranspose_b\u001b[49m\u001b[38;5;241;43m=\u001b[39;49m\u001b[38;5;28;43;01mTrue\u001b[39;49;00m\u001b[43m)\u001b[49m\n\u001b[1;32m   1737\u001b[0m   grad_b \u001b[38;5;241m=\u001b[39m gen_math_ops\u001b[38;5;241m.\u001b[39mmat_mul(a, grad, transpose_a\u001b[38;5;241m=\u001b[39m\u001b[38;5;28;01mTrue\u001b[39;00m)\n\u001b[1;32m   1738\u001b[0m \u001b[38;5;28;01melif\u001b[39;00m \u001b[38;5;129;01mnot\u001b[39;00m t_a \u001b[38;5;129;01mand\u001b[39;00m t_b:\n",
      "File \u001b[0;32m~/miniconda3/envs/tensor/lib/python3.10/site-packages/tensorflow/python/ops/gen_math_ops.py:6014\u001b[0m, in \u001b[0;36mmat_mul\u001b[0;34m(a, b, transpose_a, transpose_b, name)\u001b[0m\n\u001b[1;32m   6012\u001b[0m \u001b[38;5;28;01mif\u001b[39;00m tld\u001b[38;5;241m.\u001b[39mis_eager:\n\u001b[1;32m   6013\u001b[0m   \u001b[38;5;28;01mtry\u001b[39;00m:\n\u001b[0;32m-> 6014\u001b[0m     _result \u001b[38;5;241m=\u001b[39m \u001b[43mpywrap_tfe\u001b[49m\u001b[38;5;241;43m.\u001b[39;49m\u001b[43mTFE_Py_FastPathExecute\u001b[49m\u001b[43m(\u001b[49m\n\u001b[1;32m   6015\u001b[0m \u001b[43m      \u001b[49m\u001b[43m_ctx\u001b[49m\u001b[43m,\u001b[49m\u001b[43m \u001b[49m\u001b[38;5;124;43m\"\u001b[39;49m\u001b[38;5;124;43mMatMul\u001b[39;49m\u001b[38;5;124;43m\"\u001b[39;49m\u001b[43m,\u001b[49m\u001b[43m \u001b[49m\u001b[43mname\u001b[49m\u001b[43m,\u001b[49m\u001b[43m \u001b[49m\u001b[43ma\u001b[49m\u001b[43m,\u001b[49m\u001b[43m \u001b[49m\u001b[43mb\u001b[49m\u001b[43m,\u001b[49m\u001b[43m \u001b[49m\u001b[38;5;124;43m\"\u001b[39;49m\u001b[38;5;124;43mtranspose_a\u001b[39;49m\u001b[38;5;124;43m\"\u001b[39;49m\u001b[43m,\u001b[49m\u001b[43m \u001b[49m\u001b[43mtranspose_a\u001b[49m\u001b[43m,\u001b[49m\u001b[43m \u001b[49m\u001b[38;5;124;43m\"\u001b[39;49m\u001b[38;5;124;43mtranspose_b\u001b[39;49m\u001b[38;5;124;43m\"\u001b[39;49m\u001b[43m,\u001b[49m\n\u001b[1;32m   6016\u001b[0m \u001b[43m      \u001b[49m\u001b[43mtranspose_b\u001b[49m\u001b[43m)\u001b[49m\n\u001b[1;32m   6017\u001b[0m     \u001b[38;5;28;01mreturn\u001b[39;00m _result\n\u001b[1;32m   6018\u001b[0m   \u001b[38;5;28;01mexcept\u001b[39;00m _core\u001b[38;5;241m.\u001b[39m_NotOkStatusException \u001b[38;5;28;01mas\u001b[39;00m e:\n",
      "\u001b[0;31mKeyboardInterrupt\u001b[0m: "
     ]
    }
   ],
   "source": [
    "import data_processing as dp\n",
    "import tensorflow as tf\n",
    "from model import MyModel\n",
    "from training_loop import training_loop\n",
    "\n",
    "# variables from prepare, do not change, or otherwise prepare newly\n",
    "original_file_path = \"data/HP1.txt\"\n",
    "prepared_file_path = \"data/prepared_HP1.txt\"\n",
    "model_prefix = 'tokenizer_model'\n",
    "# Define where to save the log and model\n",
    "config_name = \"run2_HP_100epochs\"\n",
    "train_summary_writer = tf.summary.create_file_writer(f\"logs/{config_name}/train\")\n",
    "VOCABULARY_SIZE = 2000 # 2000 - 7000\n",
    "WINDOW_SIZE = 32 # 32 - 256\n",
    "BATCH_SIZE = 64\n",
    "EMBEDDING_DIM = 100 # 64 - 256\n",
    "NUM_HEADS = 2 # 2-4\n",
    "FIRST_UNIT = 64 # 32-256\n",
    "\n",
    "starting_prompt = \"harry potter\"\n",
    "EPOCHS_start = 91 # only needed if you want to continue training\n",
    "EPOCHS_end = 600 # 100 - 600\n",
    "TEST_OUTPUT_LENGTH = 30\n",
    "TOP_K = 20\n",
    "\n",
    "# important: tokenizer, optimizer, loss_function, VOCABULARY_SIZE, WINDOW_SIZE, EMBEDDING_DIM, NUM_HEADS, FIRST_UNIT\n",
    "# create file of model, add all the important data to it\n",
    "with open(f\"text/{config_name}.txt\", \"a\") as f:\n",
    "    f.write(f\"CONFIG: {config_name}\\nEPOCHS: {EPOCHS_start} - {EPOCHS_end}\\ndata: {prepared_file_path}\\n\\nvocabulary size: {VOCABULARY_SIZE}\\nwindow size: {WINDOW_SIZE}\\nembedding dim: {EMBEDDING_DIM}\\nnum heads: {NUM_HEADS}\\nfirst unit: {FIRST_UNIT}\\n\\n\")\n",
    "\n",
    "# variables for the model\n",
    "optimizer = tf.keras.optimizers.Adam(learning_rate = 0.001)\n",
    "loss_function = tf.keras.losses.CategoricalCrossentropy(from_logits = True)\n",
    "\n",
    "# Data creation\n",
    "#**************\n",
    "\n",
    "# prepare if you want to create a new tokenizer and a new prepared data file\n",
    "#data, prepared_data, tokenizer = dp.prepare_everything(original_file_path,prepared_file_path,model_prefix,VOCABULARY_SIZE)\n",
    "\n",
    "# if you only want to create a new tokenizer first, use loading afterwards\n",
    "# dp.train_tokenizer(prepared_file_path,VOCABULARY_SIZE,model_prefix)\n",
    "\n",
    "# load everything if already prepared\n",
    "data, prepared_data, tokenizer = dp.load_everything(original_file_path,prepared_file_path,model_prefix)\n",
    "\n",
    "dataset = dp.create_dataset(prepared_data,tokenizer,WINDOW_SIZE, BATCH_SIZE)\n",
    "\n",
    "# Model and training\n",
    "#*******************\n",
    "\n",
    "model = MyModel(tokenizer, optimizer, loss_function, VOCABULARY_SIZE, WINDOW_SIZE, EMBEDDING_DIM, NUM_HEADS, FIRST_UNIT)\n",
    "model.generate_text(\"hello dear,\", 1, 2)\n",
    "model.load_weights(f'model/{config_name}/90')\n",
    "\n",
    "training_loop(model,dataset,EPOCHS_start, EPOCHS_end,starting_prompt, TEST_OUTPUT_LENGTH, TOP_K, train_summary_writer,config_name)\n",
    "\n"
   ]
  },
  {
   "cell_type": "code",
   "execution_count": 2,
   "id": "b87bde8a-7bbb-413f-9e49-6cc86a1eb6b2",
   "metadata": {},
   "outputs": [
    {
     "data": {
      "text/html": [
       "\n",
       "      <iframe id=\"tensorboard-frame-fd3e53188bb76654\" width=\"100%\" height=\"800\" frameborder=\"0\">\n",
       "      </iframe>\n",
       "      <script>\n",
       "        (function() {\n",
       "          const frame = document.getElementById(\"tensorboard-frame-fd3e53188bb76654\");\n",
       "          const url = new URL(\"/\", window.location);\n",
       "          const port = 6006;\n",
       "          if (port) {\n",
       "            url.port = port;\n",
       "          }\n",
       "          frame.src = url;\n",
       "        })();\n",
       "      </script>\n",
       "    "
      ],
      "text/plain": [
       "<IPython.core.display.HTML object>"
      ]
     },
     "metadata": {},
     "output_type": "display_data"
    }
   ],
   "source": [
    "%load_ext tensorboard\n",
    "%tensorboard --logdir=\"logs/\""
   ]
  },
  {
   "cell_type": "code",
   "execution_count": null,
   "id": "ed4d44b3-7570-49c9-8e5b-cfd57751dec3",
   "metadata": {},
   "outputs": [],
   "source": []
  }
 ],
 "metadata": {
  "kernelspec": {
   "display_name": "Python 3 (ipykernel)",
   "language": "python",
   "name": "python3"
  },
  "language_info": {
   "codemirror_mode": {
    "name": "ipython",
    "version": 3
   },
   "file_extension": ".py",
   "mimetype": "text/x-python",
   "name": "python",
   "nbconvert_exporter": "python",
   "pygments_lexer": "ipython3",
   "version": "3.10.8"
  }
 },
 "nbformat": 4,
 "nbformat_minor": 5
}
