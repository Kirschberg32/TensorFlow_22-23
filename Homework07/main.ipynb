{
 "cells": [
  {
   "cell_type": "code",
   "execution_count": 2,
   "id": "b6171350-bf14-4e11-8d40-03df2b31a812",
   "metadata": {},
   "outputs": [
    {
     "name": "stderr",
     "output_type": "stream",
     "text": [
      "C:\\Users\\eosan\\AppData\\Local\\Packages\\PythonSoftwareFoundation.Python.3.8_qbz5n2kfra8p0\\LocalCache\\local-packages\\Python38\\site-packages\\tqdm\\auto.py:22: TqdmWarning: IProgress not found. Please update jupyter and ipywidgets. See https://ipywidgets.readthedocs.io/en/stable/user_install.html\n",
      "  from .autonotebook import tqdm as notebook_tqdm\n"
     ]
    },
    {
     "name": "stdout",
     "output_type": "stream",
     "text": [
      "Epoch 1/15\n",
      "157/157 [==============================] - 31s 182ms/step - loss: 34.3866 - accuracy: 0.0000e+00 - val_loss: 33.5080 - val_accuracy: 0.0000e+00\n",
      "Epoch 2/15\n",
      "157/157 [==============================] - 27s 173ms/step - loss: 31.0668 - accuracy: 0.0000e+00 - val_loss: 28.0947 - val_accuracy: 0.0000e+00\n",
      "Epoch 3/15\n",
      " 44/157 [=======>......................] - ETA: 19s - loss: 28.2772 - accuracy: 0.0000e+00"
     ]
    }
   ],
   "source": [
    "import get_data\n",
    "from model import MyLSTMModel\n",
    "import tensorflow_datasets as tfds\n",
    "import tensorflow as tf\n",
    "\n",
    "optimizer = tf.keras.optimizers.Adam(learning_rate=1e-3)\n",
    "loss = tf.keras.losses.MeanSquaredError()\n",
    "epochs = 15\n",
    "batch_size = 64\n",
    "sequence = 6\n",
    "lstm_units = 15\n",
    "\n",
    "# get and prepare data and model\n",
    "(training_data, val_data ) , ds_info = get_data.load_data(False) # True\n",
    "#training_data = training_data.take(2000) # \n",
    "training_data = get_data.data_preprocess(training_data, batch_size = batch_size,sequence = sequence)\n",
    "val_data = get_data.data_preprocess(val_data, batch_size = batch_size, sequence = sequence)\n",
    "\n",
    "model = MyLSTMModel(total_input_shape = (batch_size, sequence, 28,28,1), lstm_units = lstm_units, output_units = 1)\n",
    "\n",
    "# compile the model (here, adding a loss function and an optimizer)\n",
    "model.compile(optimizer = optimizer, loss=loss)\n",
    "\n",
    "logging_callback = tf.keras.callbacks.TensorBoard(log_dir=\"./logs/run2\")\n",
    "\n",
    "history = model.fit(training_data, validation_data = val_data, epochs=epochs, batch_size=batch_size, callbacks=[logging_callback])\n",
    "\n",
    "model.save(\"saved_model/run2\")\n",
    "\n",
    "plt.plot(history.history[\"loss\"])\n",
    "plt.plot(history.history[\"val_loss\"])\n",
    "plt.legend(labels=[\"training\",\"validation\"])\n",
    "plt.xlabel(\"Epoch\")\n",
    "plt.ylabel(\"Mean Squared Error\")\n",
    "plt.show()"
   ]
  },
  {
   "cell_type": "code",
   "execution_count": null,
   "id": "2e40d630-0c92-4bdf-aab8-3041b744d2db",
   "metadata": {},
   "outputs": [],
   "source": [
    "%load_ext tensorboard"
   ]
  },
  {
   "cell_type": "code",
   "execution_count": null,
   "id": "fd28ec9b-594f-4afe-8e8a-d7433a4ad494",
   "metadata": {},
   "outputs": [],
   "source": [
    "\n",
    "\n",
    "%tensorboard --logdir=\"logs/run1\"\n",
    "\n"
   ]
  },
  {
   "cell_type": "code",
   "execution_count": null,
   "id": "f97cc6ec-d5e2-4d2d-8781-b08abafa332b",
   "metadata": {},
   "outputs": [],
   "source": []
  },
  {
   "cell_type": "code",
   "execution_count": null,
   "id": "5b7c5966-d51c-479d-9e99-b29502d30f57",
   "metadata": {},
   "outputs": [],
   "source": []
  }
 ],
 "metadata": {
  "kernelspec": {
   "display_name": "Python 3",
   "language": "python",
   "name": "python3"
  },
  "language_info": {
   "codemirror_mode": {
    "name": "ipython",
    "version": 3
   },
   "file_extension": ".py",
   "mimetype": "text/x-python",
   "name": "python",
   "nbconvert_exporter": "python",
   "pygments_lexer": "ipython3",
   "version": "3.8.10"
  },
  "vscode": {
   "interpreter": {
    "hash": "fc1d0feb4753dbff4e13108373da06d3c8e279e8b23ae8a2a94c3e58989306d5"
   }
  }
 },
 "nbformat": 4,
 "nbformat_minor": 5
}
